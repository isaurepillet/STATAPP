{
 "cells": [
  {
   "cell_type": "markdown",
   "metadata": {},
   "source": [
    "# Exploration des fichiers "
   ]
  },
  {
   "cell_type": "code",
   "execution_count": 1,
   "metadata": {},
   "outputs": [
    {
     "data": {
      "text/plain": [
       "'/home/onyxia/STATAPP'"
      ]
     },
     "execution_count": 1,
     "metadata": {},
     "output_type": "execute_result"
    }
   ],
   "source": [
    "import os \n",
    "os.getcwd()"
   ]
  },
  {
   "cell_type": "code",
   "execution_count": 3,
   "metadata": {},
   "outputs": [
    {
     "name": "stdout",
     "output_type": "stream",
     "text": [
      "données/:\n",
      "dpe-france.csv\tvaleursfoncieres-2020.txt\n"
     ]
    }
   ],
   "source": [
    "!ls -R données/"
   ]
  },
  {
   "cell_type": "markdown",
   "metadata": {},
   "source": [
    "## Exploration du fichier dpe-france.csv\n"
   ]
  },
  {
   "cell_type": "code",
   "execution_count": 4,
   "metadata": {},
   "outputs": [
    {
     "data": {
      "text/plain": [
       "Index(['numero_dpe', 'nom_methode_dpe', 'version_methode_dpe',\n",
       "       'date_etablissement_dpe', 'consommation_energie',\n",
       "       'classe_consommation_energie', 'estimation_ges',\n",
       "       'classe_estimation_ges', 'annee_construction', 'surface_thermique_lot',\n",
       "       'latitude', 'longitude', 'tr001_modele_dpe_type_libelle',\n",
       "       'tr002_type_batiment_description', 'code_insee_commune_actualise',\n",
       "       'tv016_departement_code', 'geo_adresse', 'geo_score'],\n",
       "      dtype='object')"
      ]
     },
     "execution_count": 4,
     "metadata": {},
     "output_type": "execute_result"
    }
   ],
   "source": [
    "import pandas as pd\n",
    "\n",
    "df_dpe = pd.read_csv(\"données/dpe-france.csv\", sep=\",\", low_memory=False)\n",
    "df_dpe.head()\n",
    "df_dpe.columns\n"
   ]
  },
  {
   "cell_type": "markdown",
   "metadata": {},
   "source": [
    "## Exploration du fichier valeursfoncieres-2020.txt\n"
   ]
  },
  {
   "cell_type": "code",
   "execution_count": 5,
   "metadata": {},
   "outputs": [
    {
     "data": {
      "text/plain": [
       "Index(['Identifiant de document', 'Reference document', '1 Articles CGI',\n",
       "       '2 Articles CGI', '3 Articles CGI', '4 Articles CGI', '5 Articles CGI',\n",
       "       'No disposition', 'Date mutation', 'Nature mutation', 'Valeur fonciere',\n",
       "       'No voie', 'B/T/Q', 'Type de voie', 'Code voie', 'Voie', 'Code postal',\n",
       "       'Commune', 'Code departement', 'Code commune', 'Prefixe de section',\n",
       "       'Section', 'No plan', 'No Volume', '1er lot',\n",
       "       'Surface Carrez du 1er lot', '2eme lot', 'Surface Carrez du 2eme lot',\n",
       "       '3eme lot', 'Surface Carrez du 3eme lot', '4eme lot',\n",
       "       'Surface Carrez du 4eme lot', '5eme lot', 'Surface Carrez du 5eme lot',\n",
       "       'Nombre de lots', 'Code type local', 'Type local', 'Identifiant local',\n",
       "       'Surface reelle bati', 'Nombre pieces principales', 'Nature culture',\n",
       "       'Nature culture speciale', 'Surface terrain'],\n",
       "      dtype='object')"
      ]
     },
     "execution_count": 5,
     "metadata": {},
     "output_type": "execute_result"
    }
   ],
   "source": [
    "df_valeurs = pd.read_csv(\"données/valeursfoncieres-2020.txt\", sep=\"|\", low_memory=False)\n",
    "df_valeurs.head()\n",
    "df_valeurs.columns"
   ]
  },
  {
   "cell_type": "markdown",
   "metadata": {},
   "source": [
    "## Filtrer les données pour le département 44\n"
   ]
  },
  {
   "cell_type": "code",
   "execution_count": 6,
   "metadata": {},
   "outputs": [
    {
     "data": {
      "text/plain": [
       "array(['74', '56', '19', '86', '13', '66', '72', '35', '40', '64', '14',\n",
       "       '10', '38', '23', '24', '82', '78', '49', '95', '18', '67', '02',\n",
       "       '42', '62', '05', '54', '87', '89', '76', '2B', '11', '84', '16',\n",
       "       '65', '60', '25', '03', '57', '01', '52', '45', '30', '04', '83',\n",
       "       '91', '44', '33', '88', '77', '32', '73', '27', '34', '15', '07',\n",
       "       '50', '43', '22', '79', '17', '69', '61', '63', '36', '12', '55',\n",
       "       '29', '53', '68', '51', '93', '06', '90', '09', '26', '59', '85',\n",
       "       '2A', '21', '48', '71', '94', '47', '80', '46', '58', '31', '75',\n",
       "       '39', '28', '41', '81', '92', '37', '70', '08'], dtype=object)"
      ]
     },
     "execution_count": 6,
     "metadata": {},
     "output_type": "execute_result"
    }
   ],
   "source": [
    "df_dpe[\"tv016_departement_code\"].unique()\n",
    "\n"
   ]
  },
  {
   "cell_type": "code",
   "execution_count": 7,
   "metadata": {},
   "outputs": [
    {
     "data": {
      "text/plain": [
       "(283629, 18)"
      ]
     },
     "execution_count": 7,
     "metadata": {},
     "output_type": "execute_result"
    }
   ],
   "source": [
    "df_dpe_44 = df_dpe[df_dpe[\"tv016_departement_code\"] == \"44\"]\n",
    "df_dpe_44.shape\n"
   ]
  },
  {
   "cell_type": "code",
   "execution_count": 8,
   "metadata": {},
   "outputs": [
    {
     "data": {
      "text/plain": [
       "45                     3 Chemin Poisson 44100 Nantes\n",
       "146                                              NaN\n",
       "287        3 Rue Sainte-anne 44450 Divatte-sur-Loire\n",
       "329                2 Route de Carquefou 44300 Nantes\n",
       "462                                              NaN\n",
       "570       7 Rue Suzanne Lenglen 44800 Saint-Herblain\n",
       "632                                              NaN\n",
       "765                6 Rue Henri Gautier 44220 Couëron\n",
       "850                                              NaN\n",
       "912    Rue du champ de foire 44650 Corcoué-sur-Logne\n",
       "Name: geo_adresse, dtype: object"
      ]
     },
     "execution_count": 8,
     "metadata": {},
     "output_type": "execute_result"
    }
   ],
   "source": [
    "df_dpe_44[\"geo_adresse\"].head(10)\n"
   ]
  },
  {
   "cell_type": "markdown",
   "metadata": {},
   "source": [
    "## Filtrer df_valeurs pour le département 44 et df_dpe_44 pour 2020\n"
   ]
  },
  {
   "cell_type": "code",
   "execution_count": 9,
   "metadata": {},
   "outputs": [
    {
     "data": {
      "text/plain": [
       "(82779, 43)"
      ]
     },
     "execution_count": 9,
     "metadata": {},
     "output_type": "execute_result"
    }
   ],
   "source": [
    "# Vérifier la forme de Code departement : \n",
    "# (on suppose que c’est une chaîne, donc \"44\")\n",
    "df_valeurs_44 = df_valeurs[df_valeurs[\"Code departement\"] == \"44\"]\n",
    "\n",
    "df_valeurs_44.shape\n"
   ]
  },
  {
   "cell_type": "code",
   "execution_count": 10,
   "metadata": {},
   "outputs": [
    {
     "data": {
      "text/plain": [
       "45     2013-04-10\n",
       "146    2013-04-09\n",
       "287    2013-04-11\n",
       "329    2013-04-12\n",
       "462    2013-04-14\n",
       "570    2013-04-16\n",
       "632    2013-04-17\n",
       "765    2013-04-17\n",
       "850    2013-04-05\n",
       "912    2013-04-22\n",
       "Name: date_etablissement_dpe, dtype: object"
      ]
     },
     "execution_count": 10,
     "metadata": {},
     "output_type": "execute_result"
    }
   ],
   "source": [
    "df_dpe_44[\"date_etablissement_dpe\"].head(10)\n",
    "\n",
    "\n"
   ]
  },
  {
   "cell_type": "code",
   "execution_count": 11,
   "metadata": {},
   "outputs": [
    {
     "name": "stderr",
     "output_type": "stream",
     "text": [
      "/tmp/ipykernel_15429/819217646.py:1: SettingWithCopyWarning: \n",
      "A value is trying to be set on a copy of a slice from a DataFrame.\n",
      "Try using .loc[row_indexer,col_indexer] = value instead\n",
      "\n",
      "See the caveats in the documentation: https://pandas.pydata.org/pandas-docs/stable/user_guide/indexing.html#returning-a-view-versus-a-copy\n",
      "  df_dpe_44[\"date_etablissement_dpe\"] = pd.to_datetime(df_dpe_44[\"date_etablissement_dpe\"], errors=\"coerce\", dayfirst=True)\n"
     ]
    }
   ],
   "source": [
    "df_dpe_44[\"date_etablissement_dpe\"] = pd.to_datetime(df_dpe_44[\"date_etablissement_dpe\"], errors=\"coerce\", dayfirst=True)\n",
    "\n"
   ]
  },
  {
   "cell_type": "code",
   "execution_count": 12,
   "metadata": {},
   "outputs": [
    {
     "data": {
      "text/plain": [
       "45    2013-10-04\n",
       "146   2013-09-04\n",
       "287   2013-11-04\n",
       "329   2013-12-04\n",
       "462          NaT\n",
       "570          NaT\n",
       "632          NaT\n",
       "765          NaT\n",
       "850   2013-05-04\n",
       "912          NaT\n",
       "Name: date_etablissement_dpe, dtype: datetime64[ns]"
      ]
     },
     "execution_count": 12,
     "metadata": {},
     "output_type": "execute_result"
    }
   ],
   "source": [
    "df_dpe_44[\"date_etablissement_dpe\"].head(10)\n"
   ]
  },
  {
   "cell_type": "code",
   "execution_count": 13,
   "metadata": {},
   "outputs": [
    {
     "name": "stderr",
     "output_type": "stream",
     "text": [
      "/tmp/ipykernel_15429/2785394278.py:1: SettingWithCopyWarning: \n",
      "A value is trying to be set on a copy of a slice from a DataFrame.\n",
      "Try using .loc[row_indexer,col_indexer] = value instead\n",
      "\n",
      "See the caveats in the documentation: https://pandas.pydata.org/pandas-docs/stable/user_guide/indexing.html#returning-a-view-versus-a-copy\n",
      "  df_dpe_44[\"year\"] = df_dpe_44[\"date_etablissement_dpe\"].dt.year\n"
     ]
    },
    {
     "data": {
      "text/plain": [
       "year\n",
       "2011.0        2\n",
       "2012.0        1\n",
       "2013.0     5720\n",
       "2014.0    11592\n",
       "2015.0    11429\n",
       "2016.0    11848\n",
       "2017.0    12044\n",
       "2018.0    14553\n",
       "2019.0    18359\n",
       "2020.0    15837\n",
       "2021.0    10798\n",
       "2022.0        1\n",
       "dtype: int64"
      ]
     },
     "execution_count": 13,
     "metadata": {},
     "output_type": "execute_result"
    }
   ],
   "source": [
    "df_dpe_44[\"year\"] = df_dpe_44[\"date_etablissement_dpe\"].dt.year\n",
    "df_dpe_44.groupby(\"year\").size()\n",
    "\n"
   ]
  },
  {
   "cell_type": "code",
   "execution_count": 14,
   "metadata": {},
   "outputs": [
    {
     "data": {
      "text/plain": [
       "(15837, 19)"
      ]
     },
     "execution_count": 14,
     "metadata": {},
     "output_type": "execute_result"
    }
   ],
   "source": [
    "df_dpe_44_2020 = df_dpe_44[df_dpe_44[\"date_etablissement_dpe\"].dt.year == 2020]\n",
    "df_dpe_44_2020.shape\n"
   ]
  },
  {
   "cell_type": "code",
   "execution_count": 15,
   "metadata": {},
   "outputs": [
    {
     "data": {
      "text/html": [
       "<div>\n",
       "<style scoped>\n",
       "    .dataframe tbody tr th:only-of-type {\n",
       "        vertical-align: middle;\n",
       "    }\n",
       "\n",
       "    .dataframe tbody tr th {\n",
       "        vertical-align: top;\n",
       "    }\n",
       "\n",
       "    .dataframe thead th {\n",
       "        text-align: right;\n",
       "    }\n",
       "</style>\n",
       "<table border=\"1\" class=\"dataframe\">\n",
       "  <thead>\n",
       "    <tr style=\"text-align: right;\">\n",
       "      <th></th>\n",
       "      <th>No voie</th>\n",
       "      <th>B/T/Q</th>\n",
       "      <th>Type de voie</th>\n",
       "      <th>Voie</th>\n",
       "      <th>Code postal</th>\n",
       "      <th>Commune</th>\n",
       "    </tr>\n",
       "  </thead>\n",
       "  <tbody>\n",
       "    <tr>\n",
       "      <th>1566104</th>\n",
       "      <td>2.0</td>\n",
       "      <td>NaN</td>\n",
       "      <td>RUE</td>\n",
       "      <td>LEMOT</td>\n",
       "      <td>44100.0</td>\n",
       "      <td>NANTES</td>\n",
       "    </tr>\n",
       "    <tr>\n",
       "      <th>1566105</th>\n",
       "      <td>2.0</td>\n",
       "      <td>NaN</td>\n",
       "      <td>RUE</td>\n",
       "      <td>LEMOT</td>\n",
       "      <td>44100.0</td>\n",
       "      <td>NANTES</td>\n",
       "    </tr>\n",
       "    <tr>\n",
       "      <th>1566106</th>\n",
       "      <td>4.0</td>\n",
       "      <td>NaN</td>\n",
       "      <td>RUE</td>\n",
       "      <td>RICHER</td>\n",
       "      <td>44100.0</td>\n",
       "      <td>NANTES</td>\n",
       "    </tr>\n",
       "    <tr>\n",
       "      <th>1566107</th>\n",
       "      <td>4.0</td>\n",
       "      <td>NaN</td>\n",
       "      <td>RUE</td>\n",
       "      <td>RICHER</td>\n",
       "      <td>44100.0</td>\n",
       "      <td>NANTES</td>\n",
       "    </tr>\n",
       "    <tr>\n",
       "      <th>1566108</th>\n",
       "      <td>2.0</td>\n",
       "      <td>NaN</td>\n",
       "      <td>ALL</td>\n",
       "      <td>DE L'ORANGERIE</td>\n",
       "      <td>44800.0</td>\n",
       "      <td>ST-HERBLAIN</td>\n",
       "    </tr>\n",
       "    <tr>\n",
       "      <th>1566109</th>\n",
       "      <td>2.0</td>\n",
       "      <td>NaN</td>\n",
       "      <td>ALL</td>\n",
       "      <td>DE L'ORANGERIE</td>\n",
       "      <td>44800.0</td>\n",
       "      <td>ST-HERBLAIN</td>\n",
       "    </tr>\n",
       "    <tr>\n",
       "      <th>1566110</th>\n",
       "      <td>2.0</td>\n",
       "      <td>NaN</td>\n",
       "      <td>ALL</td>\n",
       "      <td>DE L'ORANGERIE</td>\n",
       "      <td>44800.0</td>\n",
       "      <td>ST-HERBLAIN</td>\n",
       "    </tr>\n",
       "    <tr>\n",
       "      <th>1566111</th>\n",
       "      <td>92.0</td>\n",
       "      <td>NaN</td>\n",
       "      <td>RUE</td>\n",
       "      <td>D ALLONVILLE</td>\n",
       "      <td>44000.0</td>\n",
       "      <td>NANTES</td>\n",
       "    </tr>\n",
       "    <tr>\n",
       "      <th>1566112</th>\n",
       "      <td>35.0</td>\n",
       "      <td>NaN</td>\n",
       "      <td>AV</td>\n",
       "      <td>DES EPAGNEULS</td>\n",
       "      <td>44300.0</td>\n",
       "      <td>NANTES</td>\n",
       "    </tr>\n",
       "    <tr>\n",
       "      <th>1566113</th>\n",
       "      <td>19.0</td>\n",
       "      <td>NaN</td>\n",
       "      <td>RUE</td>\n",
       "      <td>GALILEE</td>\n",
       "      <td>44100.0</td>\n",
       "      <td>NANTES</td>\n",
       "    </tr>\n",
       "  </tbody>\n",
       "</table>\n",
       "</div>"
      ],
      "text/plain": [
       "         No voie B/T/Q Type de voie            Voie  Code postal      Commune\n",
       "1566104      2.0   NaN          RUE           LEMOT      44100.0       NANTES\n",
       "1566105      2.0   NaN          RUE           LEMOT      44100.0       NANTES\n",
       "1566106      4.0   NaN          RUE          RICHER      44100.0       NANTES\n",
       "1566107      4.0   NaN          RUE          RICHER      44100.0       NANTES\n",
       "1566108      2.0   NaN          ALL  DE L'ORANGERIE      44800.0  ST-HERBLAIN\n",
       "1566109      2.0   NaN          ALL  DE L'ORANGERIE      44800.0  ST-HERBLAIN\n",
       "1566110      2.0   NaN          ALL  DE L'ORANGERIE      44800.0  ST-HERBLAIN\n",
       "1566111     92.0   NaN          RUE    D ALLONVILLE      44000.0       NANTES\n",
       "1566112     35.0   NaN           AV   DES EPAGNEULS      44300.0       NANTES\n",
       "1566113     19.0   NaN          RUE         GALILEE      44100.0       NANTES"
      ]
     },
     "execution_count": 15,
     "metadata": {},
     "output_type": "execute_result"
    }
   ],
   "source": [
    "df_valeurs_44[[\"No voie\", \"B/T/Q\", \"Type de voie\", \"Voie\", \"Code postal\", \"Commune\"]].head(10)\n"
   ]
  },
  {
   "cell_type": "code",
   "execution_count": 19,
   "metadata": {},
   "outputs": [
    {
     "name": "stderr",
     "output_type": "stream",
     "text": [
      "/tmp/ipykernel_15429/786399069.py:1: SettingWithCopyWarning: \n",
      "A value is trying to be set on a copy of a slice from a DataFrame.\n",
      "Try using .loc[row_indexer,col_indexer] = value instead\n",
      "\n",
      "See the caveats in the documentation: https://pandas.pydata.org/pandas-docs/stable/user_guide/indexing.html#returning-a-view-versus-a-copy\n",
      "  df_valeurs_44['adresse_complete'] = (\n",
      "/tmp/ipykernel_15429/786399069.py:10: SettingWithCopyWarning: \n",
      "A value is trying to be set on a copy of a slice from a DataFrame.\n",
      "Try using .loc[row_indexer,col_indexer] = value instead\n",
      "\n",
      "See the caveats in the documentation: https://pandas.pydata.org/pandas-docs/stable/user_guide/indexing.html#returning-a-view-versus-a-copy\n",
      "  df_valeurs_44['adresse_complete'] = df_valeurs_44['adresse_complete'].str.replace(r'\\s+', ' ', regex=True).str.strip()\n"
     ]
    }
   ],
   "source": [
    "df_valeurs_44['adresse_complete'] = (\n",
    "    df_valeurs_44['No voie'].fillna('').astype(str) + ' ' +\n",
    "    df_valeurs_44['Type de voie'].fillna('') + ' ' +\n",
    "    df_valeurs_44['Voie'].fillna('') + ' ' +\n",
    "    df_valeurs_44['Code postal'].fillna('').astype(str) + ' ' +\n",
    "    df_valeurs_44['Commune'].fillna('')\n",
    ")\n",
    "\n",
    "# On peut ensuite nettoyer les espaces multiples :\n",
    "df_valeurs_44['adresse_complete'] = df_valeurs_44['adresse_complete'].str.replace(r'\\s+', ' ', regex=True).str.strip()\n"
   ]
  },
  {
   "cell_type": "code",
   "execution_count": 21,
   "metadata": {},
   "outputs": [
    {
     "data": {
      "text/html": [
       "<div>\n",
       "<style scoped>\n",
       "    .dataframe tbody tr th:only-of-type {\n",
       "        vertical-align: middle;\n",
       "    }\n",
       "\n",
       "    .dataframe tbody tr th {\n",
       "        vertical-align: top;\n",
       "    }\n",
       "\n",
       "    .dataframe thead th {\n",
       "        text-align: right;\n",
       "    }\n",
       "</style>\n",
       "<table border=\"1\" class=\"dataframe\">\n",
       "  <thead>\n",
       "    <tr style=\"text-align: right;\">\n",
       "      <th></th>\n",
       "      <th>No voie</th>\n",
       "      <th>Type de voie</th>\n",
       "      <th>Voie</th>\n",
       "      <th>Code postal</th>\n",
       "      <th>Commune</th>\n",
       "      <th>adresse_complete</th>\n",
       "    </tr>\n",
       "  </thead>\n",
       "  <tbody>\n",
       "    <tr>\n",
       "      <th>1566104</th>\n",
       "      <td>2.0</td>\n",
       "      <td>RUE</td>\n",
       "      <td>LEMOT</td>\n",
       "      <td>44100.0</td>\n",
       "      <td>NANTES</td>\n",
       "      <td>2.0 RUE LEMOT 44100.0 NANTES</td>\n",
       "    </tr>\n",
       "    <tr>\n",
       "      <th>1566105</th>\n",
       "      <td>2.0</td>\n",
       "      <td>RUE</td>\n",
       "      <td>LEMOT</td>\n",
       "      <td>44100.0</td>\n",
       "      <td>NANTES</td>\n",
       "      <td>2.0 RUE LEMOT 44100.0 NANTES</td>\n",
       "    </tr>\n",
       "    <tr>\n",
       "      <th>1566106</th>\n",
       "      <td>4.0</td>\n",
       "      <td>RUE</td>\n",
       "      <td>RICHER</td>\n",
       "      <td>44100.0</td>\n",
       "      <td>NANTES</td>\n",
       "      <td>4.0 RUE RICHER 44100.0 NANTES</td>\n",
       "    </tr>\n",
       "    <tr>\n",
       "      <th>1566107</th>\n",
       "      <td>4.0</td>\n",
       "      <td>RUE</td>\n",
       "      <td>RICHER</td>\n",
       "      <td>44100.0</td>\n",
       "      <td>NANTES</td>\n",
       "      <td>4.0 RUE RICHER 44100.0 NANTES</td>\n",
       "    </tr>\n",
       "    <tr>\n",
       "      <th>1566108</th>\n",
       "      <td>2.0</td>\n",
       "      <td>ALL</td>\n",
       "      <td>DE L'ORANGERIE</td>\n",
       "      <td>44800.0</td>\n",
       "      <td>ST-HERBLAIN</td>\n",
       "      <td>2.0 ALL DE L'ORANGERIE 44800.0 ST-HERBLAIN</td>\n",
       "    </tr>\n",
       "    <tr>\n",
       "      <th>1566109</th>\n",
       "      <td>2.0</td>\n",
       "      <td>ALL</td>\n",
       "      <td>DE L'ORANGERIE</td>\n",
       "      <td>44800.0</td>\n",
       "      <td>ST-HERBLAIN</td>\n",
       "      <td>2.0 ALL DE L'ORANGERIE 44800.0 ST-HERBLAIN</td>\n",
       "    </tr>\n",
       "    <tr>\n",
       "      <th>1566110</th>\n",
       "      <td>2.0</td>\n",
       "      <td>ALL</td>\n",
       "      <td>DE L'ORANGERIE</td>\n",
       "      <td>44800.0</td>\n",
       "      <td>ST-HERBLAIN</td>\n",
       "      <td>2.0 ALL DE L'ORANGERIE 44800.0 ST-HERBLAIN</td>\n",
       "    </tr>\n",
       "    <tr>\n",
       "      <th>1566111</th>\n",
       "      <td>92.0</td>\n",
       "      <td>RUE</td>\n",
       "      <td>D ALLONVILLE</td>\n",
       "      <td>44000.0</td>\n",
       "      <td>NANTES</td>\n",
       "      <td>92.0 RUE D ALLONVILLE 44000.0 NANTES</td>\n",
       "    </tr>\n",
       "    <tr>\n",
       "      <th>1566112</th>\n",
       "      <td>35.0</td>\n",
       "      <td>AV</td>\n",
       "      <td>DES EPAGNEULS</td>\n",
       "      <td>44300.0</td>\n",
       "      <td>NANTES</td>\n",
       "      <td>35.0 AV DES EPAGNEULS 44300.0 NANTES</td>\n",
       "    </tr>\n",
       "    <tr>\n",
       "      <th>1566113</th>\n",
       "      <td>19.0</td>\n",
       "      <td>RUE</td>\n",
       "      <td>GALILEE</td>\n",
       "      <td>44100.0</td>\n",
       "      <td>NANTES</td>\n",
       "      <td>19.0 RUE GALILEE 44100.0 NANTES</td>\n",
       "    </tr>\n",
       "  </tbody>\n",
       "</table>\n",
       "</div>"
      ],
      "text/plain": [
       "         No voie Type de voie            Voie  Code postal      Commune  \\\n",
       "1566104      2.0          RUE           LEMOT      44100.0       NANTES   \n",
       "1566105      2.0          RUE           LEMOT      44100.0       NANTES   \n",
       "1566106      4.0          RUE          RICHER      44100.0       NANTES   \n",
       "1566107      4.0          RUE          RICHER      44100.0       NANTES   \n",
       "1566108      2.0          ALL  DE L'ORANGERIE      44800.0  ST-HERBLAIN   \n",
       "1566109      2.0          ALL  DE L'ORANGERIE      44800.0  ST-HERBLAIN   \n",
       "1566110      2.0          ALL  DE L'ORANGERIE      44800.0  ST-HERBLAIN   \n",
       "1566111     92.0          RUE    D ALLONVILLE      44000.0       NANTES   \n",
       "1566112     35.0           AV   DES EPAGNEULS      44300.0       NANTES   \n",
       "1566113     19.0          RUE         GALILEE      44100.0       NANTES   \n",
       "\n",
       "                                   adresse_complete  \n",
       "1566104                2.0 RUE LEMOT 44100.0 NANTES  \n",
       "1566105                2.0 RUE LEMOT 44100.0 NANTES  \n",
       "1566106               4.0 RUE RICHER 44100.0 NANTES  \n",
       "1566107               4.0 RUE RICHER 44100.0 NANTES  \n",
       "1566108  2.0 ALL DE L'ORANGERIE 44800.0 ST-HERBLAIN  \n",
       "1566109  2.0 ALL DE L'ORANGERIE 44800.0 ST-HERBLAIN  \n",
       "1566110  2.0 ALL DE L'ORANGERIE 44800.0 ST-HERBLAIN  \n",
       "1566111        92.0 RUE D ALLONVILLE 44000.0 NANTES  \n",
       "1566112        35.0 AV DES EPAGNEULS 44300.0 NANTES  \n",
       "1566113             19.0 RUE GALILEE 44100.0 NANTES  "
      ]
     },
     "execution_count": 21,
     "metadata": {},
     "output_type": "execute_result"
    }
   ],
   "source": [
    "df_valeurs_44[['No voie','Type de voie','Voie','Code postal','Commune','adresse_complete']].head(10)"
   ]
  },
  {
   "cell_type": "markdown",
   "metadata": {},
   "source": [
    "## Installation et import de libpostal (pypostal)\n"
   ]
  },
  {
   "cell_type": "markdown",
   "metadata": {},
   "source": [
    "## D'abord on parse "
   ]
  },
  {
   "cell_type": "code",
   "execution_count": 16,
   "metadata": {},
   "outputs": [
    {
     "name": "stdout",
     "output_type": "stream",
     "text": [
      "Collecting postal\n",
      "  Downloading postal-1.1.10.tar.gz (21 kB)\n",
      "  Preparing metadata (setup.py) ... \u001b[?25ldone\n",
      "\u001b[?25hRequirement already satisfied: six in /opt/conda/lib/python3.12/site-packages (from postal) (1.17.0)\n",
      "Building wheels for collected packages: postal\n",
      "  Building wheel for postal (setup.py) ... \u001b[?25ldone\n",
      "\u001b[?25h  Created wheel for postal: filename=postal-1.1.10-cp312-cp312-linux_x86_64.whl size=55944 sha256=89419f6f64699fddbf7cbccafaa1775e4a9f7cd12e3c27192751040603988b88\n",
      "  Stored in directory: /home/onyxia/.cache/pip/wheels/75/17/48/f13e759c377b45483298cd04b48af11eab3b97934267666aa0\n",
      "Successfully built postal\n",
      "Installing collected packages: postal\n",
      "Successfully installed postal-1.1.10\n"
     ]
    }
   ],
   "source": [
    "!pip install postal\n"
   ]
  },
  {
   "cell_type": "code",
   "execution_count": 17,
   "metadata": {},
   "outputs": [],
   "source": [
    "from postal.parser import parse_address\n",
    "from postal.expand import expand_address\n"
   ]
  },
  {
   "cell_type": "code",
   "execution_count": 32,
   "metadata": {},
   "outputs": [
    {
     "name": "stderr",
     "output_type": "stream",
     "text": [
      "/tmp/ipykernel_15429/2197618751.py:11: SettingWithCopyWarning: \n",
      "A value is trying to be set on a copy of a slice from a DataFrame.\n",
      "Try using .loc[row_indexer,col_indexer] = value instead\n",
      "\n",
      "See the caveats in the documentation: https://pandas.pydata.org/pandas-docs/stable/user_guide/indexing.html#returning-a-view-versus-a-copy\n",
      "  df_valeurs_44['adresse_normalisee'] = df_valeurs_44['adresse_complete'].apply(expand_first_version)\n",
      "/tmp/ipykernel_15429/2197618751.py:18: SettingWithCopyWarning: \n",
      "A value is trying to be set on a copy of a slice from a DataFrame.\n",
      "Try using .loc[row_indexer,col_indexer] = value instead\n",
      "\n",
      "See the caveats in the documentation: https://pandas.pydata.org/pandas-docs/stable/user_guide/indexing.html#returning-a-view-versus-a-copy\n",
      "  df_valeurs_44['adresse_parsee_dict'] = df_valeurs_44['adresse_normalisee'].apply(parse_to_dict)\n",
      "/tmp/ipykernel_15429/2197618751.py:20: SettingWithCopyWarning: \n",
      "A value is trying to be set on a copy of a slice from a DataFrame.\n",
      "Try using .loc[row_indexer,col_indexer] = value instead\n",
      "\n",
      "See the caveats in the documentation: https://pandas.pydata.org/pandas-docs/stable/user_guide/indexing.html#returning-a-view-versus-a-copy\n",
      "  df_valeurs_44['house_number'] = df_valeurs_44['adresse_parsee_dict'].apply(lambda x: x.get('house_number', ''))\n",
      "/tmp/ipykernel_15429/2197618751.py:21: SettingWithCopyWarning: \n",
      "A value is trying to be set on a copy of a slice from a DataFrame.\n",
      "Try using .loc[row_indexer,col_indexer] = value instead\n",
      "\n",
      "See the caveats in the documentation: https://pandas.pydata.org/pandas-docs/stable/user_guide/indexing.html#returning-a-view-versus-a-copy\n",
      "  df_valeurs_44['road']         = df_valeurs_44['adresse_parsee_dict'].apply(lambda x: x.get('road', ''))\n",
      "/tmp/ipykernel_15429/2197618751.py:22: SettingWithCopyWarning: \n",
      "A value is trying to be set on a copy of a slice from a DataFrame.\n",
      "Try using .loc[row_indexer,col_indexer] = value instead\n",
      "\n",
      "See the caveats in the documentation: https://pandas.pydata.org/pandas-docs/stable/user_guide/indexing.html#returning-a-view-versus-a-copy\n",
      "  df_valeurs_44['postcode']     = df_valeurs_44['adresse_parsee_dict'].apply(lambda x: x.get('postcode', ''))\n",
      "/tmp/ipykernel_15429/2197618751.py:23: SettingWithCopyWarning: \n",
      "A value is trying to be set on a copy of a slice from a DataFrame.\n",
      "Try using .loc[row_indexer,col_indexer] = value instead\n",
      "\n",
      "See the caveats in the documentation: https://pandas.pydata.org/pandas-docs/stable/user_guide/indexing.html#returning-a-view-versus-a-copy\n",
      "  df_valeurs_44['city']         = df_valeurs_44['adresse_parsee_dict'].apply(lambda x: x.get('city', ''))\n"
     ]
    }
   ],
   "source": [
    "from postal.expand import expand_address\n",
    "from postal.parser import parse_address\n",
    "\n",
    "def expand_first_version(adresse):\n",
    "    expansions = expand_address(adresse, languages=['fr'])\n",
    "    if expansions:\n",
    "        return expansions[0]  # on prend la première version\n",
    "    return adresse\n",
    "\n",
    "# 2) Normaliser avec expand_address\n",
    "df_valeurs_44['adresse_normalisee'] = df_valeurs_44['adresse_complete'].apply(expand_first_version)\n",
    "\n",
    "# 3) Parser l’adresse normalisée\n",
    "def parse_to_dict(adresse):\n",
    "    parsed_list = parse_address(adresse)\n",
    "    return {label: fragment for fragment, label in parsed_list}\n",
    "\n",
    "df_valeurs_44['adresse_parsee_dict'] = df_valeurs_44['adresse_normalisee'].apply(parse_to_dict)\n",
    "\n",
    "df_valeurs_44['house_number'] = df_valeurs_44['adresse_parsee_dict'].apply(lambda x: x.get('house_number', ''))\n",
    "df_valeurs_44['road']         = df_valeurs_44['adresse_parsee_dict'].apply(lambda x: x.get('road', ''))\n",
    "df_valeurs_44['postcode']     = df_valeurs_44['adresse_parsee_dict'].apply(lambda x: x.get('postcode', ''))\n",
    "df_valeurs_44['city']         = df_valeurs_44['adresse_parsee_dict'].apply(lambda x: x.get('city', ''))\n"
   ]
  },
  {
   "cell_type": "code",
   "execution_count": 33,
   "metadata": {},
   "outputs": [
    {
     "data": {
      "text/html": [
       "<div>\n",
       "<style scoped>\n",
       "    .dataframe tbody tr th:only-of-type {\n",
       "        vertical-align: middle;\n",
       "    }\n",
       "\n",
       "    .dataframe tbody tr th {\n",
       "        vertical-align: top;\n",
       "    }\n",
       "\n",
       "    .dataframe thead th {\n",
       "        text-align: right;\n",
       "    }\n",
       "</style>\n",
       "<table border=\"1\" class=\"dataframe\">\n",
       "  <thead>\n",
       "    <tr style=\"text-align: right;\">\n",
       "      <th></th>\n",
       "      <th>Identifiant de document</th>\n",
       "      <th>Reference document</th>\n",
       "      <th>1 Articles CGI</th>\n",
       "      <th>2 Articles CGI</th>\n",
       "      <th>3 Articles CGI</th>\n",
       "      <th>4 Articles CGI</th>\n",
       "      <th>5 Articles CGI</th>\n",
       "      <th>No disposition</th>\n",
       "      <th>Date mutation</th>\n",
       "      <th>Nature mutation</th>\n",
       "      <th>...</th>\n",
       "      <th>house_number</th>\n",
       "      <th>road</th>\n",
       "      <th>postcode</th>\n",
       "      <th>city</th>\n",
       "      <th>road_normalise</th>\n",
       "      <th>house_number_norm</th>\n",
       "      <th>postcode_norm</th>\n",
       "      <th>city_norm</th>\n",
       "      <th>identifiant_comm</th>\n",
       "      <th>adresse_normalisee</th>\n",
       "    </tr>\n",
       "  </thead>\n",
       "  <tbody>\n",
       "    <tr>\n",
       "      <th>1566104</th>\n",
       "      <td>NaN</td>\n",
       "      <td>NaN</td>\n",
       "      <td>NaN</td>\n",
       "      <td>NaN</td>\n",
       "      <td>NaN</td>\n",
       "      <td>NaN</td>\n",
       "      <td>NaN</td>\n",
       "      <td>1</td>\n",
       "      <td>06/01/2020</td>\n",
       "      <td>Vente</td>\n",
       "      <td>...</td>\n",
       "      <td>2.0</td>\n",
       "      <td>rue lemot</td>\n",
       "      <td>44100.0</td>\n",
       "      <td>nantes</td>\n",
       "      <td>rue lemot</td>\n",
       "      <td>2.0</td>\n",
       "      <td>44100.0</td>\n",
       "      <td>nantes</td>\n",
       "      <td>2.0_rue lemot_44100.0_nantes</td>\n",
       "      <td>2.0 rue lemot 44100.0 nantes</td>\n",
       "    </tr>\n",
       "    <tr>\n",
       "      <th>1566105</th>\n",
       "      <td>NaN</td>\n",
       "      <td>NaN</td>\n",
       "      <td>NaN</td>\n",
       "      <td>NaN</td>\n",
       "      <td>NaN</td>\n",
       "      <td>NaN</td>\n",
       "      <td>NaN</td>\n",
       "      <td>1</td>\n",
       "      <td>06/01/2020</td>\n",
       "      <td>Vente</td>\n",
       "      <td>...</td>\n",
       "      <td>2.0</td>\n",
       "      <td>rue lemot</td>\n",
       "      <td>44100.0</td>\n",
       "      <td>nantes</td>\n",
       "      <td>rue lemot</td>\n",
       "      <td>2.0</td>\n",
       "      <td>44100.0</td>\n",
       "      <td>nantes</td>\n",
       "      <td>2.0_rue lemot_44100.0_nantes</td>\n",
       "      <td>2.0 rue lemot 44100.0 nantes</td>\n",
       "    </tr>\n",
       "    <tr>\n",
       "      <th>1566106</th>\n",
       "      <td>NaN</td>\n",
       "      <td>NaN</td>\n",
       "      <td>NaN</td>\n",
       "      <td>NaN</td>\n",
       "      <td>NaN</td>\n",
       "      <td>NaN</td>\n",
       "      <td>NaN</td>\n",
       "      <td>1</td>\n",
       "      <td>06/01/2020</td>\n",
       "      <td>Vente</td>\n",
       "      <td>...</td>\n",
       "      <td>4.0</td>\n",
       "      <td>rue richer</td>\n",
       "      <td>44100.0</td>\n",
       "      <td>nantes</td>\n",
       "      <td>rue richer</td>\n",
       "      <td>4.0</td>\n",
       "      <td>44100.0</td>\n",
       "      <td>nantes</td>\n",
       "      <td>4.0_rue richer_44100.0_nantes</td>\n",
       "      <td>4.0 rue richer 44100.0 nantes</td>\n",
       "    </tr>\n",
       "    <tr>\n",
       "      <th>1566107</th>\n",
       "      <td>NaN</td>\n",
       "      <td>NaN</td>\n",
       "      <td>NaN</td>\n",
       "      <td>NaN</td>\n",
       "      <td>NaN</td>\n",
       "      <td>NaN</td>\n",
       "      <td>NaN</td>\n",
       "      <td>1</td>\n",
       "      <td>06/01/2020</td>\n",
       "      <td>Vente</td>\n",
       "      <td>...</td>\n",
       "      <td>4.0</td>\n",
       "      <td>rue richer</td>\n",
       "      <td>44100.0</td>\n",
       "      <td>nantes</td>\n",
       "      <td>rue richer</td>\n",
       "      <td>4.0</td>\n",
       "      <td>44100.0</td>\n",
       "      <td>nantes</td>\n",
       "      <td>4.0_rue richer_44100.0_nantes</td>\n",
       "      <td>4.0 rue richer 44100.0 nantes</td>\n",
       "    </tr>\n",
       "    <tr>\n",
       "      <th>1566108</th>\n",
       "      <td>NaN</td>\n",
       "      <td>NaN</td>\n",
       "      <td>NaN</td>\n",
       "      <td>NaN</td>\n",
       "      <td>NaN</td>\n",
       "      <td>NaN</td>\n",
       "      <td>NaN</td>\n",
       "      <td>1</td>\n",
       "      <td>07/01/2020</td>\n",
       "      <td>Vente en l'état futur d'achèvement</td>\n",
       "      <td>...</td>\n",
       "      <td>2.0</td>\n",
       "      <td>allee de l'orangerie</td>\n",
       "      <td>44800.0</td>\n",
       "      <td>st-herblain</td>\n",
       "      <td>allée de l'orangerie</td>\n",
       "      <td>2.0</td>\n",
       "      <td>44800.0</td>\n",
       "      <td>st-herblain</td>\n",
       "      <td>2.0_allée de l'orangerie_44800.0_st-herblain</td>\n",
       "      <td>2.0 allee de l'orangerie 44800.0 st-herblain</td>\n",
       "    </tr>\n",
       "  </tbody>\n",
       "</table>\n",
       "<p>5 rows × 55 columns</p>\n",
       "</div>"
      ],
      "text/plain": [
       "         Identifiant de document  Reference document  1 Articles CGI  \\\n",
       "1566104                      NaN                 NaN             NaN   \n",
       "1566105                      NaN                 NaN             NaN   \n",
       "1566106                      NaN                 NaN             NaN   \n",
       "1566107                      NaN                 NaN             NaN   \n",
       "1566108                      NaN                 NaN             NaN   \n",
       "\n",
       "         2 Articles CGI  3 Articles CGI  4 Articles CGI  5 Articles CGI  \\\n",
       "1566104             NaN             NaN             NaN             NaN   \n",
       "1566105             NaN             NaN             NaN             NaN   \n",
       "1566106             NaN             NaN             NaN             NaN   \n",
       "1566107             NaN             NaN             NaN             NaN   \n",
       "1566108             NaN             NaN             NaN             NaN   \n",
       "\n",
       "         No disposition Date mutation                     Nature mutation  \\\n",
       "1566104               1    06/01/2020                               Vente   \n",
       "1566105               1    06/01/2020                               Vente   \n",
       "1566106               1    06/01/2020                               Vente   \n",
       "1566107               1    06/01/2020                               Vente   \n",
       "1566108               1    07/01/2020  Vente en l'état futur d'achèvement   \n",
       "\n",
       "         ... house_number                  road postcode         city  \\\n",
       "1566104  ...          2.0             rue lemot  44100.0       nantes   \n",
       "1566105  ...          2.0             rue lemot  44100.0       nantes   \n",
       "1566106  ...          4.0            rue richer  44100.0       nantes   \n",
       "1566107  ...          4.0            rue richer  44100.0       nantes   \n",
       "1566108  ...          2.0  allee de l'orangerie  44800.0  st-herblain   \n",
       "\n",
       "               road_normalise house_number_norm  postcode_norm    city_norm  \\\n",
       "1566104             rue lemot               2.0        44100.0       nantes   \n",
       "1566105             rue lemot               2.0        44100.0       nantes   \n",
       "1566106            rue richer               4.0        44100.0       nantes   \n",
       "1566107            rue richer               4.0        44100.0       nantes   \n",
       "1566108  allée de l'orangerie               2.0        44800.0  st-herblain   \n",
       "\n",
       "                                     identifiant_comm  \\\n",
       "1566104                  2.0_rue lemot_44100.0_nantes   \n",
       "1566105                  2.0_rue lemot_44100.0_nantes   \n",
       "1566106                 4.0_rue richer_44100.0_nantes   \n",
       "1566107                 4.0_rue richer_44100.0_nantes   \n",
       "1566108  2.0_allée de l'orangerie_44800.0_st-herblain   \n",
       "\n",
       "                                   adresse_normalisee  \n",
       "1566104                  2.0 rue lemot 44100.0 nantes  \n",
       "1566105                  2.0 rue lemot 44100.0 nantes  \n",
       "1566106                 4.0 rue richer 44100.0 nantes  \n",
       "1566107                 4.0 rue richer 44100.0 nantes  \n",
       "1566108  2.0 allee de l'orangerie 44800.0 st-herblain  \n",
       "\n",
       "[5 rows x 55 columns]"
      ]
     },
     "execution_count": 33,
     "metadata": {},
     "output_type": "execute_result"
    }
   ],
   "source": [
    "df_valeurs_44.head()"
   ]
  },
  {
   "cell_type": "code",
   "execution_count": 27,
   "metadata": {},
   "outputs": [
    {
     "name": "stdout",
     "output_type": "stream",
     "text": [
      "Colonnes de df_valeurs_44 : ['Identifiant de document', 'Reference document', '1 Articles CGI', '2 Articles CGI', '3 Articles CGI', '4 Articles CGI', '5 Articles CGI', 'No disposition', 'Date mutation', 'Nature mutation', 'Valeur fonciere', 'No voie', 'B/T/Q', 'Type de voie', 'Code voie', 'Voie', 'Code postal', 'Commune', 'Code departement', 'Code commune', 'Prefixe de section', 'Section', 'No plan', 'No Volume', '1er lot', 'Surface Carrez du 1er lot', '2eme lot', 'Surface Carrez du 2eme lot', '3eme lot', 'Surface Carrez du 3eme lot', '4eme lot', 'Surface Carrez du 4eme lot', '5eme lot', 'Surface Carrez du 5eme lot', 'Nombre de lots', 'Code type local', 'Type local', 'Identifiant local', 'Surface reelle bati', 'Nombre pieces principales', 'Nature culture', 'Nature culture speciale', 'Surface terrain', 'adresse_complete', 'adresse_parsee_dict', 'house_number', 'road', 'postcode', 'city']\n",
      "Colonnes de df_dpe_44_2020 : ['numero_dpe', 'nom_methode_dpe', 'version_methode_dpe', 'date_etablissement_dpe', 'consommation_energie', 'classe_consommation_energie', 'estimation_ges', 'classe_estimation_ges', 'annee_construction', 'surface_thermique_lot', 'latitude', 'longitude', 'tr001_modele_dpe_type_libelle', 'tr002_type_batiment_description', 'code_insee_commune_actualise', 'tv016_departement_code', 'geo_adresse', 'geo_score', 'year']\n"
     ]
    }
   ],
   "source": [
    "print(\"Colonnes de df_valeurs_44 :\", df_valeurs_44.columns.tolist())\n",
    "print(\"Colonnes de df_dpe_44_2020 :\", df_dpe_44_2020.columns.tolist())\n"
   ]
  },
  {
   "cell_type": "code",
   "execution_count": 35,
   "metadata": {},
   "outputs": [
    {
     "name": "stderr",
     "output_type": "stream",
     "text": [
      "/tmp/ipykernel_15429/1093920701.py:1: SettingWithCopyWarning: \n",
      "A value is trying to be set on a copy of a slice from a DataFrame.\n",
      "Try using .loc[row_indexer,col_indexer] = value instead\n",
      "\n",
      "See the caveats in the documentation: https://pandas.pydata.org/pandas-docs/stable/user_guide/indexing.html#returning-a-view-versus-a-copy\n",
      "  df_dpe_44_2020['geo_adresse'] = df_dpe_44_2020['geo_adresse'].fillna('').astype(str)\n",
      "/tmp/ipykernel_15429/1093920701.py:2: SettingWithCopyWarning: \n",
      "A value is trying to be set on a copy of a slice from a DataFrame.\n",
      "Try using .loc[row_indexer,col_indexer] = value instead\n",
      "\n",
      "See the caveats in the documentation: https://pandas.pydata.org/pandas-docs/stable/user_guide/indexing.html#returning-a-view-versus-a-copy\n",
      "  df_dpe_44_2020['adresse_normalisee'] = df_dpe_44_2020['geo_adresse'].apply(expand_first_version)\n"
     ]
    }
   ],
   "source": [
    "df_dpe_44_2020['geo_adresse'] = df_dpe_44_2020['geo_adresse'].fillna('').astype(str)\n",
    "df_dpe_44_2020['adresse_normalisee'] = df_dpe_44_2020['geo_adresse'].apply(expand_first_version)\n"
   ]
  },
  {
   "cell_type": "code",
   "execution_count": 36,
   "metadata": {},
   "outputs": [
    {
     "name": "stderr",
     "output_type": "stream",
     "text": [
      "/tmp/ipykernel_15429/1665587909.py:2: SettingWithCopyWarning: \n",
      "A value is trying to be set on a copy of a slice from a DataFrame.\n",
      "Try using .loc[row_indexer,col_indexer] = value instead\n",
      "\n",
      "See the caveats in the documentation: https://pandas.pydata.org/pandas-docs/stable/user_guide/indexing.html#returning-a-view-versus-a-copy\n",
      "  df_dpe_44_2020['adresse_normalisee'] = df_dpe_44_2020['geo_adresse'].apply(expand_first_version)\n",
      "/tmp/ipykernel_15429/1665587909.py:5: SettingWithCopyWarning: \n",
      "A value is trying to be set on a copy of a slice from a DataFrame.\n",
      "Try using .loc[row_indexer,col_indexer] = value instead\n",
      "\n",
      "See the caveats in the documentation: https://pandas.pydata.org/pandas-docs/stable/user_guide/indexing.html#returning-a-view-versus-a-copy\n",
      "  df_dpe_44_2020['adresse_parsee_dict'] = df_dpe_44_2020['adresse_normalisee'].apply(parse_to_dict)\n",
      "/tmp/ipykernel_15429/1665587909.py:7: SettingWithCopyWarning: \n",
      "A value is trying to be set on a copy of a slice from a DataFrame.\n",
      "Try using .loc[row_indexer,col_indexer] = value instead\n",
      "\n",
      "See the caveats in the documentation: https://pandas.pydata.org/pandas-docs/stable/user_guide/indexing.html#returning-a-view-versus-a-copy\n",
      "  df_dpe_44_2020['house_number'] = df_dpe_44_2020['adresse_parsee_dict'].apply(lambda x: x.get('house_number', ''))\n",
      "/tmp/ipykernel_15429/1665587909.py:8: SettingWithCopyWarning: \n",
      "A value is trying to be set on a copy of a slice from a DataFrame.\n",
      "Try using .loc[row_indexer,col_indexer] = value instead\n",
      "\n",
      "See the caveats in the documentation: https://pandas.pydata.org/pandas-docs/stable/user_guide/indexing.html#returning-a-view-versus-a-copy\n",
      "  df_dpe_44_2020['road']         = df_dpe_44_2020['adresse_parsee_dict'].apply(lambda x: x.get('road', ''))\n",
      "/tmp/ipykernel_15429/1665587909.py:9: SettingWithCopyWarning: \n",
      "A value is trying to be set on a copy of a slice from a DataFrame.\n",
      "Try using .loc[row_indexer,col_indexer] = value instead\n",
      "\n",
      "See the caveats in the documentation: https://pandas.pydata.org/pandas-docs/stable/user_guide/indexing.html#returning-a-view-versus-a-copy\n",
      "  df_dpe_44_2020['postcode']     = df_dpe_44_2020['adresse_parsee_dict'].apply(lambda x: x.get('postcode', ''))\n",
      "/tmp/ipykernel_15429/1665587909.py:10: SettingWithCopyWarning: \n",
      "A value is trying to be set on a copy of a slice from a DataFrame.\n",
      "Try using .loc[row_indexer,col_indexer] = value instead\n",
      "\n",
      "See the caveats in the documentation: https://pandas.pydata.org/pandas-docs/stable/user_guide/indexing.html#returning-a-view-versus-a-copy\n",
      "  df_dpe_44_2020['city']         = df_dpe_44_2020['adresse_parsee_dict'].apply(lambda x: x.get('city', ''))\n"
     ]
    }
   ],
   "source": [
    "# 1) Normaliser avec expand_address sur df_dpe_44_2020\n",
    "df_dpe_44_2020['adresse_normalisee'] = df_dpe_44_2020['geo_adresse'].apply(expand_first_version)\n",
    "\n",
    "# 2) Parser l’adresse normalisée\n",
    "df_dpe_44_2020['adresse_parsee_dict'] = df_dpe_44_2020['adresse_normalisee'].apply(parse_to_dict)\n",
    "\n",
    "df_dpe_44_2020['house_number'] = df_dpe_44_2020['adresse_parsee_dict'].apply(lambda x: x.get('house_number', ''))\n",
    "df_dpe_44_2020['road']         = df_dpe_44_2020['adresse_parsee_dict'].apply(lambda x: x.get('road', ''))\n",
    "df_dpe_44_2020['postcode']     = df_dpe_44_2020['adresse_parsee_dict'].apply(lambda x: x.get('postcode', ''))\n",
    "df_dpe_44_2020['city']         = df_dpe_44_2020['adresse_parsee_dict'].apply(lambda x: x.get('city', ''))\n"
   ]
  },
  {
   "cell_type": "code",
   "execution_count": 37,
   "metadata": {},
   "outputs": [
    {
     "data": {
      "text/html": [
       "<div>\n",
       "<style scoped>\n",
       "    .dataframe tbody tr th:only-of-type {\n",
       "        vertical-align: middle;\n",
       "    }\n",
       "\n",
       "    .dataframe tbody tr th {\n",
       "        vertical-align: top;\n",
       "    }\n",
       "\n",
       "    .dataframe thead th {\n",
       "        text-align: right;\n",
       "    }\n",
       "</style>\n",
       "<table border=\"1\" class=\"dataframe\">\n",
       "  <thead>\n",
       "    <tr style=\"text-align: right;\">\n",
       "      <th></th>\n",
       "      <th>numero_dpe</th>\n",
       "      <th>nom_methode_dpe</th>\n",
       "      <th>version_methode_dpe</th>\n",
       "      <th>date_etablissement_dpe</th>\n",
       "      <th>consommation_energie</th>\n",
       "      <th>classe_consommation_energie</th>\n",
       "      <th>estimation_ges</th>\n",
       "      <th>classe_estimation_ges</th>\n",
       "      <th>annee_construction</th>\n",
       "      <th>surface_thermique_lot</th>\n",
       "      <th>...</th>\n",
       "      <th>tv016_departement_code</th>\n",
       "      <th>geo_adresse</th>\n",
       "      <th>geo_score</th>\n",
       "      <th>year</th>\n",
       "      <th>adresse_normalisee</th>\n",
       "      <th>adresse_parsee_dict</th>\n",
       "      <th>house_number</th>\n",
       "      <th>road</th>\n",
       "      <th>postcode</th>\n",
       "      <th>city</th>\n",
       "    </tr>\n",
       "  </thead>\n",
       "  <tbody>\n",
       "    <tr>\n",
       "      <th>9870735</th>\n",
       "      <td>2044L2000001W</td>\n",
       "      <td>Méthode Facture</td>\n",
       "      <td>NaN</td>\n",
       "      <td>2020-02-01</td>\n",
       "      <td>366.00</td>\n",
       "      <td>F</td>\n",
       "      <td>11.0</td>\n",
       "      <td>C</td>\n",
       "      <td>1947</td>\n",
       "      <td>67.31</td>\n",
       "      <td>...</td>\n",
       "      <td>44</td>\n",
       "      <td>16 Rue de l'Atlantique 44650 Legé</td>\n",
       "      <td>0.96</td>\n",
       "      <td>2020.0</td>\n",
       "      <td>16 rue de l'atlantique 44650 lege</td>\n",
       "      <td>{'house_number': '16', 'road': 'rue de l'atlan...</td>\n",
       "      <td>16</td>\n",
       "      <td>rue de l'atlantique</td>\n",
       "      <td>44650</td>\n",
       "      <td>lege</td>\n",
       "    </tr>\n",
       "    <tr>\n",
       "      <th>9870778</th>\n",
       "      <td>2044V1000001W</td>\n",
       "      <td>Méthode 3CL</td>\n",
       "      <td>3CL-DPE, version 1.3</td>\n",
       "      <td>2020-02-01</td>\n",
       "      <td>128.00</td>\n",
       "      <td>C</td>\n",
       "      <td>30.0</td>\n",
       "      <td>D</td>\n",
       "      <td>1989</td>\n",
       "      <td>72.00</td>\n",
       "      <td>...</td>\n",
       "      <td>44</td>\n",
       "      <td>11 Rue de la Haute Mitrie 44300 Nantes</td>\n",
       "      <td>0.97</td>\n",
       "      <td>2020.0</td>\n",
       "      <td>11 rue de la haute mitrie 44300 nantes</td>\n",
       "      <td>{'house_number': '11', 'road': 'rue de la haut...</td>\n",
       "      <td>11</td>\n",
       "      <td>rue de la haute mitrie</td>\n",
       "      <td>44300</td>\n",
       "      <td>nantes</td>\n",
       "    </tr>\n",
       "    <tr>\n",
       "      <th>9870785</th>\n",
       "      <td>2044V1000002X</td>\n",
       "      <td>Méthode 3CL</td>\n",
       "      <td>3CL-DPE, version 1.3</td>\n",
       "      <td>2020-02-01</td>\n",
       "      <td>144.00</td>\n",
       "      <td>C</td>\n",
       "      <td>33.0</td>\n",
       "      <td>D</td>\n",
       "      <td>1978</td>\n",
       "      <td>101.00</td>\n",
       "      <td>...</td>\n",
       "      <td>44</td>\n",
       "      <td>54 Rue Jean Marie Desbrosses 44800 Saint-Herblain</td>\n",
       "      <td>0.97</td>\n",
       "      <td>2020.0</td>\n",
       "      <td>54 rue jean marie desbrosses 44800 saint-herblain</td>\n",
       "      <td>{'house_number': '54', 'road': 'rue jean marie...</td>\n",
       "      <td>54</td>\n",
       "      <td>rue jean marie desbrosses</td>\n",
       "      <td>44800</td>\n",
       "      <td>saint-herblain</td>\n",
       "    </tr>\n",
       "    <tr>\n",
       "      <th>9870800</th>\n",
       "      <td>2044V1000003Y</td>\n",
       "      <td>3CL - DPE</td>\n",
       "      <td>V2012</td>\n",
       "      <td>2020-02-01</td>\n",
       "      <td>326.03</td>\n",
       "      <td>E</td>\n",
       "      <td>14.9</td>\n",
       "      <td>C</td>\n",
       "      <td>1987</td>\n",
       "      <td>19.98</td>\n",
       "      <td>...</td>\n",
       "      <td>44</td>\n",
       "      <td>13 Rue du Coudray 44000 Nantes</td>\n",
       "      <td>0.98</td>\n",
       "      <td>2020.0</td>\n",
       "      <td>13 rue du coudray 44000 nantes</td>\n",
       "      <td>{'house_number': '13', 'road': 'rue du coudray...</td>\n",
       "      <td>13</td>\n",
       "      <td>rue du coudray</td>\n",
       "      <td>44000</td>\n",
       "      <td>nantes</td>\n",
       "    </tr>\n",
       "    <tr>\n",
       "      <th>9870807</th>\n",
       "      <td>2044V1000004@</td>\n",
       "      <td>Méthode 3CL</td>\n",
       "      <td>3CL-DPE, version 1.3</td>\n",
       "      <td>2020-02-01</td>\n",
       "      <td>299.00</td>\n",
       "      <td>E</td>\n",
       "      <td>16.0</td>\n",
       "      <td>C</td>\n",
       "      <td>1959</td>\n",
       "      <td>70.00</td>\n",
       "      <td>...</td>\n",
       "      <td>44</td>\n",
       "      <td>8 Rue de la Treille 44680 Chaumes-en-Retz</td>\n",
       "      <td>0.51</td>\n",
       "      <td>2020.0</td>\n",
       "      <td>8 rue de la treille 44680 chaumes-en-retz</td>\n",
       "      <td>{'house_number': '8', 'road': 'rue de la treil...</td>\n",
       "      <td>8</td>\n",
       "      <td>rue de la treille</td>\n",
       "      <td>44680</td>\n",
       "      <td>chaumes-en-retz</td>\n",
       "    </tr>\n",
       "  </tbody>\n",
       "</table>\n",
       "<p>5 rows × 25 columns</p>\n",
       "</div>"
      ],
      "text/plain": [
       "            numero_dpe  nom_methode_dpe   version_methode_dpe  \\\n",
       "9870735  2044L2000001W  Méthode Facture                   NaN   \n",
       "9870778  2044V1000001W      Méthode 3CL  3CL-DPE, version 1.3   \n",
       "9870785  2044V1000002X      Méthode 3CL  3CL-DPE, version 1.3   \n",
       "9870800  2044V1000003Y        3CL - DPE                 V2012   \n",
       "9870807  2044V1000004@      Méthode 3CL  3CL-DPE, version 1.3   \n",
       "\n",
       "        date_etablissement_dpe  consommation_energie  \\\n",
       "9870735             2020-02-01                366.00   \n",
       "9870778             2020-02-01                128.00   \n",
       "9870785             2020-02-01                144.00   \n",
       "9870800             2020-02-01                326.03   \n",
       "9870807             2020-02-01                299.00   \n",
       "\n",
       "        classe_consommation_energie  estimation_ges classe_estimation_ges  \\\n",
       "9870735                           F            11.0                     C   \n",
       "9870778                           C            30.0                     D   \n",
       "9870785                           C            33.0                     D   \n",
       "9870800                           E            14.9                     C   \n",
       "9870807                           E            16.0                     C   \n",
       "\n",
       "         annee_construction  surface_thermique_lot  ...  \\\n",
       "9870735                1947                  67.31  ...   \n",
       "9870778                1989                  72.00  ...   \n",
       "9870785                1978                 101.00  ...   \n",
       "9870800                1987                  19.98  ...   \n",
       "9870807                1959                  70.00  ...   \n",
       "\n",
       "         tv016_departement_code  \\\n",
       "9870735                      44   \n",
       "9870778                      44   \n",
       "9870785                      44   \n",
       "9870800                      44   \n",
       "9870807                      44   \n",
       "\n",
       "                                               geo_adresse geo_score    year  \\\n",
       "9870735                  16 Rue de l'Atlantique 44650 Legé      0.96  2020.0   \n",
       "9870778             11 Rue de la Haute Mitrie 44300 Nantes      0.97  2020.0   \n",
       "9870785  54 Rue Jean Marie Desbrosses 44800 Saint-Herblain      0.97  2020.0   \n",
       "9870800                     13 Rue du Coudray 44000 Nantes      0.98  2020.0   \n",
       "9870807          8 Rue de la Treille 44680 Chaumes-en-Retz      0.51  2020.0   \n",
       "\n",
       "                                        adresse_normalisee  \\\n",
       "9870735                  16 rue de l'atlantique 44650 lege   \n",
       "9870778             11 rue de la haute mitrie 44300 nantes   \n",
       "9870785  54 rue jean marie desbrosses 44800 saint-herblain   \n",
       "9870800                     13 rue du coudray 44000 nantes   \n",
       "9870807          8 rue de la treille 44680 chaumes-en-retz   \n",
       "\n",
       "                                       adresse_parsee_dict house_number  \\\n",
       "9870735  {'house_number': '16', 'road': 'rue de l'atlan...           16   \n",
       "9870778  {'house_number': '11', 'road': 'rue de la haut...           11   \n",
       "9870785  {'house_number': '54', 'road': 'rue jean marie...           54   \n",
       "9870800  {'house_number': '13', 'road': 'rue du coudray...           13   \n",
       "9870807  {'house_number': '8', 'road': 'rue de la treil...            8   \n",
       "\n",
       "                              road  postcode             city  \n",
       "9870735        rue de l'atlantique     44650             lege  \n",
       "9870778     rue de la haute mitrie     44300           nantes  \n",
       "9870785  rue jean marie desbrosses     44800   saint-herblain  \n",
       "9870800             rue du coudray     44000           nantes  \n",
       "9870807          rue de la treille     44680  chaumes-en-retz  \n",
       "\n",
       "[5 rows x 25 columns]"
      ]
     },
     "execution_count": 37,
     "metadata": {},
     "output_type": "execute_result"
    }
   ],
   "source": [
    "df_dpe_44_2020.head()"
   ]
  },
  {
   "cell_type": "code",
   "execution_count": 38,
   "metadata": {},
   "outputs": [],
   "source": [
    "def creer_cle_adresse(house_number, road, postcode, city):\n",
    "    return f\"{house_number.strip().lower()}_{road.strip().lower()}_{postcode.strip()}_{city.strip().lower()}\"\n"
   ]
  },
  {
   "cell_type": "code",
   "execution_count": 39,
   "metadata": {},
   "outputs": [
    {
     "name": "stderr",
     "output_type": "stream",
     "text": [
      "/tmp/ipykernel_15429/4160141321.py:1: SettingWithCopyWarning: \n",
      "A value is trying to be set on a copy of a slice from a DataFrame.\n",
      "Try using .loc[row_indexer,col_indexer] = value instead\n",
      "\n",
      "See the caveats in the documentation: https://pandas.pydata.org/pandas-docs/stable/user_guide/indexing.html#returning-a-view-versus-a-copy\n",
      "  df_valeurs_44['identifiant_comm'] = df_valeurs_44.apply(\n",
      "/tmp/ipykernel_15429/4160141321.py:6: SettingWithCopyWarning: \n",
      "A value is trying to be set on a copy of a slice from a DataFrame.\n",
      "Try using .loc[row_indexer,col_indexer] = value instead\n",
      "\n",
      "See the caveats in the documentation: https://pandas.pydata.org/pandas-docs/stable/user_guide/indexing.html#returning-a-view-versus-a-copy\n",
      "  df_dpe_44_2020['identifiant_comm'] = df_dpe_44_2020.apply(\n"
     ]
    }
   ],
   "source": [
    "df_valeurs_44['identifiant_comm'] = df_valeurs_44.apply(\n",
    "    lambda row: creer_cle_adresse(row['house_number'], row['road'], row['postcode'], row['city']),\n",
    "    axis=1\n",
    ")\n",
    "\n",
    "df_dpe_44_2020['identifiant_comm'] = df_dpe_44_2020.apply(\n",
    "    lambda row: creer_cle_adresse(row['house_number'], row['road'], row['postcode'], row['city']),\n",
    "    axis=1\n",
    ")\n"
   ]
  },
  {
   "cell_type": "code",
   "execution_count": 40,
   "metadata": {},
   "outputs": [
    {
     "name": "stdout",
     "output_type": "stream",
     "text": [
      "        house_number                  road postcode         city  \\\n",
      "1566104          2.0             rue lemot  44100.0       nantes   \n",
      "1566105          2.0             rue lemot  44100.0       nantes   \n",
      "1566106          4.0            rue richer  44100.0       nantes   \n",
      "1566107          4.0            rue richer  44100.0       nantes   \n",
      "1566108          2.0  allee de l'orangerie  44800.0  st-herblain   \n",
      "\n",
      "                                     identifiant_comm  \n",
      "1566104                  2.0_rue lemot_44100.0_nantes  \n",
      "1566105                  2.0_rue lemot_44100.0_nantes  \n",
      "1566106                 4.0_rue richer_44100.0_nantes  \n",
      "1566107                 4.0_rue richer_44100.0_nantes  \n",
      "1566108  2.0_allee de l'orangerie_44800.0_st-herblain  \n",
      "        house_number                       road postcode             city  \\\n",
      "9870735           16        rue de l'atlantique    44650             lege   \n",
      "9870778           11     rue de la haute mitrie    44300           nantes   \n",
      "9870785           54  rue jean marie desbrosses    44800   saint-herblain   \n",
      "9870800           13             rue du coudray    44000           nantes   \n",
      "9870807            8          rue de la treille    44680  chaumes-en-retz   \n",
      "\n",
      "                                          identifiant_comm  \n",
      "9870735                  16_rue de l'atlantique_44650_lege  \n",
      "9870778             11_rue de la haute mitrie_44300_nantes  \n",
      "9870785  54_rue jean marie desbrosses_44800_saint-herblain  \n",
      "9870800                     13_rue du coudray_44000_nantes  \n",
      "9870807          8_rue de la treille_44680_chaumes-en-retz  \n"
     ]
    }
   ],
   "source": [
    "print(df_valeurs_44[['house_number','road','postcode','city','identifiant_comm']].head(5))\n",
    "print(df_dpe_44_2020[['house_number','road','postcode','city','identifiant_comm']].head(5))\n"
   ]
  },
  {
   "cell_type": "code",
   "execution_count": 41,
   "metadata": {},
   "outputs": [],
   "source": [
    "df_match = pd.merge(\n",
    "    df_valeurs_44,\n",
    "    df_dpe_44_2020,\n",
    "    on='identifiant_comm',\n",
    "    how='inner',  # ou left, selon ton besoin\n",
    "    suffixes=('_valeurs', '_dpe')\n",
    ")\n"
   ]
  }
 ],
 "metadata": {
  "kernelspec": {
   "display_name": "base",
   "language": "python",
   "name": "python3"
  },
  "language_info": {
   "codemirror_mode": {
    "name": "ipython",
    "version": 3
   },
   "file_extension": ".py",
   "mimetype": "text/x-python",
   "name": "python",
   "nbconvert_exporter": "python",
   "pygments_lexer": "ipython3",
   "version": "3.12.7"
  }
 },
 "nbformat": 4,
 "nbformat_minor": 2
}

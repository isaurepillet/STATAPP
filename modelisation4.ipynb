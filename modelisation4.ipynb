{
 "cells": [
  {
   "cell_type": "code",
   "execution_count": 1,
   "metadata": {},
   "outputs": [],
   "source": [
    "# Importer les bibliothèques nécessaires\n",
    "import pandas as pd\n",
    "import numpy as np\n",
    "import statsmodels.api as sm\n",
    "import statsmodels.formula.api as smf"
   ]
  },
  {
   "cell_type": "code",
   "execution_count": 2,
   "metadata": {},
   "outputs": [
    {
     "name": "stderr",
     "output_type": "stream",
     "text": [
      "/tmp/ipykernel_399563/1594908137.py:4: DtypeWarning: Columns (7,8,20,22,24,26,28,30,32) have mixed types. Specify dtype option on import or set low_memory=False.\n",
      "  2019: pd.read_csv('final2019.csv'),\n",
      "/tmp/ipykernel_399563/1594908137.py:5: DtypeWarning: Columns (7,8,20,22,28,30) have mixed types. Specify dtype option on import or set low_memory=False.\n",
      "  2020: pd.read_csv('final2020.csv'),\n",
      "/tmp/ipykernel_399563/1594908137.py:6: DtypeWarning: Columns (7,8,18,20,22,28,30,32,45,46) have mixed types. Specify dtype option on import or set low_memory=False.\n",
      "  2021: pd.read_csv('final2021.csv'),\n",
      "/tmp/ipykernel_399563/1594908137.py:7: DtypeWarning: Columns (7,8,20,22,24,28,30,32) have mixed types. Specify dtype option on import or set low_memory=False.\n",
      "  2022: pd.read_csv('final2022.csv'),\n"
     ]
    },
    {
     "name": "stdout",
     "output_type": "stream",
     "text": [
      "--- Colonnes 2019 ---\n",
      "['Date_établissement_DPE', 'Etiquette_DPE', 'Type_bâtiment', 'Année_construction', 'Période_construction', 'Surface_habitable_logement', 'Adresse_(BAN)', 'N°_département_(BAN)', 'Code_INSEE_(BAN)', 'Adresse_Normalisee', 'id_mutation', 'date_mutation', 'numero_disposition', 'nature_mutation', 'valeur_fonciere', 'adresse_numero', 'adresse_suffixe', 'adresse_nom_voie', 'adresse_code_voie', 'code_postal', 'code_commune', 'nom_commune', 'code_departement', 'ancien_code_commune', 'ancien_nom_commune', 'id_parcelle', 'ancien_id_parcelle', 'numero_volume', 'lot1_numero', 'lot1_surface_carrez', 'lot2_numero', 'lot2_surface_carrez', 'lot3_numero', 'lot3_surface_carrez', 'lot4_numero', 'lot4_surface_carrez', 'lot5_numero', 'lot5_surface_carrez', 'nombre_lots', 'code_type_local', 'type_local', 'surface_reelle_bati', 'nombre_pieces_principales', 'code_nature_culture', 'nature_culture', 'code_nature_culture_speciale', 'nature_culture_speciale', 'surface_terrain', 'longitude', 'latitude', 'Adresse'] \n",
      "\n",
      "--- Colonnes 2020 ---\n",
      "['Date_établissement_DPE', 'Etiquette_DPE', 'Type_bâtiment', 'Année_construction', 'Période_construction', 'Surface_habitable_logement', 'Adresse_(BAN)', 'N°_département_(BAN)', 'Code_INSEE_(BAN)', 'Adresse_Normalisee', 'id_mutation', 'date_mutation', 'numero_disposition', 'nature_mutation', 'valeur_fonciere', 'adresse_numero', 'adresse_suffixe', 'adresse_nom_voie', 'adresse_code_voie', 'code_postal', 'code_commune', 'nom_commune', 'code_departement', 'ancien_code_commune', 'ancien_nom_commune', 'id_parcelle', 'ancien_id_parcelle', 'numero_volume', 'lot1_numero', 'lot1_surface_carrez', 'lot2_numero', 'lot2_surface_carrez', 'lot3_numero', 'lot3_surface_carrez', 'lot4_numero', 'lot4_surface_carrez', 'lot5_numero', 'lot5_surface_carrez', 'nombre_lots', 'code_type_local', 'type_local', 'surface_reelle_bati', 'nombre_pieces_principales', 'code_nature_culture', 'nature_culture', 'code_nature_culture_speciale', 'nature_culture_speciale', 'surface_terrain', 'longitude', 'latitude', 'Adresse'] \n",
      "\n",
      "--- Colonnes 2021 ---\n",
      "['Date_établissement_DPE', 'Etiquette_DPE', 'Type_bâtiment', 'Année_construction', 'Période_construction', 'Surface_habitable_logement', 'Adresse_(BAN)', 'N°_département_(BAN)', 'Code_INSEE_(BAN)', 'Adresse_Normalisee', 'id_mutation', 'date_mutation', 'numero_disposition', 'nature_mutation', 'valeur_fonciere', 'adresse_numero', 'adresse_suffixe', 'adresse_nom_voie', 'adresse_code_voie', 'code_postal', 'code_commune', 'nom_commune', 'code_departement', 'ancien_code_commune', 'ancien_nom_commune', 'id_parcelle', 'ancien_id_parcelle', 'numero_volume', 'lot1_numero', 'lot1_surface_carrez', 'lot2_numero', 'lot2_surface_carrez', 'lot3_numero', 'lot3_surface_carrez', 'lot4_numero', 'lot4_surface_carrez', 'lot5_numero', 'lot5_surface_carrez', 'nombre_lots', 'code_type_local', 'type_local', 'surface_reelle_bati', 'nombre_pieces_principales', 'code_nature_culture', 'nature_culture', 'code_nature_culture_speciale', 'nature_culture_speciale', 'surface_terrain', 'longitude', 'latitude', 'Adresse'] \n",
      "\n",
      "--- Colonnes 2022 ---\n",
      "['Date_établissement_DPE', 'Etiquette_DPE', 'Type_bâtiment', 'Année_construction', 'Période_construction', 'Surface_habitable_logement', 'Adresse_(BAN)', 'N°_département_(BAN)', 'Code_INSEE_(BAN)', 'Adresse_Normalisee', 'id_mutation', 'date_mutation', 'numero_disposition', 'nature_mutation', 'valeur_fonciere', 'adresse_numero', 'adresse_suffixe', 'adresse_nom_voie', 'adresse_code_voie', 'code_postal', 'code_commune', 'nom_commune', 'code_departement', 'ancien_code_commune', 'ancien_nom_commune', 'id_parcelle', 'ancien_id_parcelle', 'numero_volume', 'lot1_numero', 'lot1_surface_carrez', 'lot2_numero', 'lot2_surface_carrez', 'lot3_numero', 'lot3_surface_carrez', 'lot4_numero', 'lot4_surface_carrez', 'lot5_numero', 'lot5_surface_carrez', 'nombre_lots', 'code_type_local', 'type_local', 'surface_reelle_bati', 'nombre_pieces_principales', 'code_nature_culture', 'nature_culture', 'code_nature_culture_speciale', 'nature_culture_speciale', 'surface_terrain', 'longitude', 'latitude', 'Adresse'] \n",
      "\n",
      "--- Colonnes 2023 ---\n",
      "['Date_établissement_DPE', 'Etiquette_DPE', 'Type_bâtiment', 'Année_construction', 'Période_construction', 'Surface_habitable_logement', 'Adresse_(BAN)', 'N°_département_(BAN)', 'Code_INSEE_(BAN)', 'Adresse_Normalisee', 'id_mutation', 'date_mutation', 'numero_disposition', 'nature_mutation', 'valeur_fonciere', 'adresse_numero', 'adresse_suffixe', 'adresse_nom_voie', 'adresse_code_voie', 'code_postal', 'code_commune', 'nom_commune', 'code_departement', 'ancien_code_commune', 'ancien_nom_commune', 'id_parcelle', 'ancien_id_parcelle', 'numero_volume', 'lot1_numero', 'lot1_surface_carrez', 'lot2_numero', 'lot2_surface_carrez', 'lot3_numero', 'lot3_surface_carrez', 'lot4_numero', 'lot4_surface_carrez', 'lot5_numero', 'lot5_surface_carrez', 'nombre_lots', 'code_type_local', 'type_local', 'surface_reelle_bati', 'nombre_pieces_principales', 'code_nature_culture', 'nature_culture', 'code_nature_culture_speciale', 'nature_culture_speciale', 'surface_terrain', 'longitude', 'latitude', 'Adresse'] \n",
      "\n"
     ]
    },
    {
     "name": "stderr",
     "output_type": "stream",
     "text": [
      "/tmp/ipykernel_399563/1594908137.py:8: DtypeWarning: Columns (7,8,20,22,28,30) have mixed types. Specify dtype option on import or set low_memory=False.\n",
      "  2023: pd.read_csv('final2023.csv'),\n"
     ]
    }
   ],
   "source": [
    "import pandas as pd\n",
    "\n",
    "dfs = {\n",
    "    2019: pd.read_csv('final2019.csv'),\n",
    "    2020: pd.read_csv('final2020.csv'),\n",
    "    2021: pd.read_csv('final2021.csv'),\n",
    "    2022: pd.read_csv('final2022.csv'),\n",
    "    2023: pd.read_csv('final2023.csv'),\n",
    "}\n",
    "\n",
    "for year, df in dfs.items():\n",
    "    print(f\"--- Colonnes {year} ---\")\n",
    "    print(df.columns.tolist(), \"\\n\")"
   ]
  },
  {
   "cell_type": "code",
   "execution_count": 5,
   "metadata": {},
   "outputs": [
    {
     "name": "stdout",
     "output_type": "stream",
     "text": [
      "Shape après concaténation : (543908, 51)\n"
     ]
    },
    {
     "name": "stderr",
     "output_type": "stream",
     "text": [
      "/tmp/ipykernel_399563/2325805555.py:8: UserWarning: Parsing dates in %Y-%m-%d format when dayfirst=True was specified. Pass `dayfirst=False` or specify a format to silence this warning.\n",
      "  df['date_mutation'] = pd.to_datetime(df['date_mutation'], dayfirst=True, errors='coerce')\n"
     ]
    }
   ],
   "source": [
    "import pandas as pd\n",
    "\n",
    "# 1) Concaténation\n",
    "df = pd.concat(dfs.values(), ignore_index=True)\n",
    "print(\"Shape après concaténation :\", df.shape)\n",
    "\n",
    "# 2) Date → datetime + extraction de l'année\n",
    "df['date_mutation'] = pd.to_datetime(df['date_mutation'], dayfirst=True, errors='coerce')\n",
    "df['year'] = df['date_mutation'].dt.year"
   ]
  },
  {
   "cell_type": "code",
   "execution_count": 6,
   "metadata": {},
   "outputs": [],
   "source": [
    "# 1) Nettoyage de la variable DPE\n",
    "df['dpe_clean'] = df['Etiquette_DPE'].str.upper().str.strip()\n",
    "\n",
    "# 2) Création de l'indicatrice de traitement\n",
    "# Le groupe de traitement est constitué des logements avec une étiquette DPE F ou G.\n",
    "df['treat'] = df['dpe_clean'].isin(['F', 'G']).astype(int)\n",
    "\n",
    "# 3) Définir l'indicateur 'post' qui vaut 1 si la date de mutation est postérieure à la date clé, sinon 0.\n",
    "df['post_exact'] = (df['date_mutation'] >= '2021-08-24').astype(int)\n",
    "\n",
    "# 4) Création de l'indicatrice DID qui est le produit de 'treat' et 'post_exact'\n",
    "# Cette variable identifie les observations du groupe traité après la période de l'intervention.\n",
    "df['did'] = df['treat'] * df['post_exact']\n",
    "\n",
    "# 5) Création de l'indicatrice de groupe de contrôle (0 pour A, B, C, D, 1 pour F, G)\n",
    "# Le groupe de contrôle est constitué des logements avec une étiquette DPE A, B, C ou D\n",
    "df['control'] = df['dpe_clean'].isin(['A', 'B', 'C', 'D']).astype(int)\n",
    "\n"
   ]
  },
  {
   "cell_type": "code",
   "execution_count": 8,
   "metadata": {},
   "outputs": [
    {
     "name": "stdout",
     "output_type": "stream",
     "text": [
      "                           n_missing  pct_missing\n",
      "valeur_fonciere                   29         0.01\n",
      "treat                              0         0.00\n",
      "post_exact                         0         0.00\n",
      "did                                0         0.00\n",
      "code_departement                   0         0.00\n",
      "surface_reelle_bati                0         0.00\n",
      "nombre_pieces_principales          0         0.00\n",
      "Année_construction             99451        18.28\n",
      "Type_bâtiment                      0         0.00\n",
      "\n",
      "Observations avant : 543,908  –  après dropna : 444,429\n"
     ]
    }
   ],
   "source": [
    "# 1) liste des contrôles\n",
    "controls = [\n",
    "    'surface_reelle_bati',  # Surface réelle bâtie\n",
    "    'nombre_pieces_principales',  # Nombre de pièces principales\n",
    "    'Année_construction',  # Année de construction\n",
    "    'Type_bâtiment',  # Indicateur de valeurs manquantes dans l'année de construction\n",
    "]\n",
    "\n",
    "# 2) construction de la liste complète des variables du modèle\n",
    "vars_model = ['valeur_fonciere', 'treat', 'post_exact', 'did', 'code_departement'] + controls\n",
    "\n",
    "# 3) comptage des missing\n",
    "missing = df[vars_model].isna().sum().rename('n_missing')\n",
    "total   = df[vars_model].shape[0]\n",
    "pct     = (missing / total * 100).round(2).rename('pct_missing')\n",
    "print(pd.concat([missing, pct], axis=1))\n",
    "\n",
    "# 4) création du jeu clean (drop NA)\n",
    "df_mod = df.dropna(subset=vars_model)\n",
    "print(f\"\\nObservations avant : {total:,}  –  après dropna : {len(df_mod):,}\")\n"
   ]
  },
  {
   "cell_type": "code",
   "execution_count": 10,
   "metadata": {},
   "outputs": [
    {
     "name": "stdout",
     "output_type": "stream",
     "text": [
      "                           n_missing  pct_missing\n",
      "valeur_fonciere                   29         0.01\n",
      "treat                              0         0.00\n",
      "post_exact                         0         0.00\n",
      "did                                0         0.00\n",
      "code_departement                   0         0.00\n",
      "surface_reelle_bati                0         0.00\n",
      "nombre_pieces_principales          0         0.00\n",
      "Type_bâtiment                      0         0.00\n",
      "Année_construction_imp             0         0.00\n",
      "year_const_miss                    0         0.00\n",
      "\n",
      "Observations avant : 543,908  –  après dropna : 543,879\n"
     ]
    }
   ],
   "source": [
    "\n",
    "# 1) Indicateur de missing + imputation pour l'année de construction\n",
    "df['year_const_miss'] = df['Année_construction'].isna().astype(int)\n",
    "median_year = df['Année_construction'].median()\n",
    "df['Année_construction_imp'] = df['Année_construction'].fillna(median_year)\n",
    "\n",
    "# 2) Nouvelle liste de contrôles (sans surface_terrain, avec l’imputation)\n",
    "controls2 = [\n",
    "    'surface_reelle_bati',\n",
    "    'nombre_pieces_principales',\n",
    "    'Type_bâtiment',\n",
    "    'Année_construction_imp',\n",
    "    'year_const_miss'\n",
    "]\n",
    "\n",
    "vars_model2 = ['valeur_fonciere', 'treat', 'post_exact', 'did', 'code_departement'] + controls2\n",
    "\n",
    "# 3) Nouveau diagnostic des missing\n",
    "missing2 = df[vars_model2].isna().sum().rename('n_missing')\n",
    "pct2     = (missing2 / df.shape[0] * 100).round(2).rename('pct_missing')\n",
    "print(pd.concat([missing2, pct2], axis=1))\n",
    "\n",
    "# 4) Jeu « clean » après dropna\n",
    "df_mod2 = df.dropna(subset=vars_model2)\n",
    "print(f\"\\nObservations avant : {df.shape[0]:,}  –  après dropna : {len(df_mod2):,}\")"
   ]
  },
  {
   "cell_type": "code",
   "execution_count": 14,
   "metadata": {},
   "outputs": [
    {
     "ename": "TypeError",
     "evalue": "'<' not supported between instances of 'int' and 'str'",
     "output_type": "error",
     "traceback": [
      "\u001b[31m---------------------------------------------------------------------------\u001b[39m",
      "\u001b[31mTypeError\u001b[39m                                 Traceback (most recent call last)",
      "\u001b[36mCell\u001b[39m\u001b[36m \u001b[39m\u001b[32mIn[14]\u001b[39m\u001b[32m, line 11\u001b[39m\n\u001b[32m      4\u001b[39m formula = (\n\u001b[32m      5\u001b[39m     \u001b[33m'\u001b[39m\u001b[33mnp.log(valeur_fonciere) ~ treat + post_exact + did + \u001b[39m\u001b[33m'\u001b[39m\n\u001b[32m      6\u001b[39m     \u001b[33m'\u001b[39m\u001b[33mC(code_type_local) + surface_reelle_bati + Type_bâtiment + \u001b[39m\u001b[33m'\u001b[39m\n\u001b[32m      7\u001b[39m     \u001b[33m'\u001b[39m\u001b[33mAnnée_construction_imp + year_const_miss\u001b[39m\u001b[33m'\u001b[39m\n\u001b[32m      8\u001b[39m )\n\u001b[32m     10\u001b[39m \u001b[38;5;66;03m# Régression avec erreurs standards robustes clusterisées par département\u001b[39;00m\n\u001b[32m---> \u001b[39m\u001b[32m11\u001b[39m model = \u001b[43msmf\u001b[49m\u001b[43m.\u001b[49m\u001b[43mols\u001b[49m\u001b[43m(\u001b[49m\u001b[43mformula\u001b[49m\u001b[43m,\u001b[49m\u001b[43m \u001b[49m\u001b[43mdata\u001b[49m\u001b[43m=\u001b[49m\u001b[43mdf\u001b[49m\u001b[43m)\u001b[49m\u001b[43m.\u001b[49m\u001b[43mfit\u001b[49m\u001b[43m(\u001b[49m\n\u001b[32m     12\u001b[39m \u001b[43m    \u001b[49m\u001b[43mcov_type\u001b[49m\u001b[43m=\u001b[49m\u001b[33;43m'\u001b[39;49m\u001b[33;43mcluster\u001b[39;49m\u001b[33;43m'\u001b[39;49m\u001b[43m,\u001b[49m\n\u001b[32m     13\u001b[39m \u001b[43m    \u001b[49m\u001b[43mcov_kwds\u001b[49m\u001b[43m=\u001b[49m\u001b[43m{\u001b[49m\u001b[33;43m'\u001b[39;49m\u001b[33;43mgroups\u001b[39;49m\u001b[33;43m'\u001b[39;49m\u001b[43m:\u001b[49m\u001b[43m \u001b[49m\u001b[43mdf\u001b[49m\u001b[43m[\u001b[49m\u001b[33;43m'\u001b[39;49m\u001b[33;43mcode_departement\u001b[39;49m\u001b[33;43m'\u001b[39;49m\u001b[43m]\u001b[49m\u001b[43m}\u001b[49m\n\u001b[32m     14\u001b[39m \u001b[43m)\u001b[49m\n\u001b[32m     16\u001b[39m \u001b[38;5;66;03m# Résultats\u001b[39;00m\n\u001b[32m     17\u001b[39m \u001b[38;5;28mprint\u001b[39m(model.summary())\n",
      "\u001b[36mFile \u001b[39m\u001b[32m/opt/conda/lib/python3.12/site-packages/statsmodels/regression/linear_model.py:371\u001b[39m, in \u001b[36mRegressionModel.fit\u001b[39m\u001b[34m(self, method, cov_type, cov_kwds, use_t, **kwargs)\u001b[39m\n\u001b[32m    368\u001b[39m     \u001b[38;5;28mself\u001b[39m.df_resid = \u001b[38;5;28mself\u001b[39m.nobs - \u001b[38;5;28mself\u001b[39m.rank\n\u001b[32m    370\u001b[39m \u001b[38;5;28;01mif\u001b[39;00m \u001b[38;5;28misinstance\u001b[39m(\u001b[38;5;28mself\u001b[39m, OLS):\n\u001b[32m--> \u001b[39m\u001b[32m371\u001b[39m     lfit = \u001b[43mOLSResults\u001b[49m\u001b[43m(\u001b[49m\n\u001b[32m    372\u001b[39m \u001b[43m        \u001b[49m\u001b[38;5;28;43mself\u001b[39;49m\u001b[43m,\u001b[49m\u001b[43m \u001b[49m\u001b[43mbeta\u001b[49m\u001b[43m,\u001b[49m\n\u001b[32m    373\u001b[39m \u001b[43m        \u001b[49m\u001b[43mnormalized_cov_params\u001b[49m\u001b[43m=\u001b[49m\u001b[38;5;28;43mself\u001b[39;49m\u001b[43m.\u001b[49m\u001b[43mnormalized_cov_params\u001b[49m\u001b[43m,\u001b[49m\n\u001b[32m    374\u001b[39m \u001b[43m        \u001b[49m\u001b[43mcov_type\u001b[49m\u001b[43m=\u001b[49m\u001b[43mcov_type\u001b[49m\u001b[43m,\u001b[49m\u001b[43m \u001b[49m\u001b[43mcov_kwds\u001b[49m\u001b[43m=\u001b[49m\u001b[43mcov_kwds\u001b[49m\u001b[43m,\u001b[49m\u001b[43m \u001b[49m\u001b[43muse_t\u001b[49m\u001b[43m=\u001b[49m\u001b[43muse_t\u001b[49m\u001b[43m)\u001b[49m\n\u001b[32m    375\u001b[39m \u001b[38;5;28;01melse\u001b[39;00m:\n\u001b[32m    376\u001b[39m     lfit = RegressionResults(\n\u001b[32m    377\u001b[39m         \u001b[38;5;28mself\u001b[39m, beta,\n\u001b[32m    378\u001b[39m         normalized_cov_params=\u001b[38;5;28mself\u001b[39m.normalized_cov_params,\n\u001b[32m    379\u001b[39m         cov_type=cov_type, cov_kwds=cov_kwds, use_t=use_t,\n\u001b[32m    380\u001b[39m         **kwargs)\n",
      "\u001b[36mFile \u001b[39m\u001b[32m/opt/conda/lib/python3.12/site-packages/statsmodels/regression/linear_model.py:1653\u001b[39m, in \u001b[36mRegressionResults.__init__\u001b[39m\u001b[34m(self, model, params, normalized_cov_params, scale, cov_type, cov_kwds, use_t, **kwargs)\u001b[39m\n\u001b[32m   1651\u001b[39m             use_t = use_t_2\n\u001b[32m   1652\u001b[39m         \u001b[38;5;66;03m# TODO: warn or not?\u001b[39;00m\n\u001b[32m-> \u001b[39m\u001b[32m1653\u001b[39m     \u001b[38;5;28;43mself\u001b[39;49m\u001b[43m.\u001b[49m\u001b[43mget_robustcov_results\u001b[49m\u001b[43m(\u001b[49m\u001b[43mcov_type\u001b[49m\u001b[43m=\u001b[49m\u001b[43mcov_type\u001b[49m\u001b[43m,\u001b[49m\u001b[43m \u001b[49m\u001b[43muse_self\u001b[49m\u001b[43m=\u001b[49m\u001b[38;5;28;43;01mTrue\u001b[39;49;00m\u001b[43m,\u001b[49m\n\u001b[32m   1654\u001b[39m \u001b[43m                               \u001b[49m\u001b[43muse_t\u001b[49m\u001b[43m=\u001b[49m\u001b[43muse_t\u001b[49m\u001b[43m,\u001b[49m\u001b[43m \u001b[49m\u001b[43m*\u001b[49m\u001b[43m*\u001b[49m\u001b[43mcov_kwds\u001b[49m\u001b[43m)\u001b[49m\n\u001b[32m   1655\u001b[39m \u001b[38;5;28;01mfor\u001b[39;00m key \u001b[38;5;129;01min\u001b[39;00m kwargs:\n\u001b[32m   1656\u001b[39m     \u001b[38;5;28msetattr\u001b[39m(\u001b[38;5;28mself\u001b[39m, key, kwargs[key])\n",
      "\u001b[36mFile \u001b[39m\u001b[32m/opt/conda/lib/python3.12/site-packages/statsmodels/regression/linear_model.py:2600\u001b[39m, in \u001b[36mRegressionResults.get_robustcov_results\u001b[39m\u001b[34m(self, cov_type, use_t, **kwargs)\u001b[39m\n\u001b[32m   2596\u001b[39m \u001b[38;5;28;01mif\u001b[39;00m groups.ndim == \u001b[32m1\u001b[39m:\n\u001b[32m   2597\u001b[39m     \u001b[38;5;28;01mif\u001b[39;00m adjust_df:\n\u001b[32m   2598\u001b[39m         \u001b[38;5;66;03m# need to find number of groups\u001b[39;00m\n\u001b[32m   2599\u001b[39m         \u001b[38;5;66;03m# duplicate work\u001b[39;00m\n\u001b[32m-> \u001b[39m\u001b[32m2600\u001b[39m         \u001b[38;5;28mself\u001b[39m.n_groups = n_groups = \u001b[38;5;28mlen\u001b[39m(\u001b[43mnp\u001b[49m\u001b[43m.\u001b[49m\u001b[43munique\u001b[49m\u001b[43m(\u001b[49m\u001b[43mgroups\u001b[49m\u001b[43m)\u001b[49m)\n\u001b[32m   2601\u001b[39m     res.cov_params_default = sw.cov_cluster(\n\u001b[32m   2602\u001b[39m         \u001b[38;5;28mself\u001b[39m, groups, use_correction=use_correction)\n\u001b[32m   2604\u001b[39m \u001b[38;5;28;01melif\u001b[39;00m groups.ndim == \u001b[32m2\u001b[39m:\n",
      "\u001b[36mFile \u001b[39m\u001b[32m/opt/conda/lib/python3.12/site-packages/numpy/lib/_arraysetops_impl.py:286\u001b[39m, in \u001b[36munique\u001b[39m\u001b[34m(ar, return_index, return_inverse, return_counts, axis, equal_nan)\u001b[39m\n\u001b[32m    284\u001b[39m ar = np.asanyarray(ar)\n\u001b[32m    285\u001b[39m \u001b[38;5;28;01mif\u001b[39;00m axis \u001b[38;5;129;01mis\u001b[39;00m \u001b[38;5;28;01mNone\u001b[39;00m:\n\u001b[32m--> \u001b[39m\u001b[32m286\u001b[39m     ret = \u001b[43m_unique1d\u001b[49m\u001b[43m(\u001b[49m\u001b[43mar\u001b[49m\u001b[43m,\u001b[49m\u001b[43m \u001b[49m\u001b[43mreturn_index\u001b[49m\u001b[43m,\u001b[49m\u001b[43m \u001b[49m\u001b[43mreturn_inverse\u001b[49m\u001b[43m,\u001b[49m\u001b[43m \u001b[49m\u001b[43mreturn_counts\u001b[49m\u001b[43m,\u001b[49m\n\u001b[32m    287\u001b[39m \u001b[43m                    \u001b[49m\u001b[43mequal_nan\u001b[49m\u001b[43m=\u001b[49m\u001b[43mequal_nan\u001b[49m\u001b[43m,\u001b[49m\u001b[43m \u001b[49m\u001b[43minverse_shape\u001b[49m\u001b[43m=\u001b[49m\u001b[43mar\u001b[49m\u001b[43m.\u001b[49m\u001b[43mshape\u001b[49m\u001b[43m,\u001b[49m\u001b[43m \u001b[49m\u001b[43maxis\u001b[49m\u001b[43m=\u001b[49m\u001b[38;5;28;43;01mNone\u001b[39;49;00m\u001b[43m)\u001b[49m\n\u001b[32m    288\u001b[39m     \u001b[38;5;28;01mreturn\u001b[39;00m _unpack_tuple(ret)\n\u001b[32m    290\u001b[39m \u001b[38;5;66;03m# axis was specified and not None\u001b[39;00m\n",
      "\u001b[36mFile \u001b[39m\u001b[32m/opt/conda/lib/python3.12/site-packages/numpy/lib/_arraysetops_impl.py:353\u001b[39m, in \u001b[36m_unique1d\u001b[39m\u001b[34m(ar, return_index, return_inverse, return_counts, equal_nan, inverse_shape, axis)\u001b[39m\n\u001b[32m    351\u001b[39m     aux = ar[perm]\n\u001b[32m    352\u001b[39m \u001b[38;5;28;01melse\u001b[39;00m:\n\u001b[32m--> \u001b[39m\u001b[32m353\u001b[39m     \u001b[43mar\u001b[49m\u001b[43m.\u001b[49m\u001b[43msort\u001b[49m\u001b[43m(\u001b[49m\u001b[43m)\u001b[49m\n\u001b[32m    354\u001b[39m     aux = ar\n\u001b[32m    355\u001b[39m mask = np.empty(aux.shape, dtype=np.bool)\n",
      "\u001b[31mTypeError\u001b[39m: '<' not supported between instances of 'int' and 'str'"
     ]
    }
   ],
   "source": [
    "import statsmodels.formula.api as smf\n",
    "\n",
    "# Formule du modèle Diff-in-Diff avec variables de contrôle\n",
    "formula = (\n",
    "    'np.log(valeur_fonciere) ~ treat + post_exact + did + '\n",
    "    'C(code_type_local) + surface_reelle_bati + Type_bâtiment + '\n",
    "    'Année_construction_imp + year_const_miss'\n",
    ")\n",
    "\n",
    "# Régression avec erreurs standards robustes clusterisées par département\n",
    "model = smf.ols(formula, data=df).fit(\n",
    "    cov_type='cluster',\n",
    "    cov_kwds={'groups': df['code_departement']}\n",
    ")\n",
    "\n",
    "# Résultats\n",
    "print(model.summary())\n",
    "\n"
   ]
  }
 ],
 "metadata": {
  "kernelspec": {
   "display_name": "base",
   "language": "python",
   "name": "python3"
  },
  "language_info": {
   "codemirror_mode": {
    "name": "ipython",
    "version": 3
   },
   "file_extension": ".py",
   "mimetype": "text/x-python",
   "name": "python",
   "nbconvert_exporter": "python",
   "pygments_lexer": "ipython3",
   "version": "3.12.9"
  }
 },
 "nbformat": 4,
 "nbformat_minor": 2
}

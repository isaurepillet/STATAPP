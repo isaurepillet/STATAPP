{
 "cells": [
  {
   "cell_type": "markdown",
   "metadata": {},
   "source": [
    "# 0. Initialisation et ouverture fichiers"
   ]
  },
  {
   "cell_type": "code",
   "execution_count": 1,
   "metadata": {},
   "outputs": [],
   "source": [
    "import pandas as pd\n",
    "import numpy as np \n",
    "from helpers2 import S3Connection"
   ]
  },
  {
   "cell_type": "code",
   "execution_count": 2,
   "metadata": {},
   "outputs": [
    {
     "name": "stdout",
     "output_type": "stream",
     "text": [
      "Connection successful\n"
     ]
    }
   ],
   "source": [
    "s3 = S3Connection(bucket_name=\"clichere/diffusion\")"
   ]
  },
  {
   "cell_type": "code",
   "execution_count": 3,
   "metadata": {},
   "outputs": [],
   "source": [
    "path1 = \"DPE/DPE_après_2021.parquet\"\n",
    "DPE = s3.get_tables_from_s3(path1)"
   ]
  },
  {
   "cell_type": "code",
   "execution_count": 4,
   "metadata": {},
   "outputs": [],
   "source": [
    "path2 = \"Valeursfoncières/vf.parquet\"\n",
    "vf = s3.get_tables_from_s3(path2)"
   ]
  },
  {
   "cell_type": "markdown",
   "metadata": {},
   "source": [
    "# 1. Statistiques descriptives des données"
   ]
  },
  {
   "cell_type": "code",
   "execution_count": 7,
   "metadata": {},
   "outputs": [
    {
     "name": "stdout",
     "output_type": "stream",
     "text": [
      "        Date_réception_DPE Date_établissement_DPE  \\\n",
      "19              2022-01-03             2021-11-05   \n",
      "228             2021-12-02             2021-12-02   \n",
      "253             2022-05-20             2022-05-20   \n",
      "402             2021-12-03             2021-12-03   \n",
      "405             2021-12-03             2021-12-03   \n",
      "...                    ...                    ...   \n",
      "5075468         2022-04-08             2022-03-15   \n",
      "5075473         2022-11-16             2022-11-16   \n",
      "5075474         2022-12-12             2022-12-12   \n",
      "5075475         2022-07-01             2022-07-01   \n",
      "5075476         2022-04-07             2022-03-29   \n",
      "\n",
      "                            Modèle_DPE Date_fin_validité_DPE  Version_DPE  \\\n",
      "19       DPE 3CL 2021 méthode logement            2031-11-04          1.1   \n",
      "228      DPE 3CL 2021 méthode logement            2031-12-01          1.1   \n",
      "253      DPE 3CL 2021 méthode logement            2032-05-19          2.1   \n",
      "402      DPE 3CL 2021 méthode logement            2031-12-02          1.1   \n",
      "405      DPE 3CL 2021 méthode logement            2031-12-02          1.1   \n",
      "...                                ...                   ...          ...   \n",
      "5075468     DPE NEUF logement : RT2012            2032-03-14          2.1   \n",
      "5075473     DPE NEUF logement : RT2012            2032-11-15          2.2   \n",
      "5075474     DPE NEUF logement : RT2012            2032-12-11          2.2   \n",
      "5075475     DPE NEUF logement : RT2012            2032-06-30          2.1   \n",
      "5075476     DPE NEUF logement : RT2012            2032-03-28          2.1   \n",
      "\n",
      "        Etiquette_DPE Etiquette_GES  Année_construction Type_bâtiment  \\\n",
      "19                  D             D              1948.0   appartement   \n",
      "228                 C             C              1957.0   appartement   \n",
      "253                 C             C              1959.0   appartement   \n",
      "402                 C             C              1957.0   appartement   \n",
      "405                 C             C              1957.0   appartement   \n",
      "...               ...           ...                 ...           ...   \n",
      "5075468             C             C                 NaN   appartement   \n",
      "5075473             B             B                 NaN   appartement   \n",
      "5075474             C             C                 NaN   appartement   \n",
      "5075475             C             C                 NaN   appartement   \n",
      "5075476             C             C                 NaN   appartement   \n",
      "\n",
      "        Période_construction  Surface_habitable_logement Code_INSEE_(BAN)  \\\n",
      "19                 1948-1974                        49.0            56121   \n",
      "228                1948-1974                        53.0            72181   \n",
      "253                1948-1974                        53.0            91027   \n",
      "402                1948-1974                        56.0            72181   \n",
      "405                1948-1974                        42.0            72181   \n",
      "...                      ...                         ...              ...   \n",
      "5075468                 None                        42.8            93049   \n",
      "5075473                 None                        65.9            2A004   \n",
      "5075474                 None                        77.7            93010   \n",
      "5075475                 None                        66.4            91687   \n",
      "5075476                 None                        18.3            29019   \n",
      "\n",
      "                                    Adresse_(BAN)  Score_BAN  \\\n",
      "19              6 Rue de l'Embellie 56100 Lorient       0.97   \n",
      "228                  4 Rue Béranger 72000 Le Mans       0.77   \n",
      "253                  Clos Nollet 91200 Athis-Mons       0.29   \n",
      "402                3 Allée Schubert 72100 Le Mans       0.65   \n",
      "405              allée César Franck 72100 Le Mans       0.78   \n",
      "...                                           ...        ...   \n",
      "5075468   17 Rue du Canal 93360 Neuilly-Plaisance       0.80   \n",
      "5075473       Chemin de Trabacchino 20090 Ajaccio       0.51   \n",
      "5075474      187 Rue Edouard Vaillant 93140 Bondy       0.76   \n",
      "5075475  157 Route de Fleury 91170 Viry-Châtillon       0.75   \n",
      "5075476           8 rue Dupuy de Lome 29200 Brest       0.80   \n",
      "\n",
      "         Coordonnée_cartographique_X_(BAN)  Coordonnée_cartographique_Y_(BAN)  \\\n",
      "19                               221477.50                         6759303.67   \n",
      "228                              490410.82                         6770794.72   \n",
      "253                              655472.49                         6846178.65   \n",
      "402                              491561.69                         6767126.36   \n",
      "405                              491788.03                         6767205.41   \n",
      "...                                    ...                                ...   \n",
      "5075468                          664224.81                         6861476.04   \n",
      "5075473                         1177507.73                         6111175.05   \n",
      "5075474                          662774.82                         6866182.44   \n",
      "5075475                          653615.52                         6839567.74   \n",
      "5075476                          144484.58                         6836291.72   \n",
      "\n",
      "         N°_étage_appartement Nom_résidence  \\\n",
      "19                        0.0          None   \n",
      "228                       0.0          None   \n",
      "253                       NaN          None   \n",
      "402                       0.0          None   \n",
      "405                       0.0          None   \n",
      "...                       ...           ...   \n",
      "5075468                   NaN          None   \n",
      "5075473                   NaN          None   \n",
      "5075474                   0.0          None   \n",
      "5075475                   NaN          None   \n",
      "5075476                   NaN          None   \n",
      "\n",
      "                                          Statut_géocodage  N°_région_(BAN)  \n",
      "19       adresse non géocodée ban car aucune correspond...             53.0  \n",
      "228                       adresse géocodée ban à l'adresse             52.0  \n",
      "253                       adresse géocodée ban à l'adresse             11.0  \n",
      "402                       adresse géocodée ban à l'adresse             52.0  \n",
      "405      adresse non géocodée ban car aucune correspond...             52.0  \n",
      "...                                                    ...              ...  \n",
      "5075468  adresse non géocodée ban car aucune correspond...             11.0  \n",
      "5075473  adresse non géocodée ban car aucune correspond...             94.0  \n",
      "5075474                   adresse géocodée ban à l'adresse             11.0  \n",
      "5075475  adresse non géocodée ban car aucune correspond...             11.0  \n",
      "5075476  adresse non géocodée ban car aucune correspond...             53.0  \n",
      "\n",
      "[969522 rows x 20 columns]\n",
      "Nombre de doublons : 969522\n"
     ]
    }
   ],
   "source": [
    "doublons = DPE.duplicated()\n",
    "\n",
    "# Afficher les lignes qui sont des doublons\n",
    "print(DPE[doublons])\n",
    "\n",
    "# Afficher le nombre de doublons\n",
    "print(f\"Nombre de doublons : {doublons.sum()}\")"
   ]
  },
  {
   "cell_type": "code",
   "execution_count": 8,
   "metadata": {},
   "outputs": [
    {
     "name": "stdout",
     "output_type": "stream",
     "text": [
      "0    False\n",
      "1    False\n",
      "2    False\n",
      "3    False\n",
      "4    False\n",
      "dtype: bool\n"
     ]
    }
   ],
   "source": [
    "print(doublons.head())"
   ]
  }
 ],
 "metadata": {
  "kernelspec": {
   "display_name": "base",
   "language": "python",
   "name": "python3"
  },
  "language_info": {
   "codemirror_mode": {
    "name": "ipython",
    "version": 3
   },
   "file_extension": ".py",
   "mimetype": "text/x-python",
   "name": "python",
   "nbconvert_exporter": "python",
   "pygments_lexer": "ipython3",
   "version": "3.12.9"
  }
 },
 "nbformat": 4,
 "nbformat_minor": 2
}

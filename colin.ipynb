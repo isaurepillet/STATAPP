{
 "cells": [
  {
   "cell_type": "markdown",
   "metadata": {},
   "source": [
    "# 0. Initialisation et ouverture fichiers"
   ]
  },
  {
   "cell_type": "code",
   "execution_count": 1,
   "metadata": {},
   "outputs": [],
   "source": [
    "import pandas as pd\n",
    "import numpy as np \n",
    "from helpers2 import S3Connection"
   ]
  },
  {
   "cell_type": "code",
   "execution_count": 2,
   "metadata": {},
   "outputs": [
    {
     "name": "stdout",
     "output_type": "stream",
     "text": [
      "Connection successful\n"
     ]
    }
   ],
   "source": [
    "s3 = S3Connection(bucket_name=\"clichere/diffusion\")"
   ]
  },
  {
   "cell_type": "code",
   "execution_count": 3,
   "metadata": {},
   "outputs": [],
   "source": [
    "path1 = \"DPE/DPE_après_2021.parquet\"\n",
    "DPE = s3.get_tables_from_s3(path1)"
   ]
  },
  {
   "cell_type": "code",
   "execution_count": 3,
   "metadata": {},
   "outputs": [],
   "source": [
    "path2 = \"Valeursfoncières/vf.parquet\"\n",
    "vf = s3.get_tables_from_s3(path2)"
   ]
  },
  {
   "cell_type": "markdown",
   "metadata": {},
   "source": [
    "# 1. Statistiques descriptives des données"
   ]
  },
  {
   "cell_type": "code",
   "execution_count": 5,
   "metadata": {},
   "outputs": [
    {
     "name": "stdout",
     "output_type": "stream",
     "text": [
      "Nombre de doublons : 0\n"
     ]
    }
   ],
   "source": [
    "doublons_DPE = DPE.duplicated()\n",
    "\n",
    "print(f\"Nombre de doublons : {doublons_DPE.sum()}\")"
   ]
  },
  {
   "cell_type": "code",
   "execution_count": 6,
   "metadata": {},
   "outputs": [
    {
     "name": "stdout",
     "output_type": "stream",
     "text": [
      "Nombre de doublons : 3148561\n"
     ]
    }
   ],
   "source": [
    "doublons_vf = vf.duplicated()\n",
    "\n",
    "print(f\"Nombre de doublons : {doublons_vf.sum()}\")"
   ]
  },
  {
   "cell_type": "code",
   "execution_count": 6,
   "metadata": {},
   "outputs": [
    {
     "name": "stdout",
     "output_type": "stream",
     "text": [
      "Surface Carrez du 1er lot\n",
      "None       27920474\n",
      "12,50          7315\n",
      "0,00           4471\n",
      "12,00          4234\n",
      "15,00          3420\n",
      "             ...   \n",
      "194,61            1\n",
      "233,67            1\n",
      "189,99            1\n",
      "7036,00           1\n",
      "319,18            1\n",
      "Name: count, Length: 33126, dtype: int64\n",
      "Surface reelle bati\n",
      "NaN        13342617\n",
      "0.0         5315615\n",
      "80.0         233844\n",
      "60.0         222059\n",
      "70.0         208610\n",
      "             ...   \n",
      "44499.0           1\n",
      "7736.0            1\n",
      "21032.0           1\n",
      "6493.0            1\n",
      "5299.0            1\n",
      "Name: count, Length: 11793, dtype: int64\n",
      "(30515651, 21)\n"
     ]
    }
   ],
   "source": [
    "print(vf[\"Surface Carrez du 1er lot\"].value_counts(dropna=False))\n",
    "print(vf[\"Surface reelle bati\"].value_counts(dropna=False))\n",
    "print(vf.shape)"
   ]
  },
  {
   "cell_type": "code",
   "execution_count": 4,
   "metadata": {},
   "outputs": [
    {
     "name": "stdout",
     "output_type": "stream",
     "text": [
      "count      30203664\n",
      "unique       623820\n",
      "top       100000,00\n",
      "freq         263612\n",
      "Name: Valeur fonciere, dtype: object\n"
     ]
    }
   ],
   "source": [
    "print(vf[\"Valeur fonciere\"].describe())"
   ]
  }
 ],
 "metadata": {
  "kernelspec": {
   "display_name": "base",
   "language": "python",
   "name": "python3"
  },
  "language_info": {
   "codemirror_mode": {
    "name": "ipython",
    "version": 3
   },
   "file_extension": ".py",
   "mimetype": "text/x-python",
   "name": "python",
   "nbconvert_exporter": "python",
   "pygments_lexer": "ipython3",
   "version": "3.12.9"
  }
 },
 "nbformat": 4,
 "nbformat_minor": 2
}

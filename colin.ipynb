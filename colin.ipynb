{
 "cells": [
  {
   "cell_type": "markdown",
   "metadata": {},
   "source": [
    "# 0. Initialisation"
   ]
  },
  {
   "cell_type": "code",
   "execution_count": 1,
   "metadata": {},
   "outputs": [],
   "source": [
    "import pandas as pd\n",
    "import numpy as np \n",
    "from helpers2 import S3Connection"
   ]
  },
  {
   "cell_type": "code",
   "execution_count": 2,
   "metadata": {},
   "outputs": [
    {
     "name": "stdout",
     "output_type": "stream",
     "text": [
      "Connection successful\n"
     ]
    }
   ],
   "source": [
    "s3 = S3Connection(bucket_name=\"clichere/diffusion\")"
   ]
  },
  {
   "cell_type": "markdown",
   "metadata": {},
   "source": [
    "# 1. Ouverture des fichiers"
   ]
  },
  {
   "cell_type": "markdown",
   "metadata": {},
   "source": [
    "## 1.1. DPE après juillet 2021"
   ]
  },
  {
   "cell_type": "code",
   "execution_count": 3,
   "metadata": {},
   "outputs": [],
   "source": [
    "path_logements_existants = \"DPE/DPE_ADEME/dpe-v2-logements-existants.csv\"\n",
    "DPE_logements_existants = s3.read_csv_from_s3(path_logements_existants)"
   ]
  },
  {
   "cell_type": "code",
   "execution_count": 4,
   "metadata": {},
   "outputs": [],
   "source": [
    "path_logements_neufs = \"DPE/DPE_ADEME/dpe-v2-logements-neufs.csv\"\n",
    "DPE_logements_neufs = s3.read_csv_from_s3(path_logements_neufs)"
   ]
  },
  {
   "cell_type": "code",
   "execution_count": 6,
   "metadata": {},
   "outputs": [
    {
     "name": "stdout",
     "output_type": "stream",
     "text": [
      "33\n",
      "30\n"
     ]
    }
   ],
   "source": [
    "print(len(DPE_logements_existants.columns))\n",
    "print(len(DPE_logements_neufs.columns))"
   ]
  },
  {
   "cell_type": "code",
   "execution_count": 8,
   "metadata": {},
   "outputs": [
    {
     "data": {
      "text/plain": [
       "{'Année_construction', 'Méthode_application_DPE', 'Période_construction'}"
      ]
     },
     "execution_count": 8,
     "metadata": {},
     "output_type": "execute_result"
    }
   ],
   "source": [
    "set(DPE_logements_existants.columns) - set(DPE_logements_neufs.columns)"
   ]
  },
  {
   "cell_type": "code",
   "execution_count": 10,
   "metadata": {},
   "outputs": [
    {
     "name": "stdout",
     "output_type": "stream",
     "text": [
      "Index(['Date_réception_DPE', 'Date_établissement_DPE', 'Modèle_DPE',\n",
      "       'Date_fin_validité_DPE', 'Version_DPE', 'Méthode_application_DPE',\n",
      "       'Etiquette_DPE', 'Etiquette_GES', 'Année_construction', 'Type_bâtiment',\n",
      "       'Période_construction', 'Surface_habitable_logement', 'Adresse_brute',\n",
      "       'Nom__commune_(BAN)', 'Code_INSEE_(BAN)', 'N°_voie_(BAN)',\n",
      "       'Identifiant__BAN', 'Adresse_(BAN)', 'Code_postal_(BAN)', 'Score_BAN',\n",
      "       'Nom__rue_(BAN)', 'Coordonnée_cartographique_X_(BAN)',\n",
      "       'Coordonnée_cartographique_Y_(BAN)', 'Code_postal_(brut)',\n",
      "       'N°_étage_appartement', 'Nom_résidence', 'Cage_d'escalier',\n",
      "       'Complément_d'adresse_logement', 'Statut_géocodage',\n",
      "       'Nom__commune_(Brut)', 'N°_département_(BAN)', 'N°_région_(BAN)',\n",
      "       'Complément_d'adresse_bâtiment'],\n",
      "      dtype='object')\n"
     ]
    }
   ],
   "source": [
    "print(DPE_logements_existants.columns)"
   ]
  },
  {
   "cell_type": "markdown",
   "metadata": {},
   "source": [
    "Il y a trois variables en plus dans le fichier logements : Année_construction, Période_construction et Méthode application DPE. Dans le cadre de notre analyse, il nous semble utile de garder l'année de construction et non la période de construction, la première variable étant plus précise. Nous pouvons également enlever la variable \"Méthode_application_DPE\".\n",
    "Par ailleurs, nous allons sélectionner seulement les variables qui peuvent nous intéresser pour l'analyse. "
   ]
  },
  {
   "cell_type": "code",
   "execution_count": 16,
   "metadata": {},
   "outputs": [
    {
     "name": "stdout",
     "output_type": "stream",
     "text": [
      "['dpe appartement individuel'\n",
      " 'dpe appartement généré à partir des données DPE immeuble'\n",
      " \"dpe issu d'une étude thermique réglementaire RT2012 bâtiment : appartement\"\n",
      " 'dpe maison individuelle' 'dpe immeuble collectif'\n",
      " \"dpe issu d'une étude thermique réglementaire RT2012 bâtiment : immeuble\"]\n",
      "[nan 'B3' 'NC' ... 'BTC' 'A8' '908']\n"
     ]
    }
   ],
   "source": [
    "print(DPE_logements_existants[\"Méthode_application_DPE\"].unique())\n",
    "print(DPE_logements_existants[\"Cage_d'escalier\"].unique())"
   ]
  },
  {
   "cell_type": "code",
   "execution_count": 18,
   "metadata": {},
   "outputs": [],
   "source": [
    "DPE_logements_neufs[\"Année_construction\"] = DPE_logements_neufs[\"Date_établissement_DPE\"].astype(str).str[-4:]\n",
    "DPE_logements_existants = DPE_logements_existants.drop(columns=[\"Période_construction\", \n",
    "       \"Méthode_application_DPE\",\"Adresse_brute\",\n",
    "       \"Nom__commune_(BAN)\", \"N°_voie_(BAN)\",\n",
    "       \"Identifiant__BAN\", \"Code_postal_(BAN)\",\n",
    "       \"Nom__rue_(BAN)\",\"Code_postal_(brut)\",\n",
    "       \"Cage_d'escalier\",\n",
    "       \"Complément_d'adresse_logement\",\n",
    "       \"Nom__commune_(Brut)\", \"N°_département_(BAN)\",\n",
    "       \"Complément_d'adresse_bâtiment\"])\n",
    "DPE_logements_neufs = DPE_logements_neufs.drop(columns=[\"Adresse_brute\",\n",
    "       \"Nom__commune_(BAN)\", \"N°_voie_(BAN)\",\n",
    "       \"Identifiant__BAN\", \"Code_postal_(BAN)\",\n",
    "       \"Nom__rue_(BAN)\",\"Code_postal_(brut)\",\n",
    "       \"Cage_d'escalier\",\n",
    "       \"Complément_d'adresse_logement\",\n",
    "       \"Nom__commune_(Brut)\", \"N°_département_(BAN)\",\n",
    "       \"Complément_d'adresse_bâtiment\"])"
   ]
  },
  {
   "cell_type": "code",
   "execution_count": 19,
   "metadata": {},
   "outputs": [],
   "source": [
    "DPE_logements = pd.concat([DPE_logements_existants, DPE_logements_neufs], ignore_index=True)"
   ]
  },
  {
   "cell_type": "code",
   "execution_count": 20,
   "metadata": {},
   "outputs": [],
   "source": [
    "DPE_logements['Année_construction'] = pd.to_numeric(DPE_logements['Année_construction'], errors='coerce')"
   ]
  },
  {
   "cell_type": "code",
   "execution_count": 21,
   "metadata": {},
   "outputs": [
    {
     "name": "stdout",
     "output_type": "stream",
     "text": [
      "Fichier Parquet écrit avec succès dans DPE/DPE_après_2021.parquet\n"
     ]
    }
   ],
   "source": [
    "outpath1 = 'DPE/DPE_après_2021.parquet'\n",
    "\n",
    "s3.from_pandas_to_parquet_store_in_s3(DPE_logements, outpath1)"
   ]
  },
  {
   "cell_type": "markdown",
   "metadata": {},
   "source": [
    "## 1.2. Valeurs foncières"
   ]
  },
  {
   "cell_type": "markdown",
   "metadata": {},
   "source": [
    "### Téléchargement et fusion des bases"
   ]
  },
  {
   "cell_type": "code",
   "execution_count": 22,
   "metadata": {},
   "outputs": [],
   "source": [
    "dtype_spec = {\"Code commune\": str}\n",
    "\n",
    "path_valeursfoncieres_2022 = \"Valeursfoncières/valeursfoncieres-2022.txt\"\n",
    "vf2022 = s3.read_txt_from_s3(path_valeursfoncieres_2022, sep=\"|\", dtype_spec=dtype_spec)\n",
    "\n",
    "path_valeursfoncieres_2021 = \"Valeursfoncières/valeursfoncieres-2021.txt\"\n",
    "vf2021 = s3.read_txt_from_s3(path_valeursfoncieres_2021, sep=\"|\", dtype_spec=dtype_spec)\n",
    "\n",
    "path_valeursfoncieres_2020 = \"Valeursfoncières/valeursfoncieres-2020.txt\"\n",
    "vf2020 = s3.read_txt_from_s3(path_valeursfoncieres_2020, sep=\"|\", dtype_spec=dtype_spec)\n",
    "\n",
    "path_valeursfoncieres_2019 = \"Valeursfoncières/valeursfoncieres-2019.txt\"\n",
    "vf2019 = s3.read_txt_from_s3(path_valeursfoncieres_2019, sep=\"|\", dtype_spec=dtype_spec)\n",
    "\n",
    "path_valeursfoncieres_2018 = \"Valeursfoncières/valeursfoncieres-2018.txt\"\n",
    "vf2018 = s3.read_txt_from_s3(path_valeursfoncieres_2018, sep=\"|\", dtype_spec=dtype_spec)\n",
    "\n",
    "path_valeursfoncieres_2017 = \"Valeursfoncières/valeursfoncieres-2017.txt\"\n",
    "vf2017 = s3.read_txt_from_s3(path_valeursfoncieres_2017, sep=\"|\", dtype_spec=dtype_spec)\n",
    "\n",
    "path_valeursfoncieres_2016 = \"Valeursfoncières/valeursfoncieres-2016.txt\"\n",
    "vf2016 = s3.read_txt_from_s3(path_valeursfoncieres_2016, sep=\"|\", dtype_spec=dtype_spec)\n",
    "\n",
    "path_valeursfoncieres_2015 = \"Valeursfoncières/valeursfoncieres-2015.txt\"\n",
    "vf2015 = s3.read_txt_from_s3(path_valeursfoncieres_2015, sep=\"|\", dtype_spec=dtype_spec)\n",
    "\n",
    "path_valeursfoncieres_2014 = \"Valeursfoncières/valeursfoncieres-2014.txt\"\n",
    "vf2014 = s3.read_txt_from_s3(path_valeursfoncieres_2014, sep=\"|\", dtype_spec=dtype_spec)\n"
   ]
  },
  {
   "cell_type": "code",
   "execution_count": 23,
   "metadata": {},
   "outputs": [],
   "source": [
    "vf = pd.concat([vf2022, vf2021, vf2020, vf2019, vf2018, vf2017, vf2016, vf2015, vf2014], ignore_index=True)\n"
   ]
  },
  {
   "cell_type": "code",
   "execution_count": 24,
   "metadata": {},
   "outputs": [
    {
     "name": "stdout",
     "output_type": "stream",
     "text": [
      "Index(['Identifiant de document', 'Reference document', '1 Articles CGI',\n",
      "       '2 Articles CGI', '3 Articles CGI', '4 Articles CGI', '5 Articles CGI',\n",
      "       'No disposition', 'Date mutation', 'Nature mutation', 'Valeur fonciere',\n",
      "       'No voie', 'B/T/Q', 'Type de voie', 'Code voie', 'Voie', 'Code postal',\n",
      "       'Commune', 'Code departement', 'Code commune', 'Prefixe de section',\n",
      "       'Section', 'No plan', 'No Volume', '1er lot',\n",
      "       'Surface Carrez du 1er lot', '2eme lot', 'Surface Carrez du 2eme lot',\n",
      "       '3eme lot', 'Surface Carrez du 3eme lot', '4eme lot',\n",
      "       'Surface Carrez du 4eme lot', '5eme lot', 'Surface Carrez du 5eme lot',\n",
      "       'Nombre de lots', 'Code type local', 'Type local', 'Identifiant local',\n",
      "       'Surface reelle bati', 'Nombre pieces principales', 'Nature culture',\n",
      "       'Nature culture speciale', 'Surface terrain', 'Code service CH'],\n",
      "      dtype='object')\n"
     ]
    }
   ],
   "source": [
    "print(vf.columns)"
   ]
  },
  {
   "cell_type": "code",
   "execution_count": 16,
   "metadata": {},
   "outputs": [
    {
     "name": "stdout",
     "output_type": "stream",
     "text": [
      "Identifiant de document       float64\n",
      "Reference document            float64\n",
      "1 Articles CGI                float64\n",
      "2 Articles CGI                float64\n",
      "3 Articles CGI                float64\n",
      "4 Articles CGI                float64\n",
      "5 Articles CGI                float64\n",
      "No disposition                  int64\n",
      "Date mutation                  object\n",
      "Nature mutation                object\n",
      "Valeur fonciere                object\n",
      "No voie                       float64\n",
      "B/T/Q                          object\n",
      "Type de voie                   object\n",
      "Code voie                      object\n",
      "Voie                           object\n",
      "Code postal                   float64\n",
      "Commune                        object\n",
      "Code departement               object\n",
      "Code commune                   object\n",
      "Prefixe de section            float64\n",
      "Section                        object\n",
      "No plan                         int64\n",
      "No Volume                      object\n",
      "1er lot                        object\n",
      "Surface Carrez du 1er lot      object\n",
      "2eme lot                       object\n",
      "Surface Carrez du 2eme lot     object\n",
      "3eme lot                       object\n",
      "Surface Carrez du 3eme lot     object\n",
      "4eme lot                       object\n",
      "Surface Carrez du 4eme lot     object\n",
      "5eme lot                       object\n",
      "Surface Carrez du 5eme lot     object\n",
      "Nombre de lots                  int64\n",
      "Code type local               float64\n",
      "Type local                     object\n",
      "Identifiant local             float64\n",
      "Surface reelle bati           float64\n",
      "Nombre pieces principales     float64\n",
      "Nature culture                 object\n",
      "Nature culture speciale        object\n",
      "Surface terrain               float64\n",
      "Code service CH               float64\n",
      "dtype: object\n"
     ]
    }
   ],
   "source": [
    "print(vf.dtypes)"
   ]
  },
  {
   "cell_type": "code",
   "execution_count": 17,
   "metadata": {},
   "outputs": [
    {
     "name": "stdout",
     "output_type": "stream",
     "text": [
      "Nature mutation\n",
      "Vente                                 27775517\n",
      "Vente en l'état futur d'achèvement     2085142\n",
      "Echange                                 405566\n",
      "Adjudication                            111197\n",
      "Vente terrain à bâtir                    96519\n",
      "Expropriation                            41710\n",
      "Name: count, dtype: int64\n",
      "Code voie\n",
      "NaN     257119\n",
      "0020    139097\n",
      "B005    137972\n",
      "B003    135297\n",
      "0040    132924\n",
      "         ...  \n",
      "X344         1\n",
      "8947         1\n",
      "V418         1\n",
      "V812         1\n",
      "V693         1\n",
      "Name: count, Length: 20710, dtype: int64\n",
      "Section\n",
      "A     2241102\n",
      "B     2119082\n",
      "C     1494420\n",
      "AB    1264471\n",
      "D     1027006\n",
      "       ...   \n",
      "KQ         13\n",
      "GR          7\n",
      "WJ          6\n",
      "SS          5\n",
      "WG          4\n",
      "Name: count, Length: 589, dtype: int64\n",
      "Nature mutation\n",
      "Vente                                 27775517\n",
      "Vente en l'état futur d'achèvement     2085142\n",
      "Echange                                 405566\n",
      "Adjudication                            111197\n",
      "Vente terrain à bâtir                    96519\n",
      "Expropriation                            41710\n",
      "Name: count, dtype: int64\n",
      "1er lot\n",
      "NaN      21035867\n",
      "1          326170\n",
      "2          268312\n",
      "3          210252\n",
      "10         179842\n",
      "           ...   \n",
      "33K             1\n",
      "20805           1\n",
      "7372            1\n",
      "7644            1\n",
      "7700            1\n",
      "Name: count, Length: 22126, dtype: int64\n"
     ]
    }
   ],
   "source": [
    "print(vf[\"Nature mutation\"].value_counts(dropna=False))\n",
    "print(vf[\"Code voie\"].value_counts(dropna=False))\n",
    "print(vf[\"Section\"].value_counts(dropna=False))\n",
    "print(vf[\"Nature mutation\"].value_counts(dropna=False))\n",
    "print(vf[\"1er lot\"].value_counts(dropna=False))"
   ]
  },
  {
   "cell_type": "code",
   "execution_count": 17,
   "metadata": {},
   "outputs": [],
   "source": [
    "vf_clean = vf[['Date mutation', 'Nature mutation', 'Valeur fonciere',\n",
    "       'No voie', 'B/T/Q', 'Type de voie', 'Voie', 'Code postal',\n",
    "       'Commune', 'Code commune',\n",
    "       'Surface Carrez du 1er lot', 'Surface Carrez du 2eme lot',\n",
    "       'Surface Carrez du 3eme lot',\n",
    "       'Surface Carrez du 4eme lot', 'Surface Carrez du 5eme lot',\n",
    "       'Type local','Surface reelle bati', 'Nombre pieces principales', 'Nature culture',\n",
    "       'Nature culture speciale', 'Surface terrain']]"
   ]
  },
  {
   "cell_type": "code",
   "execution_count": 18,
   "metadata": {},
   "outputs": [
    {
     "name": "stdout",
     "output_type": "stream",
     "text": [
      "         Date mutation Nature mutation Valeur fonciere  No voie B/T/Q  \\\n",
      "21677754    03/05/2017           Vente       195000,00   3791.0   NaN   \n",
      "27102458    31/12/2015           Vente             NaN      3.0   NaN   \n",
      "8566187     27/03/2020           Vente       188000,00     60.0   NaN   \n",
      "\n",
      "         Type de voie            Voie  Code postal    Commune Code commune  \\\n",
      "21677754          RTE  DE ST NAUPHARY      82000.0  MONTAUBAN          121   \n",
      "27102458          RUE        PAUL PIC      69500.0       BRON           29   \n",
      "8566187            AV    DE BRANCOLAR       6100.0       NICE           88   \n",
      "\n",
      "          ... Surface Carrez du 2eme lot Surface Carrez du 3eme lot  \\\n",
      "21677754  ...                        NaN                        NaN   \n",
      "27102458  ...                        NaN                        NaN   \n",
      "8566187   ...                      41,18                        NaN   \n",
      "\n",
      "         Surface Carrez du 4eme lot Surface Carrez du 5eme lot   Type local  \\\n",
      "21677754                        NaN                        NaN  Appartement   \n",
      "27102458                        NaN                        NaN  Appartement   \n",
      "8566187                         NaN                        NaN  Appartement   \n",
      "\n",
      "         Surface reelle bati  Nombre pieces principales  Nature culture  \\\n",
      "21677754                76.0                        3.0               T   \n",
      "27102458                49.0                        2.0               S   \n",
      "8566187                 40.0                        1.0             NaN   \n",
      "\n",
      "         Nature culture speciale Surface terrain  \n",
      "21677754                     NaN          1947.0  \n",
      "27102458                     NaN          3056.0  \n",
      "8566187                      NaN             NaN  \n",
      "\n",
      "[3 rows x 21 columns]\n"
     ]
    }
   ],
   "source": [
    "print(vf_clean[vf_clean[\"Type local\"] == \"Appartement\"].sample(3))"
   ]
  },
  {
   "cell_type": "code",
   "execution_count": 19,
   "metadata": {},
   "outputs": [
    {
     "name": "stdout",
     "output_type": "stream",
     "text": [
      "Fichier Parquet écrit avec succès dans Valeursfoncières/vf.parquet\n"
     ]
    }
   ],
   "source": [
    "outpath2 = 'Valeursfoncières/vf.parquet'\n",
    "\n",
    "s3.from_pandas_to_parquet_store_in_s3(vf_clean, outpath2)"
   ]
  },
  {
   "cell_type": "markdown",
   "metadata": {},
   "source": [
    "### Normalisation des adresses"
   ]
  },
  {
   "cell_type": "code",
   "execution_count": null,
   "metadata": {},
   "outputs": [],
   "source": [
    "# Convertir explicitement toutes les colonnes en chaînes\n",
    "#vf['Adresse'] = vf['No voie'].apply(lambda x: str(int(x)) if pd.notna(x) else '').astype(str) + \" \" + \\\n",
    " #               vf['Type de voie'].fillna('').astype(str) + \" \" + \\\n",
    " #               vf['Voie'].fillna('').astype(str) + \", \" + \\\n",
    " #               vf['Code postal'].apply(lambda x: str(int(x)) if pd.notna(x) else '').astype(str) + \" \" + \\\n",
    " #               vf['Commune'].fillna('').astype(str)\n",
    "#print(vf.describe)"
   ]
  },
  {
   "cell_type": "code",
   "execution_count": null,
   "metadata": {},
   "outputs": [],
   "source": [
    "#vf['Adresse'] = vf['Adresse'].str.strip().replace(r'^\\s*$', None, regex=True)  # Supprime les adresses vides\n",
    "#print(vf2022[['No voie', 'Type de voie', 'Voie', 'Code postal', 'Commune', 'Adresse']].head())"
   ]
  },
  {
   "cell_type": "code",
   "execution_count": null,
   "metadata": {},
   "outputs": [
    {
     "ename": "TypeError",
     "evalue": "s3_connection.normalize_address() takes 1 positional argument but 2 were given",
     "output_type": "error",
     "traceback": [
      "\u001b[0;31m---------------------------------------------------------------------------\u001b[0m",
      "\u001b[0;31mTypeError\u001b[0m                                 Traceback (most recent call last)",
      "Cell \u001b[0;32mIn[14], line 1\u001b[0m\n\u001b[0;32m----> 1\u001b[0m vf2022[\u001b[38;5;124m'\u001b[39m\u001b[38;5;124mAdresse_Normalisee\u001b[39m\u001b[38;5;124m'\u001b[39m] \u001b[38;5;241m=\u001b[39m \u001b[43mvf2022\u001b[49m\u001b[43m[\u001b[49m\u001b[38;5;124;43m'\u001b[39;49m\u001b[38;5;124;43mAdresse\u001b[39;49m\u001b[38;5;124;43m'\u001b[39;49m\u001b[43m]\u001b[49m\u001b[38;5;241;43m.\u001b[39;49m\u001b[43mapply\u001b[49m\u001b[43m(\u001b[49m\u001b[43ms3\u001b[49m\u001b[38;5;241;43m.\u001b[39;49m\u001b[43mnormalize_address\u001b[49m\u001b[43m)\u001b[49m\n\u001b[1;32m      3\u001b[0m \u001b[38;5;28mprint\u001b[39m(vf2022[[\u001b[38;5;124m'\u001b[39m\u001b[38;5;124mAdresse\u001b[39m\u001b[38;5;124m'\u001b[39m, \u001b[38;5;124m'\u001b[39m\u001b[38;5;124mAdresse_Normalisee\u001b[39m\u001b[38;5;124m'\u001b[39m]]\u001b[38;5;241m.\u001b[39mhead())\n",
      "File \u001b[0;32m/opt/conda/lib/python3.12/site-packages/pandas/core/series.py:4924\u001b[0m, in \u001b[0;36mSeries.apply\u001b[0;34m(self, func, convert_dtype, args, by_row, **kwargs)\u001b[0m\n\u001b[1;32m   4789\u001b[0m \u001b[38;5;28;01mdef\u001b[39;00m\u001b[38;5;250m \u001b[39m\u001b[38;5;21mapply\u001b[39m(\n\u001b[1;32m   4790\u001b[0m     \u001b[38;5;28mself\u001b[39m,\n\u001b[1;32m   4791\u001b[0m     func: AggFuncType,\n\u001b[0;32m   (...)\u001b[0m\n\u001b[1;32m   4796\u001b[0m     \u001b[38;5;241m*\u001b[39m\u001b[38;5;241m*\u001b[39mkwargs,\n\u001b[1;32m   4797\u001b[0m ) \u001b[38;5;241m-\u001b[39m\u001b[38;5;241m>\u001b[39m DataFrame \u001b[38;5;241m|\u001b[39m Series:\n\u001b[1;32m   4798\u001b[0m \u001b[38;5;250m    \u001b[39m\u001b[38;5;124;03m\"\"\"\u001b[39;00m\n\u001b[1;32m   4799\u001b[0m \u001b[38;5;124;03m    Invoke function on values of Series.\u001b[39;00m\n\u001b[1;32m   4800\u001b[0m \n\u001b[0;32m   (...)\u001b[0m\n\u001b[1;32m   4915\u001b[0m \u001b[38;5;124;03m    dtype: float64\u001b[39;00m\n\u001b[1;32m   4916\u001b[0m \u001b[38;5;124;03m    \"\"\"\u001b[39;00m\n\u001b[1;32m   4917\u001b[0m     \u001b[38;5;28;01mreturn\u001b[39;00m \u001b[43mSeriesApply\u001b[49m\u001b[43m(\u001b[49m\n\u001b[1;32m   4918\u001b[0m \u001b[43m        \u001b[49m\u001b[38;5;28;43mself\u001b[39;49m\u001b[43m,\u001b[49m\n\u001b[1;32m   4919\u001b[0m \u001b[43m        \u001b[49m\u001b[43mfunc\u001b[49m\u001b[43m,\u001b[49m\n\u001b[1;32m   4920\u001b[0m \u001b[43m        \u001b[49m\u001b[43mconvert_dtype\u001b[49m\u001b[38;5;241;43m=\u001b[39;49m\u001b[43mconvert_dtype\u001b[49m\u001b[43m,\u001b[49m\n\u001b[1;32m   4921\u001b[0m \u001b[43m        \u001b[49m\u001b[43mby_row\u001b[49m\u001b[38;5;241;43m=\u001b[39;49m\u001b[43mby_row\u001b[49m\u001b[43m,\u001b[49m\n\u001b[1;32m   4922\u001b[0m \u001b[43m        \u001b[49m\u001b[43margs\u001b[49m\u001b[38;5;241;43m=\u001b[39;49m\u001b[43margs\u001b[49m\u001b[43m,\u001b[49m\n\u001b[1;32m   4923\u001b[0m \u001b[43m        \u001b[49m\u001b[43mkwargs\u001b[49m\u001b[38;5;241;43m=\u001b[39;49m\u001b[43mkwargs\u001b[49m\u001b[43m,\u001b[49m\n\u001b[0;32m-> 4924\u001b[0m \u001b[43m    \u001b[49m\u001b[43m)\u001b[49m\u001b[38;5;241;43m.\u001b[39;49m\u001b[43mapply\u001b[49m\u001b[43m(\u001b[49m\u001b[43m)\u001b[49m\n",
      "File \u001b[0;32m/opt/conda/lib/python3.12/site-packages/pandas/core/apply.py:1427\u001b[0m, in \u001b[0;36mSeriesApply.apply\u001b[0;34m(self)\u001b[0m\n\u001b[1;32m   1424\u001b[0m     \u001b[38;5;28;01mreturn\u001b[39;00m \u001b[38;5;28mself\u001b[39m\u001b[38;5;241m.\u001b[39mapply_compat()\n\u001b[1;32m   1426\u001b[0m \u001b[38;5;66;03m# self.func is Callable\u001b[39;00m\n\u001b[0;32m-> 1427\u001b[0m \u001b[38;5;28;01mreturn\u001b[39;00m \u001b[38;5;28;43mself\u001b[39;49m\u001b[38;5;241;43m.\u001b[39;49m\u001b[43mapply_standard\u001b[49m\u001b[43m(\u001b[49m\u001b[43m)\u001b[49m\n",
      "File \u001b[0;32m/opt/conda/lib/python3.12/site-packages/pandas/core/apply.py:1507\u001b[0m, in \u001b[0;36mSeriesApply.apply_standard\u001b[0;34m(self)\u001b[0m\n\u001b[1;32m   1501\u001b[0m \u001b[38;5;66;03m# row-wise access\u001b[39;00m\n\u001b[1;32m   1502\u001b[0m \u001b[38;5;66;03m# apply doesn't have a `na_action` keyword and for backward compat reasons\u001b[39;00m\n\u001b[1;32m   1503\u001b[0m \u001b[38;5;66;03m# we need to give `na_action=\"ignore\"` for categorical data.\u001b[39;00m\n\u001b[1;32m   1504\u001b[0m \u001b[38;5;66;03m# TODO: remove the `na_action=\"ignore\"` when that default has been changed in\u001b[39;00m\n\u001b[1;32m   1505\u001b[0m \u001b[38;5;66;03m#  Categorical (GH51645).\u001b[39;00m\n\u001b[1;32m   1506\u001b[0m action \u001b[38;5;241m=\u001b[39m \u001b[38;5;124m\"\u001b[39m\u001b[38;5;124mignore\u001b[39m\u001b[38;5;124m\"\u001b[39m \u001b[38;5;28;01mif\u001b[39;00m \u001b[38;5;28misinstance\u001b[39m(obj\u001b[38;5;241m.\u001b[39mdtype, CategoricalDtype) \u001b[38;5;28;01melse\u001b[39;00m \u001b[38;5;28;01mNone\u001b[39;00m\n\u001b[0;32m-> 1507\u001b[0m mapped \u001b[38;5;241m=\u001b[39m \u001b[43mobj\u001b[49m\u001b[38;5;241;43m.\u001b[39;49m\u001b[43m_map_values\u001b[49m\u001b[43m(\u001b[49m\n\u001b[1;32m   1508\u001b[0m \u001b[43m    \u001b[49m\u001b[43mmapper\u001b[49m\u001b[38;5;241;43m=\u001b[39;49m\u001b[43mcurried\u001b[49m\u001b[43m,\u001b[49m\u001b[43m \u001b[49m\u001b[43mna_action\u001b[49m\u001b[38;5;241;43m=\u001b[39;49m\u001b[43maction\u001b[49m\u001b[43m,\u001b[49m\u001b[43m \u001b[49m\u001b[43mconvert\u001b[49m\u001b[38;5;241;43m=\u001b[39;49m\u001b[38;5;28;43mself\u001b[39;49m\u001b[38;5;241;43m.\u001b[39;49m\u001b[43mconvert_dtype\u001b[49m\n\u001b[1;32m   1509\u001b[0m \u001b[43m\u001b[49m\u001b[43m)\u001b[49m\n\u001b[1;32m   1511\u001b[0m \u001b[38;5;28;01mif\u001b[39;00m \u001b[38;5;28mlen\u001b[39m(mapped) \u001b[38;5;129;01mand\u001b[39;00m \u001b[38;5;28misinstance\u001b[39m(mapped[\u001b[38;5;241m0\u001b[39m], ABCSeries):\n\u001b[1;32m   1512\u001b[0m     \u001b[38;5;66;03m# GH#43986 Need to do list(mapped) in order to get treated as nested\u001b[39;00m\n\u001b[1;32m   1513\u001b[0m     \u001b[38;5;66;03m#  See also GH#25959 regarding EA support\u001b[39;00m\n\u001b[1;32m   1514\u001b[0m     \u001b[38;5;28;01mreturn\u001b[39;00m obj\u001b[38;5;241m.\u001b[39m_constructor_expanddim(\u001b[38;5;28mlist\u001b[39m(mapped), index\u001b[38;5;241m=\u001b[39mobj\u001b[38;5;241m.\u001b[39mindex)\n",
      "File \u001b[0;32m/opt/conda/lib/python3.12/site-packages/pandas/core/base.py:921\u001b[0m, in \u001b[0;36mIndexOpsMixin._map_values\u001b[0;34m(self, mapper, na_action, convert)\u001b[0m\n\u001b[1;32m    918\u001b[0m \u001b[38;5;28;01mif\u001b[39;00m \u001b[38;5;28misinstance\u001b[39m(arr, ExtensionArray):\n\u001b[1;32m    919\u001b[0m     \u001b[38;5;28;01mreturn\u001b[39;00m arr\u001b[38;5;241m.\u001b[39mmap(mapper, na_action\u001b[38;5;241m=\u001b[39mna_action)\n\u001b[0;32m--> 921\u001b[0m \u001b[38;5;28;01mreturn\u001b[39;00m \u001b[43malgorithms\u001b[49m\u001b[38;5;241;43m.\u001b[39;49m\u001b[43mmap_array\u001b[49m\u001b[43m(\u001b[49m\u001b[43marr\u001b[49m\u001b[43m,\u001b[49m\u001b[43m \u001b[49m\u001b[43mmapper\u001b[49m\u001b[43m,\u001b[49m\u001b[43m \u001b[49m\u001b[43mna_action\u001b[49m\u001b[38;5;241;43m=\u001b[39;49m\u001b[43mna_action\u001b[49m\u001b[43m,\u001b[49m\u001b[43m \u001b[49m\u001b[43mconvert\u001b[49m\u001b[38;5;241;43m=\u001b[39;49m\u001b[43mconvert\u001b[49m\u001b[43m)\u001b[49m\n",
      "File \u001b[0;32m/opt/conda/lib/python3.12/site-packages/pandas/core/algorithms.py:1743\u001b[0m, in \u001b[0;36mmap_array\u001b[0;34m(arr, mapper, na_action, convert)\u001b[0m\n\u001b[1;32m   1741\u001b[0m values \u001b[38;5;241m=\u001b[39m arr\u001b[38;5;241m.\u001b[39mastype(\u001b[38;5;28mobject\u001b[39m, copy\u001b[38;5;241m=\u001b[39m\u001b[38;5;28;01mFalse\u001b[39;00m)\n\u001b[1;32m   1742\u001b[0m \u001b[38;5;28;01mif\u001b[39;00m na_action \u001b[38;5;129;01mis\u001b[39;00m \u001b[38;5;28;01mNone\u001b[39;00m:\n\u001b[0;32m-> 1743\u001b[0m     \u001b[38;5;28;01mreturn\u001b[39;00m \u001b[43mlib\u001b[49m\u001b[38;5;241;43m.\u001b[39;49m\u001b[43mmap_infer\u001b[49m\u001b[43m(\u001b[49m\u001b[43mvalues\u001b[49m\u001b[43m,\u001b[49m\u001b[43m \u001b[49m\u001b[43mmapper\u001b[49m\u001b[43m,\u001b[49m\u001b[43m \u001b[49m\u001b[43mconvert\u001b[49m\u001b[38;5;241;43m=\u001b[39;49m\u001b[43mconvert\u001b[49m\u001b[43m)\u001b[49m\n\u001b[1;32m   1744\u001b[0m \u001b[38;5;28;01melse\u001b[39;00m:\n\u001b[1;32m   1745\u001b[0m     \u001b[38;5;28;01mreturn\u001b[39;00m lib\u001b[38;5;241m.\u001b[39mmap_infer_mask(\n\u001b[1;32m   1746\u001b[0m         values, mapper, mask\u001b[38;5;241m=\u001b[39misna(values)\u001b[38;5;241m.\u001b[39mview(np\u001b[38;5;241m.\u001b[39muint8), convert\u001b[38;5;241m=\u001b[39mconvert\n\u001b[1;32m   1747\u001b[0m     )\n",
      "File \u001b[0;32mlib.pyx:2972\u001b[0m, in \u001b[0;36mpandas._libs.lib.map_infer\u001b[0;34m()\u001b[0m\n",
      "\u001b[0;31mTypeError\u001b[0m: s3_connection.normalize_address() takes 1 positional argument but 2 were given"
     ]
    }
   ],
   "source": [
    "#vf2022['Adresse_Normalisee'] = vf2022['Adresse'].apply(s3.normalize_address)\n",
    "\n",
    "#print(vf2022[['Adresse', 'Adresse_Normalisee']].head())"
   ]
  }
 ],
 "metadata": {
  "kernelspec": {
   "display_name": "base",
   "language": "python",
   "name": "python3"
  },
  "language_info": {
   "codemirror_mode": {
    "name": "ipython",
    "version": 3
   },
   "file_extension": ".py",
   "mimetype": "text/x-python",
   "name": "python",
   "nbconvert_exporter": "python",
   "pygments_lexer": "ipython3",
   "version": "3.12.9"
  }
 },
 "nbformat": 4,
 "nbformat_minor": 2
}

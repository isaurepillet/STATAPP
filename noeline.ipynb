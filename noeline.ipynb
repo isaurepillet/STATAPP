{
 "cells": [
  {
   "cell_type": "code",
   "execution_count": 1,
   "metadata": {},
   "outputs": [],
   "source": [
    "import pandas as pd\n",
    "from postal.expand import expand_address"
   ]
  },
  {
   "cell_type": "markdown",
   "metadata": {},
   "source": [
    "# **DPE ADEME**"
   ]
  },
  {
   "cell_type": "markdown",
   "metadata": {},
   "source": [
    "### LOGEMENTS EXISTANTS ###"
   ]
  },
  {
   "cell_type": "code",
   "execution_count": 26,
   "metadata": {},
   "outputs": [
    {
     "name": "stdout",
     "output_type": "stream",
     "text": [
      "  Date_réception_DPE Date_établissement_DPE                     Modèle_DPE  \\\n",
      "0         2021-12-23             2021-12-22  DPE 3CL 2021 méthode logement   \n",
      "1         2022-01-03             2021-12-01  DPE 3CL 2021 méthode logement   \n",
      "2         2023-04-07             2023-04-07  DPE 3CL 2021 méthode logement   \n",
      "3         2021-12-22             2021-12-02  DPE 3CL 2021 méthode logement   \n",
      "4         2022-01-03             2021-10-26  DPE 3CL 2021 méthode logement   \n",
      "\n",
      "  Date_fin_validité_DPE  Version_DPE  \\\n",
      "0            2031-12-21          2.0   \n",
      "1            2031-11-30          1.1   \n",
      "2            2033-04-06          2.2   \n",
      "3            2031-12-01          1.1   \n",
      "4            2031-10-25          1.1   \n",
      "\n",
      "                             Méthode_application_DPE Etiquette_DPE  \\\n",
      "0                         dpe appartement individuel             D   \n",
      "1                         dpe appartement individuel             D   \n",
      "2  dpe appartement généré à partir des données DP...             D   \n",
      "3  dpe issu d'une étude thermique réglementaire R...             C   \n",
      "4                         dpe appartement individuel             D   \n",
      "\n",
      "  Etiquette_GES  Année_construction Type_bâtiment  ... Code_postal_(brut)  \\\n",
      "0             C              1945.0   appartement  ...              25000   \n",
      "1             D              1948.0   appartement  ...              13016   \n",
      "2             B                 NaN   appartement  ...              32000   \n",
      "3             C              1976.0   appartement  ...              44800   \n",
      "4             D              1948.0   appartement  ...              92330   \n",
      "\n",
      "   N°_étage_appartement Nom_résidence Cage_d'escalier  \\\n",
      "0                   NaN           NaN             NaN   \n",
      "1                   0.0           NaN             NaN   \n",
      "2                   0.0           NaN             NaN   \n",
      "3                   NaN           NaN             NaN   \n",
      "4                   0.0           NaN             NaN   \n",
      "\n",
      "                       Complément_d'adresse_logement  \\\n",
      "0                                                NaN   \n",
      "1                                          Etage : 6   \n",
      "2  Lot : 00045-00004-00002 - Porte : 2 - Etage : ...   \n",
      "3                                                NaN   \n",
      "4                                         Etage : NC   \n",
      "\n",
      "                                    Statut_géocodage Nom__commune_(Brut)  \\\n",
      "0                   adresse géocodée ban à l'adresse            Besançon   \n",
      "1  adresse non géocodée ban car aucune correspond...           MARSEILLE   \n",
      "2  adresse non géocodée ban car aucune correspond...                AUCH   \n",
      "3                   adresse géocodée ban à l'adresse      Saint-Herblain   \n",
      "4  adresse non géocodée ban car aucune correspond...              SCEAUX   \n",
      "\n",
      "  N°_département_(BAN)  N°_région_(BAN)  Complément_d'adresse_bâtiment  \n",
      "0                   25             27.0                            NaN  \n",
      "1                   13             93.0                            NaN  \n",
      "2                   32             76.0                c52041673531345  \n",
      "3                   44             52.0                            NaN  \n",
      "4                   92             11.0                            NaN  \n",
      "\n",
      "[5 rows x 33 columns]\n"
     ]
    },
    {
     "data": {
      "text/plain": [
       "4537525"
      ]
     },
     "execution_count": 26,
     "metadata": {},
     "output_type": "execute_result"
    }
   ],
   "source": [
    "df = pd.read_csv(\n",
    "    \"/Users/noelinecasteil/Documents/statapp/DPE/DPE_ADEME/dpe-v2-logements-existants.csv\",\n",
    "    sep=\",\",  # Séparateur CSV\n",
    "    encoding=\"utf-8\",\n",
    "    low_memory=False)\n",
    "\n",
    "print(df.head())\n",
    "df['Date_réception_DPE'].count()"
   ]
  },
  {
   "cell_type": "markdown",
   "metadata": {},
   "source": [
    "On filtre pour n'avoir que les données du département 44 en 2022."
   ]
  },
  {
   "cell_type": "code",
   "execution_count": 30,
   "metadata": {},
   "outputs": [
    {
     "name": "stdout",
     "output_type": "stream",
     "text": [
      "    Date_réception_DPE Date_établissement_DPE                     Modèle_DPE  \\\n",
      "55          2022-10-26             2022-10-26  DPE 3CL 2021 méthode logement   \n",
      "61          2022-04-05             2022-04-05  DPE 3CL 2021 méthode logement   \n",
      "103         2022-05-02             2022-05-02  DPE 3CL 2021 méthode logement   \n",
      "178         2022-05-10             2022-05-10  DPE 3CL 2021 méthode logement   \n",
      "223         2022-05-24             2022-05-24  DPE 3CL 2021 méthode logement   \n",
      "\n",
      "    Date_fin_validité_DPE  Version_DPE  \\\n",
      "55             2032-10-25          2.2   \n",
      "61             2032-04-04          2.0   \n",
      "103            2032-05-01          2.1   \n",
      "178            2032-05-09          2.1   \n",
      "223            2032-05-23          2.1   \n",
      "\n",
      "                               Méthode_application_DPE Etiquette_DPE  \\\n",
      "55   dpe appartement généré à partir des données DP...             D   \n",
      "61                          dpe appartement individuel             G   \n",
      "103                         dpe appartement individuel             D   \n",
      "178                            dpe maison individuelle             D   \n",
      "223  dpe appartement généré à partir des données DP...             C   \n",
      "\n",
      "    Etiquette_GES  Année_construction Type_bâtiment  ... Code_postal_(brut)  \\\n",
      "55              B              2007.0   appartement  ...              44130   \n",
      "61              C              1945.0   appartement  ...              44600   \n",
      "103             A              1999.0   appartement  ...              44100   \n",
      "178             D              1945.0        maison  ...              44690   \n",
      "223             C              1982.0   appartement  ...              44800   \n",
      "\n",
      "     N°_étage_appartement                          Nom_résidence  \\\n",
      "55                    NaN                                    NaN   \n",
      "61                    NaN                                étage 2   \n",
      "103                   NaN  étage 2 porte au fond du couloir face   \n",
      "178                   NaN                                    NaN   \n",
      "223                   NaN                                    NaN   \n",
      "\n",
      "    Cage_d'escalier    Complément_d'adresse_logement  \\\n",
      "55              NaN  1--2-13-21-1020-3-2925-DPE-2022   \n",
      "61              NaN                              NaN   \n",
      "103             NaN                              NaN   \n",
      "178             NaN                              NaN   \n",
      "223             NaN                              NaN   \n",
      "\n",
      "                                      Statut_géocodage Nom__commune_(Brut)  \\\n",
      "55                    adresse géocodée ban à l'adresse     Fay-de-Bretagne   \n",
      "61   adresse non géocodée ban car aucune correspond...          ST NAZAIRE   \n",
      "103  adresse non géocodée ban car aucune correspond...              NANTES   \n",
      "178  adresse non géocodée ban car aucune correspond...     CHATEAU THEBAUD   \n",
      "223                   adresse géocodée ban à l'adresse      Saint-Herblain   \n",
      "\n",
      "    N°_département_(BAN)  N°_région_(BAN)  Complément_d'adresse_bâtiment  \n",
      "55                    44             52.0                            NaN  \n",
      "61                    44             52.0                            NaN  \n",
      "103                   44             52.0                  Lot Numéro NC  \n",
      "178                   44             52.0                            NaN  \n",
      "223                   44             52.0                            NaN  \n",
      "\n",
      "[5 rows x 33 columns]\n"
     ]
    }
   ],
   "source": [
    "\n",
    "df['Date_réception_DPE'] = pd.to_datetime(df['Date_réception_DPE'], errors='coerce')\n",
    "dfv1 = df[df['Date_réception_DPE'].dt.year == 2022].copy()\n",
    "dfv2 = dfv1[dfv1['N°_département_(BAN)']=='44'].copy()\n",
    "print(dfv2.head())"
   ]
  },
  {
   "cell_type": "code",
   "execution_count": 31,
   "metadata": {},
   "outputs": [
    {
     "data": {
      "text/plain": [
       "64490"
      ]
     },
     "execution_count": 31,
     "metadata": {},
     "output_type": "execute_result"
    }
   ],
   "source": [
    "dfv2['Date_réception_DPE'].count()"
   ]
  },
  {
   "cell_type": "code",
   "execution_count": null,
   "metadata": {},
   "outputs": [
    {
     "name": "stdout",
     "output_type": "stream",
     "text": [
      "    Date_réception_DPE                                  Adresse_(BAN)  \\\n",
      "55          2022-10-26  25 Rue anne de bretagne 44130 Fay-de-Bretagne   \n",
      "61          2022-04-05         23 Rue Jean Jaurès 44600 Saint-Nazaire   \n",
      "103         2022-05-02                29 Route de Vannes 44100 Nantes   \n",
      "178         2022-05-10  9 Rue du Haut Moulinier 44690 Château-Thébaud   \n",
      "223         2022-05-24      9 Place des Aveneaux 44800 Saint-Herblain   \n",
      "\n",
      "                                    Adresse_Normalisee  \n",
      "55   25 rue anne de bretagne 44130 fay-de-bretagne;...  \n",
      "61   23 rue jean jaures 44600 saint-nazaire; 23 rue...  \n",
      "103                    29 route de vannes 44100 nantes  \n",
      "178  9 rue du haut moulinier 44690 chateau-thebaud;...  \n",
      "223  9 place des aveneaux 44800 saint-herblain; 9 p...  \n"
     ]
    }
   ],
   "source": [
    "def normalize_address(address):\n",
    "    if pd.isna(address) or address.strip() == '':\n",
    "        return None  \n",
    "    try:\n",
    "        normalized = expand_address(address)  \n",
    "        return \"; \".join(normalized)  \n",
    "    except Exception as e:\n",
    "        print(f\"Erreur avec l'adresse '{address}': {e}\")\n",
    "        return None\n",
    "\n",
    "dfv2['Adresse_Normalisee'] = dfv2['Adresse_(BAN)'].apply(normalize_address)\n",
    "\n",
    "print(dfv2[['Date_réception_DPE', 'Adresse_(BAN)', 'Adresse_Normalisee']].head())"
   ]
  },
  {
   "cell_type": "markdown",
   "metadata": {},
   "source": [
    "### LOGEMENTS NEUFS ###"
   ]
  },
  {
   "cell_type": "code",
   "execution_count": 34,
   "metadata": {},
   "outputs": [
    {
     "name": "stdout",
     "output_type": "stream",
     "text": [
      "  Date_réception_DPE Date_établissement_DPE Date_fin_validité_DPE  \\\n",
      "0         2021-09-30             2021-09-29            2031-09-28   \n",
      "1         2022-02-04             2022-02-02            2032-02-01   \n",
      "2         2023-04-05             2023-04-05            2033-04-04   \n",
      "3         2021-09-01             2021-09-01            2031-08-31   \n",
      "4         2022-07-25             2022-07-25            2032-07-24   \n",
      "\n",
      "   Version_DPE                  Modèle_DPE Etiquette_DPE Etiquette_GES  \\\n",
      "0          1.0  DPE NEUF logement : RT2012             C             C   \n",
      "1          2.0  DPE NEUF logement : RT2012             B             A   \n",
      "2          2.2  DPE NEUF logement : RT2012             A             A   \n",
      "3          1.0  DPE NEUF logement : RT2012             C             C   \n",
      "4          2.1  DPE NEUF logement : RT2012             A             A   \n",
      "\n",
      "  Type_bâtiment  Surface_habitable_logement             Adresse_brute  ...  \\\n",
      "0        maison                        43.2       42 rue de Venteille  ...   \n",
      "1   appartement                        44.2     Les Hauts de Kerdanné  ...   \n",
      "2        maison                       105.7                  Fontfary  ...   \n",
      "3        maison                        71.6                     RD 12  ...   \n",
      "4        maison                       128.8  39, avenue Marius Mathon  ...   \n",
      "\n",
      "  Code_postal_(brut) N°_étage_appartement Nom_résidence  \\\n",
      "0              33185                  NaN           NaN   \n",
      "1              29490                  NaN           NaN   \n",
      "2               7340                  NaN           NaN   \n",
      "3              31470                  NaN           NaN   \n",
      "4              69220                  NaN           NaN   \n",
      "\n",
      "  Complément_d'adresse_bâtiment Cage_d'escalier  \\\n",
      "0                           NaN             NaN   \n",
      "1                           NaN             NaN   \n",
      "2                           NaN             NaN   \n",
      "3                           NaN             NaN   \n",
      "4                           NaN             NaN   \n",
      "\n",
      "   Complément_d'adresse_logement  \\\n",
      "0                            NaN   \n",
      "1                            NaN   \n",
      "2                            NaN   \n",
      "3                            NaN   \n",
      "4                            NaN   \n",
      "\n",
      "                                    Statut_géocodage Nom__commune_(Brut)  \\\n",
      "0  adresse non géocodée ban car aucune correspond...          LE HAILLAN   \n",
      "1  adresse non géocodée ban car aucune correspond...            GUIPAVAS   \n",
      "2  adresse non géocodée ban car aucune correspond...            VINZIEUX   \n",
      "3  adresse non géocodée ban car aucune correspond...           SAINT-LYS   \n",
      "4  adresse non géocodée ban car aucune correspond...          BELLEVILLE   \n",
      "\n",
      "   N°_département_(BAN)  N°_région_(BAN)  \n",
      "0                    33             75.0  \n",
      "1                    29             53.0  \n",
      "2                    07             84.0  \n",
      "3                    91             11.0  \n",
      "4                    69             84.0  \n",
      "\n",
      "[5 rows x 30 columns]\n"
     ]
    },
    {
     "data": {
      "text/plain": [
       "537952"
      ]
     },
     "execution_count": 34,
     "metadata": {},
     "output_type": "execute_result"
    }
   ],
   "source": [
    "df2 = pd.read_csv(\n",
    "    \"/Users/noelinecasteil/Documents/statapp/DPE/DPE_ADEME/dpe-v2-logements-neufs.csv\",\n",
    "    sep=\",\",  # Séparateur CSV\n",
    "    encoding=\"utf-8\",\n",
    "    low_memory=False)\n",
    "\n",
    "print(df2.head())\n",
    "df2['Date_réception_DPE'].count()"
   ]
  },
  {
   "cell_type": "code",
   "execution_count": 35,
   "metadata": {},
   "outputs": [
    {
     "name": "stdout",
     "output_type": "stream",
     "text": [
      "    Date_réception_DPE Date_établissement_DPE Date_fin_validité_DPE  \\\n",
      "103         2022-04-28             2022-04-28            2032-04-27   \n",
      "124         2022-02-22             2022-02-22            2032-02-21   \n",
      "418         2022-01-25             2022-01-25            2032-01-24   \n",
      "613         2022-12-22             2022-12-22            2032-12-21   \n",
      "814         2022-05-30             2022-05-30            2032-05-29   \n",
      "\n",
      "     Version_DPE                  Modèle_DPE Etiquette_DPE Etiquette_GES  \\\n",
      "103          2.1  DPE NEUF logement : RT2012             A             A   \n",
      "124          2.0  DPE NEUF logement : RT2012             A             A   \n",
      "418          2.0  DPE NEUF logement : RT2012             A             A   \n",
      "613          2.2  DPE NEUF logement : RT2012             A             A   \n",
      "814          2.1  DPE NEUF logement : RT2012             A             A   \n",
      "\n",
      "    Type_bâtiment  Surface_habitable_logement  \\\n",
      "103        maison                        87.6   \n",
      "124        maison                       165.1   \n",
      "418        maison                        86.2   \n",
      "613        maison                        77.6   \n",
      "814        maison                        90.0   \n",
      "\n",
      "                                  Adresse_brute  ... Code_postal_(brut)  \\\n",
      "103  Lotiss._ Des Jonquilles_ Lot_4 - Le Boulay  ...              44850   \n",
      "124                                Rue de Bélem  ...              44470   \n",
      "418               Lot A - Chemin de l'Espérance  ...              44270   \n",
      "613                    9 RUE AUGUSTE PASGRIMAUD  ...              44170   \n",
      "814                   34 Bis Rue du Clos Martin  ...              44550   \n",
      "\n",
      "    N°_étage_appartement Nom_résidence Complément_d'adresse_bâtiment  \\\n",
      "103                  0.0           NaN                           NaN   \n",
      "124                  NaN           NaN                           NaN   \n",
      "418                  NaN           NaN                           NaN   \n",
      "613                  0.0           NaN                      4411-544   \n",
      "814                  0.0           NaN                           NaN   \n",
      "\n",
      "    Cage_d'escalier  Complément_d'adresse_logement  \\\n",
      "103             NaN                            NaN   \n",
      "124             NaN                            NaN   \n",
      "418             NaN                            NaN   \n",
      "613             NaN                            NaN   \n",
      "814             NaN                            NaN   \n",
      "\n",
      "                                      Statut_géocodage  Nom__commune_(Brut)  \\\n",
      "103                   adresse géocodée ban à l'adresse              MOUZEIL   \n",
      "124  adresse non géocodée ban car aucune correspond...    THOUARE-SUR-LOIRE   \n",
      "418  adresse non géocodée ban car aucune correspond...            MACHECOUL   \n",
      "613                   adresse géocodée ban à l'adresse        LA GRIGONNAIS   \n",
      "814                   adresse géocodée ban à l'adresse  MONTOIR DE BRETAGNE   \n",
      "\n",
      "     N°_département_(BAN)  N°_région_(BAN)  \n",
      "103                    44             52.0  \n",
      "124                    44             52.0  \n",
      "418                    44             52.0  \n",
      "613                    44             52.0  \n",
      "814                    44             52.0  \n",
      "\n",
      "[5 rows x 30 columns]\n"
     ]
    }
   ],
   "source": [
    "df2['Date_réception_DPE'] = pd.to_datetime(df2['Date_réception_DPE'], errors='coerce')\n",
    "df2v1 = df2[df2['Date_réception_DPE'].dt.year == 2022].copy()\n",
    "df2v2 = df2v1[df2v1['N°_département_(BAN)']=='44'].copy()\n",
    "print(df2v2.head())"
   ]
  },
  {
   "cell_type": "code",
   "execution_count": 36,
   "metadata": {},
   "outputs": [
    {
     "data": {
      "text/plain": [
       "11624"
      ]
     },
     "execution_count": 36,
     "metadata": {},
     "output_type": "execute_result"
    }
   ],
   "source": [
    "df2v2['Date_réception_DPE'].count()"
   ]
  },
  {
   "cell_type": "code",
   "execution_count": 37,
   "metadata": {},
   "outputs": [
    {
     "name": "stdout",
     "output_type": "stream",
     "text": [
      "    Date_réception_DPE                                      Adresse_(BAN)  \\\n",
      "103         2022-04-28                      Le Petit Boulay 44850 Mouzeil   \n",
      "124         2022-02-22               Rue du Belem 44470 Thouaré-sur-Loire   \n",
      "418         2022-01-25    Allée de l’espérance 44270 Machecoul-Saint-Même   \n",
      "613         2022-12-22       9 Rue Auguste-pasgrimaud 44170 La Grigonnais   \n",
      "814         2022-05-30  34bis Rue du Clos Martin 44550 Montoir-de-Bret...   \n",
      "\n",
      "                                    Adresse_Normalisee  \n",
      "103                      le petit boulay 44850 mouzeil  \n",
      "124  rue du belem 44470 thouare-sur-loire; rue du b...  \n",
      "418  allee de l'esperance 44270 machecoul-saint-mem...  \n",
      "613  9 rue auguste-pasgrimaud 44170 la grigonnais; ...  \n",
      "814  34bis rue du clos martin 44550 montoir-de-bret...  \n"
     ]
    }
   ],
   "source": [
    "def normalize_address(address):\n",
    "    if pd.isna(address) or address.strip() == '':\n",
    "        return None  \n",
    "    try:\n",
    "        normalized = expand_address(address)  \n",
    "        return \"; \".join(normalized)  \n",
    "    except Exception as e:\n",
    "        print(f\"Erreur avec l'adresse '{address}': {e}\")\n",
    "        return None\n",
    "\n",
    "df2v2['Adresse_Normalisee'] = df2v2['Adresse_(BAN)'].apply(normalize_address)\n",
    "\n",
    "print(df2v2[['Date_réception_DPE', 'Adresse_(BAN)', 'Adresse_Normalisee']].head())"
   ]
  }
 ],
 "metadata": {
  "kernelspec": {
   "display_name": "Python 3",
   "language": "python",
   "name": "python3"
  },
  "language_info": {
   "codemirror_mode": {
    "name": "ipython",
    "version": 3
   },
   "file_extension": ".py",
   "mimetype": "text/x-python",
   "name": "python",
   "nbconvert_exporter": "python",
   "pygments_lexer": "ipython3",
   "version": "3.12.1"
  }
 },
 "nbformat": 4,
 "nbformat_minor": 2
}

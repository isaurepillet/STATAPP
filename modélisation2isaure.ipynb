{
 "cells": [
  {
   "cell_type": "markdown",
   "metadata": {},
   "source": [
    "# Analyse de l'Impact de la Loi Anti-Passoire Thermique sur les Prix Immobiliers\n",
    "\n",
    "Dans ce notebook, nous allons évaluer l'impact de la loi anti-passoire thermique sur les prix de l'immobilier. Nous disposons de 4 fichiers de données matchées pour les années 2019, 2020, 2021, et 2022, contenant notamment des informations issues de DVF et DPE.\n",
    "\n",
    "L'analyse se fera en deux temps :\n",
    "1. Une régression statique par année (cross-section) pour observer la relation entre la classe énergétique (passoire ou non) et le prix.\n",
    "2. Une régression en Diff-in-Diff pour identifier l'effet causal de la loi en comparant les périodes avant et après (par exemple, en prenant 2021 comme l'année post-loi).\n",
    "\n",
    "Nous allons détailler chaque étape ci-dessous.\n"
   ]
  },
  {
   "cell_type": "code",
   "execution_count": 1,
   "metadata": {},
   "outputs": [],
   "source": [
    "# Importer les bibliothèques nécessaires\n",
    "import pandas as pd\n",
    "import numpy as np\n",
    "import statsmodels.api as sm\n",
    "import statsmodels.formula.api as smf\n"
   ]
  },
  {
   "cell_type": "markdown",
   "metadata": {},
   "source": [
    "## Chargement des Données\n",
    "\n",
    "Nous allons charger nos 4 fichiers CSV matchés pour les années 2019, 2020, 2021, et 2022.  \n",
    "Assure-toi que les fichiers (par exemple `final2019.csv`, `final2020.csv`, etc.) se trouvent dans le même dossier que ce notebook, ou adapte les chemins en conséquence.\n"
   ]
  },
  {
   "cell_type": "code",
   "execution_count": 5,
   "metadata": {},
   "outputs": [
    {
     "name": "stderr",
     "output_type": "stream",
     "text": [
      "/tmp/ipykernel_45595/2835024718.py:2: DtypeWarning: Columns (7,8,20,22,24,26,28,30,32) have mixed types. Specify dtype option on import or set low_memory=False.\n",
      "  df_2019 = pd.read_csv('final2019.csv')\n",
      "/tmp/ipykernel_45595/2835024718.py:3: DtypeWarning: Columns (7,8,20,22,28,30) have mixed types. Specify dtype option on import or set low_memory=False.\n",
      "  df_2020 = pd.read_csv('final2020.csv')\n",
      "/tmp/ipykernel_45595/2835024718.py:4: DtypeWarning: Columns (7,8,20,22,24,26,28,30,32) have mixed types. Specify dtype option on import or set low_memory=False.\n",
      "  df_2021 = pd.read_csv('final2019.csv')\n",
      "/tmp/ipykernel_45595/2835024718.py:5: DtypeWarning: Columns (7,8,20,22,24,28,30,32) have mixed types. Specify dtype option on import or set low_memory=False.\n",
      "  df_2022 = pd.read_csv('final2022.csv')\n"
     ]
    },
    {
     "name": "stdout",
     "output_type": "stream",
     "text": [
      "Colonnes dans final2019.csv : ['Date_établissement_DPE', 'Etiquette_DPE', 'Type_bâtiment', 'Année_construction', 'Période_construction', 'Surface_habitable_logement', 'Adresse_(BAN)', 'N°_département_(BAN)', 'Code_INSEE_(BAN)', 'Adresse_Normalisee', 'id_mutation', 'date_mutation', 'numero_disposition', 'nature_mutation', 'valeur_fonciere', 'adresse_numero', 'adresse_suffixe', 'adresse_nom_voie', 'adresse_code_voie', 'code_postal', 'code_commune', 'nom_commune', 'code_departement', 'ancien_code_commune', 'ancien_nom_commune', 'id_parcelle', 'ancien_id_parcelle', 'numero_volume', 'lot1_numero', 'lot1_surface_carrez', 'lot2_numero', 'lot2_surface_carrez', 'lot3_numero', 'lot3_surface_carrez', 'lot4_numero', 'lot4_surface_carrez', 'lot5_numero', 'lot5_surface_carrez', 'nombre_lots', 'code_type_local', 'type_local', 'surface_reelle_bati', 'nombre_pieces_principales', 'code_nature_culture', 'nature_culture', 'code_nature_culture_speciale', 'nature_culture_speciale', 'surface_terrain', 'longitude', 'latitude', 'Adresse']\n"
     ]
    },
    {
     "name": "stderr",
     "output_type": "stream",
     "text": [
      "/tmp/ipykernel_45595/2835024718.py:6: DtypeWarning: Columns (7,8,20,22,28,30) have mixed types. Specify dtype option on import or set low_memory=False.\n",
      "  df_2023 = pd.read_csv('final2023.csv')\n"
     ]
    }
   ],
   "source": [
    "# Charger les 4 fichiers CSV\n",
    "df_2019 = pd.read_csv('final2019.csv')\n",
    "df_2020 = pd.read_csv('final2020.csv')\n",
    "df_2021 = pd.read_csv('final2019.csv')\n",
    "df_2022 = pd.read_csv('final2022.csv')\n",
    "df_2023 = pd.read_csv('final2023.csv')\n",
    "\n",
    "# Pour être certain(e) que la lecture s'est bien déroulée, afficher les colonnes de 2019 par exemple\n",
    "print(\"Colonnes dans final2019.csv :\", df_2019.columns.tolist())\n"
   ]
  },
  {
   "cell_type": "code",
   "execution_count": 6,
   "metadata": {},
   "outputs": [
    {
     "name": "stdout",
     "output_type": "stream",
     "text": [
      "   id_mutation  transaction_year\n",
      "0  2019-390575              2019\n",
      "1  2019-390592              2019\n",
      "2  2019-390633              2019\n",
      "3  2019-391028              2019\n",
      "4  2019-391028              2019\n"
     ]
    }
   ],
   "source": [
    "# Ajouter la variable 'transaction_year' pour le fichier 2019\n",
    "df_2019['transaction_year'] = 2019\n",
    "df_2020['transaction_year'] = 2020\n",
    "df_2021['transaction_year'] = 2021\n",
    "df_2022['transaction_year'] = 2022\n",
    "df_2023['transaction_year'] = 2023\n",
    "\n",
    "# Vérifier l'ajout en affichant quelques lignes avec les colonnes clés\n",
    "print(df_2019[['id_mutation', 'transaction_year']].head())\n"
   ]
  },
  {
   "cell_type": "markdown",
   "metadata": {},
   "source": [
    "## Concaténation des Données\n",
    "\n",
    "Maintenant que nous avons chargé les 4 bases et ajouté la variable `transaction_year` pour chacune (ici, nous avons montré l'exemple pour 2019), nous allons les concaténer en un seul DataFrame nommé `data`.  \n",
    "Cela nous permettra d'effectuer une analyse sur l'ensemble des années (2019 à 2022).\n"
   ]
  }
 ],
 "metadata": {
  "kernelspec": {
   "display_name": "base",
   "language": "python",
   "name": "python3"
  },
  "language_info": {
   "codemirror_mode": {
    "name": "ipython",
    "version": 3
   },
   "file_extension": ".py",
   "mimetype": "text/x-python",
   "name": "python",
   "nbconvert_exporter": "python",
   "pygments_lexer": "ipython3",
   "version": "3.12.9"
  }
 },
 "nbformat": 4,
 "nbformat_minor": 2
}

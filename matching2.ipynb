{
 "cells": [
  {
   "cell_type": "markdown",
   "metadata": {},
   "source": [
    "# 0. Import des packages et des données "
   ]
  },
  {
   "cell_type": "code",
   "execution_count": 31,
   "metadata": {},
   "outputs": [],
   "source": [
    "import pandas as pd\n",
    "import numpy as np \n",
    "import matplotlib.pyplot as plt\n",
    "from helpers2 import S3Connection"
   ]
  },
  {
   "cell_type": "code",
   "execution_count": 32,
   "metadata": {},
   "outputs": [],
   "source": [
    "from postal.expand import expand_address"
   ]
  },
  {
   "cell_type": "code",
   "execution_count": 33,
   "metadata": {},
   "outputs": [
    {
     "name": "stdout",
     "output_type": "stream",
     "text": [
      "Connection successful\n"
     ]
    }
   ],
   "source": [
    "s3 = S3Connection(bucket_name=\"clichere/diffusion\")"
   ]
  },
  {
   "cell_type": "code",
   "execution_count": 34,
   "metadata": {},
   "outputs": [],
   "source": [
    "path1 = \"DPE/DPE_logements.parquet\"\n",
    "DPE = s3.get_tables_from_s3(path1)"
   ]
  },
  {
   "cell_type": "code",
   "execution_count": 4,
   "metadata": {},
   "outputs": [],
   "source": [
    "path_vf_2024 = \"valeursfoncieres/vf_2024.csv\"\n",
    "vf_2024 = s3.read_csv_from_s3(path_vf_2024)\n",
    "\n",
    "path_vf_2023 = \"valeursfoncieres/vf_2023.csv\"\n",
    "vf_2023 = s3.read_csv_from_s3(path_vf_2023)\n",
    "\n",
    "path_vf_2022 = \"valeursfoncieres/vf_2022.csv\"\n",
    "vf_2022 = s3.read_csv_from_s3(path_vf_2022)\n",
    "\n",
    "path_vf_2021 = \"valeursfoncieres/vf_2021.csv\"\n",
    "vf_2021 = s3.read_csv_from_s3(path_vf_2021)\n",
    "\n",
    "path_vf_2020 = \"valeursfoncieres/vf_2020.csv\"\n",
    "vf_2020 = s3.read_csv_from_s3(path_vf_2020)\n",
    "\n",
    "path_vf_2019 = \"valeursfoncieres/vf_2019.csv\"\n",
    "vf_2019 = s3.read_csv_from_s3(path_vf_2019)"
   ]
  },
  {
   "cell_type": "markdown",
   "metadata": {},
   "source": [
    "# 1. FONCTIONS UTILES"
   ]
  },
  {
   "cell_type": "markdown",
   "metadata": {},
   "source": [
    "Normalisation des adresses du fichier DPE et valeurs foncières. "
   ]
  },
  {
   "cell_type": "code",
   "execution_count": 35,
   "metadata": {},
   "outputs": [],
   "source": [
    "def normalize_address(address):\n",
    "    if pd.isna(address) or address.strip() == '':\n",
    "        return None  \n",
    "    try:\n",
    "        normalized = expand_address(address)  \n",
    "        return normalized[0] if normalized else None  # Ne garde que la première version de la normalisation\n",
    "    except Exception as e:\n",
    "        print(f\"Erreur avec l'adresse '{address}': {e}\")\n",
    "        return None"
   ]
  },
  {
   "cell_type": "code",
   "execution_count": 36,
   "metadata": {},
   "outputs": [],
   "source": [
    "import re\n",
    "\n",
    "def normalize_vf_address(address, code_postal):\n",
    "    \"\"\"Normalise l'adresse et supprime l'arrondissement après 'Paris' uniquement si le code postal commence par 75.\"\"\"\n",
    "    normalized_address = normalize_address(address)  # ta fonction de normalisation de base\n",
    "\n",
    "    if pd.notna(normalized_address) and str(code_postal).startswith(\"75\"):\n",
    "        # Supprime les variantes de type \"Paris 1er Arrondissement\", \"Paris 3e Arrondissement\", etc.\n",
    "        normalized_address = re.sub(r'(paris)\\s+\\d{1,2}(?:er|e)?\\s+arrondissement', r'\\1', normalized_address, flags=re.IGNORECASE)\n",
    "\n",
    "    return normalized_address\n"
   ]
  },
  {
   "cell_type": "markdown",
   "metadata": {},
   "source": [
    "FONCTION DE MATCHING"
   ]
  },
  {
   "cell_type": "code",
   "execution_count": 37,
   "metadata": {},
   "outputs": [],
   "source": [
    "def test_match(vf, df):\n",
    "    merged = []\n",
    "\n",
    "\n",
    "    #boucle par département\n",
    "    for department in df['N°_département_(BAN)'].unique():  \n",
    "        print(f\"Traitement du département : {department}\")\n",
    "        \n",
    "        #filtre\n",
    "        vf_dept = vf[vf['code_departement']==department].copy()\n",
    "        df_dept = df[df['N°_département_(BAN)']==department].copy()\n",
    "\n",
    "        #normalisation adresses\n",
    "        vf_dept['Adresse'] = vf_dept['Adresse'].str.strip().str.replace(r'\\s+', ' ', regex=True)\n",
    "        vf_dept['Adresse_Normalisee'] = vf_dept.apply(lambda row: normalize_vf_address(row['Adresse'], row['code_departement']), axis=1)\n",
    "        df_dept['Adresse_Normalisee'] = df_dept['Adresse_(BAN)'].apply(normalize_address)\n",
    "\n",
    "        #On distingue les adresses uniques et les adresses en doublons pour avoir deux catégories d'adresses et trouver celles communes aux deux bases\n",
    "        adresse_counts = vf_dept['Adresse_Normalisee'].dropna().value_counts()\n",
    "        unique1 = list(adresse_counts[adresse_counts == 1].index)\n",
    "        doublons1 = list(adresse_counts[adresse_counts > 1].index)\n",
    "        final = unique1 + doublons1\n",
    "        set_final = set(final)\n",
    "\n",
    "        adresse_counts2 = df_dept['Adresse_Normalisee'].dropna().value_counts()\n",
    "        unique2 = list(adresse_counts2[adresse_counts2 == 1].index)\n",
    "        doublons2 = list(adresse_counts2[adresse_counts2 > 1].index)\n",
    "        final2 = unique2 + doublons2\n",
    "        set_final2 = set(final2)\n",
    "\n",
    "        # On regarde les adresses communes\n",
    "        commun = set_final.intersection(set_final2)\n",
    "\n",
    "        vf_dept['surface_reelle_bati'] = pd.to_numeric(\n",
    "            vf_dept['surface_reelle_bati'].astype(str).str.replace(',', '.'), errors='coerce'\n",
    "        )\n",
    "        df_dept['Surface_habitable_logement'] = pd.to_numeric(\n",
    "            df_dept['Surface_habitable_logement'].astype(str).str.replace(',', '.'), errors='coerce'\n",
    "        )\n",
    "\n",
    "        for adresse in commun:\n",
    "            # On crée des sous dataframe contenant les lignes avec les mêmes adresses\n",
    "            dfsub = df_dept[df_dept['Adresse_Normalisee'] == adresse]\n",
    "            vfsub = vf_dept[vf_dept['Adresse_Normalisee'] == adresse]\n",
    "\n",
    "            # Boucle sur les rangs des sous dataframe\n",
    "            for _, row2 in dfsub.iterrows():\n",
    "                best_match = None\n",
    "                best_value = -1\n",
    "\n",
    "                for _, row1 in vfsub.iterrows():\n",
    "                    surface1 = row1['surface_reelle_bati']\n",
    "                    surface2 = row2['Surface_habitable_logement']\n",
    "\n",
    "                    #si surfaces identiques on match direct\n",
    "                    if surface1 == surface2:\n",
    "                        best_match = row1\n",
    "                        break\n",
    "\n",
    "                    #ecart inf à 5% et parmi les lignes avec des surfaces inf au seuil si jamais la valeur foncière est supérieure à celle de la ligne d'avant on la conserve pour avoir la plus grande\n",
    "                    if abs(surface1 - surface2) / max(surface1, surface2) < 0.05:\n",
    "                        valeur_fonciere = pd.to_numeric(str(row1.get('valeur_fonciere', 0)).replace(',', '.'), errors='coerce')\n",
    "                        if valeur_fonciere > best_value:\n",
    "                            best_value = valeur_fonciere\n",
    "                            best_match = row1\n",
    "\n",
    "                if best_match is not None:\n",
    "                    merged.append({**row2.to_dict(), **best_match.to_dict()})\n",
    "\n",
    "    #df des résultats fusionnés\n",
    "    df = pd.DataFrame(merged)\n",
    "    return df.drop_duplicates(subset=['Date_établissement_DPE', 'Adresse_Normalisee', 'Surface_habitable_logement', 'valeur_fonciere', 'Etiquette_DPE'])\n"
   ]
  },
  {
   "cell_type": "code",
   "execution_count": 38,
   "metadata": {},
   "outputs": [],
   "source": [
    "def compiler_dataframes(*dfs):\n",
    "    # Concatène tous les DataFrames passés en argument\n",
    "    df_compilé = pd.concat(dfs, ignore_index=True)\n",
    "    # Supprime les doublons\n",
    "    df_compilé = df_compilé.drop_duplicates()\n",
    "    return df_compilé"
   ]
  },
  {
   "cell_type": "markdown",
   "metadata": {},
   "source": [
    "Fonction pour mettre en forme les fichiers valeurs foncières."
   ]
  },
  {
   "cell_type": "code",
   "execution_count": 39,
   "metadata": {},
   "outputs": [],
   "source": [
    "def format_vf(vf):\n",
    "    # formatage code département\n",
    "    vf['code_departement'] = vf['code_departement'].astype(str).str.zfill(2)\n",
    "\n",
    "    # formatage code postal avec 5 chiffres comme dans DPE \n",
    "    vf['code_postal'] = vf['code_postal'].apply(lambda x: str(int(x)).zfill(5) if pd.notna(x) else '')\n",
    "\n",
    "    # construction de l'adresse formatée\n",
    "    vf['Adresse'] = vf['adresse_numero'].apply(lambda x: str(int(x)) if pd.notna(x) else '').astype(str) + \" \" + \\\n",
    "                    vf['adresse_nom_voie'].fillna('').astype(str) + \" \" + \\\n",
    "                    vf['code_postal'] + \" \" + \\\n",
    "                    vf['nom_commune'].fillna('').astype(str)\n",
    "\n",
    "    # Supprime les adresses vides ou remplies d'espaces\n",
    "    vf['Adresse'] = vf['Adresse'].str.strip().replace(r'^\\s*$', None, regex=True)\n",
    "\n",
    "    return vf"
   ]
  },
  {
   "cell_type": "markdown",
   "metadata": {},
   "source": [
    "Fonction pour mettre en forme le fichier DPE. "
   ]
  },
  {
   "cell_type": "code",
   "execution_count": 40,
   "metadata": {},
   "outputs": [],
   "source": [
    "def format_dpe(df,annee):\n",
    "    df['Date_établissement_DPE'] = pd.to_datetime(df['Date_établissement_DPE'], errors='coerce')\n",
    "    df = df[df['Date_établissement_DPE'].dt.year == annee].copy()\n",
    "    df = df[df['N°_département_(BAN)'].notna()]\n",
    "    df.loc[:, 'N°_département_(BAN)'] = df['N°_département_(BAN)'].astype(str)\n",
    "    df = df[df['Etiquette_DPE'].isin(['A', 'B', 'C', 'D', 'E', 'F', 'G'])]\n",
    "\n",
    "    return df"
   ]
  },
  {
   "cell_type": "markdown",
   "metadata": {},
   "source": [
    "# 2. Année 2019"
   ]
  },
  {
   "cell_type": "code",
   "execution_count": 41,
   "metadata": {},
   "outputs": [],
   "source": [
    "v2019 = format_vf(vf_2019)"
   ]
  },
  {
   "cell_type": "code",
   "execution_count": 42,
   "metadata": {},
   "outputs": [],
   "source": [
    "d2019 = format_dpe(DPE, 2019)"
   ]
  },
  {
   "cell_type": "code",
   "execution_count": 46,
   "metadata": {},
   "outputs": [
    {
     "name": "stdout",
     "output_type": "stream",
     "text": [
      "Traitement du département : 48\n",
      "Traitement du département : 2A\n",
      "Traitement du département : 2B\n",
      "Traitement du département : 23\n",
      "Traitement du département : 15\n",
      "Traitement du département : 55\n",
      "Traitement du département : 90\n",
      "Traitement du département : 43\n",
      "Traitement du département : 09\n",
      "Traitement du département : 46\n",
      "Traitement du département : 52\n",
      "Traitement du département : 27\n",
      "Traitement du département : 58\n",
      "Traitement du département : 32\n",
      "Traitement du département : 05\n",
      "Traitement du département : 82\n",
      "Traitement du département : 19\n",
      "Traitement du département : 70\n",
      "Traitement du département : 04\n",
      "Traitement du département : 36\n",
      "Traitement du département : 65\n",
      "Traitement du département : 61\n",
      "Traitement du département : 18\n",
      "Traitement du département : 12\n",
      "Traitement du département : 10\n",
      "Traitement du département : 39\n",
      "Traitement du département : 08\n",
      "Traitement du département : 89\n",
      "Traitement du département : 07\n",
      "Traitement du département : 16\n",
      "Traitement du département : 41\n",
      "Traitement du département : 88\n",
      "Traitement du département : 03\n",
      "Traitement du département : 81\n",
      "Traitement du département : 28\n",
      "Traitement du département : 11\n",
      "Traitement du département : 47\n",
      "Traitement du département : 53\n",
      "Traitement du département : 24\n",
      "Traitement du département : 02\n",
      "Traitement du département : 87\n",
      "Traitement du département : 79\n",
      "Traitement du département : 71\n",
      "Traitement du département : 26\n",
      "Traitement du département : 25\n",
      "Traitement du département : 50\n",
      "Traitement du département : 51\n",
      "Traitement du département : 40\n",
      "Traitement du département : 73\n",
      "Traitement du département : 66\n",
      "Traitement du département : 86\n",
      "Traitement du département : 72\n",
      "Traitement du département : 21\n",
      "Traitement du département : 45\n",
      "Traitement du département : 63\n",
      "Traitement du département : 68\n",
      "Traitement du département : 22\n",
      "Traitement du département : 80\n",
      "Traitement du département : 30\n",
      "Traitement du département : 37\n",
      "Traitement du département : 42\n",
      "Traitement du département : 60\n",
      "Traitement du département : 64\n",
      "Traitement du département : 84\n",
      "Traitement du département : 01\n",
      "Traitement du département : 56\n",
      "Traitement du département : 17\n",
      "Traitement du département : 85\n",
      "Traitement du département : 54\n",
      "Traitement du département : 95\n",
      "Traitement du département : 49\n",
      "Traitement du département : 57\n",
      "Traitement du département : 74\n",
      "Traitement du département : 14\n",
      "Traitement du département : 29\n",
      "Traitement du département : 94\n",
      "Traitement du département : 93\n",
      "Traitement du département : 76\n",
      "Traitement du département : 91\n",
      "Traitement du département : 38\n",
      "Traitement du département : 67\n",
      "Traitement du département : 83\n",
      "Traitement du département : 62\n",
      "Traitement du département : 77\n",
      "Traitement du département : 06\n",
      "Traitement du département : 35\n",
      "Traitement du département : 78\n",
      "Traitement du département : 92\n",
      "Traitement du département : 34\n",
      "Traitement du département : 44\n",
      "Traitement du département : 31\n",
      "Traitement du département : 33\n",
      "Traitement du département : 13\n",
      "Traitement du département : 69\n",
      "Traitement du département : 75\n",
      "Traitement du département : 59\n"
     ]
    }
   ],
   "source": [
    "match2019 = test_match(v2019,d2019)"
   ]
  },
  {
   "cell_type": "code",
   "execution_count": 47,
   "metadata": {},
   "outputs": [
    {
     "name": "stdout",
     "output_type": "stream",
     "text": [
      "62085\n"
     ]
    }
   ],
   "source": [
    "print(len(match2019))"
   ]
  },
  {
   "cell_type": "code",
   "execution_count": 52,
   "metadata": {},
   "outputs": [],
   "source": [
    "match2019.to_csv('final2019.csv',index=False)"
   ]
  },
  {
   "cell_type": "code",
   "execution_count": null,
   "metadata": {},
   "outputs": [
    {
     "name": "stdout",
     "output_type": "stream",
     "text": [
      "Fichier Parquet écrit avec succès dans vf_DPE/vf_DPE_2019.parquet\n"
     ]
    }
   ],
   "source": [
    "# La fonction ci-dessous écrit le df dans le s3, seules les personnes autorisées peuvent le faire\n",
    "outpath_df_2019 = \"vf_DPE/vf_DPE_2019.parquet\"\n",
    "s3.from_pandas_to_parquet_store_in_s3(match2019, outpath_df_2019)"
   ]
  },
  {
   "cell_type": "markdown",
   "metadata": {},
   "source": [
    "# 3. Année 2020"
   ]
  },
  {
   "cell_type": "code",
   "execution_count": 53,
   "metadata": {},
   "outputs": [],
   "source": [
    "v2020 = format_vf(vf_2020)"
   ]
  },
  {
   "cell_type": "code",
   "execution_count": 54,
   "metadata": {},
   "outputs": [],
   "source": [
    "d2020 = format_dpe(DPE, 2020)"
   ]
  },
  {
   "cell_type": "code",
   "execution_count": 55,
   "metadata": {},
   "outputs": [
    {
     "name": "stdout",
     "output_type": "stream",
     "text": [
      "Traitement du département : 48\n",
      "Traitement du département : 2B\n",
      "Traitement du département : 2A\n",
      "Traitement du département : 23\n",
      "Traitement du département : 55\n",
      "Traitement du département : 15\n",
      "Traitement du département : 90\n",
      "Traitement du département : 43\n",
      "Traitement du département : 09\n",
      "Traitement du département : 52\n",
      "Traitement du département : 46\n",
      "Traitement du département : 58\n",
      "Traitement du département : 32\n",
      "Traitement du département : 05\n",
      "Traitement du département : 70\n",
      "Traitement du département : 82\n",
      "Traitement du département : 19\n",
      "Traitement du département : 04\n",
      "Traitement du département : 65\n",
      "Traitement du département : 61\n",
      "Traitement du département : 89\n",
      "Traitement du département : 18\n",
      "Traitement du département : 10\n",
      "Traitement du département : 12\n",
      "Traitement du département : 08\n",
      "Traitement du département : 39\n",
      "Traitement du département : 36\n",
      "Traitement du département : 41\n",
      "Traitement du département : 07\n",
      "Traitement du département : 16\n",
      "Traitement du département : 03\n",
      "Traitement du département : 88\n",
      "Traitement du département : 28\n",
      "Traitement du département : 11\n",
      "Traitement du département : 47\n",
      "Traitement du département : 24\n",
      "Traitement du département : 02\n",
      "Traitement du département : 53\n",
      "Traitement du département : 81\n",
      "Traitement du département : 79\n",
      "Traitement du département : 87\n",
      "Traitement du département : 26\n",
      "Traitement du département : 50\n",
      "Traitement du département : 25\n",
      "Traitement du département : 71\n",
      "Traitement du département : 40\n",
      "Traitement du département : 51\n",
      "Traitement du département : 27\n",
      "Traitement du département : 66\n",
      "Traitement du département : 86\n",
      "Traitement du département : 73\n",
      "Traitement du département : 21\n",
      "Traitement du département : 63\n",
      "Traitement du département : 72\n",
      "Traitement du département : 22\n",
      "Traitement du département : 42\n",
      "Traitement du département : 80\n",
      "Traitement du département : 60\n",
      "Traitement du département : 84\n",
      "Traitement du département : 30\n",
      "Traitement du département : 64\n",
      "Traitement du département : 37\n",
      "Traitement du département : 68\n",
      "Traitement du département : 45\n",
      "Traitement du département : 01\n",
      "Traitement du département : 56\n",
      "Traitement du département : 85\n",
      "Traitement du département : 17\n",
      "Traitement du département : 54\n",
      "Traitement du département : 74\n",
      "Traitement du département : 14\n",
      "Traitement du département : 57\n",
      "Traitement du département : 49\n",
      "Traitement du département : 29\n",
      "Traitement du département : 94\n",
      "Traitement du département : 95\n",
      "Traitement du département : 93\n",
      "Traitement du département : 91\n",
      "Traitement du département : 76\n",
      "Traitement du département : 06\n",
      "Traitement du département : 38\n",
      "Traitement du département : 67\n",
      "Traitement du département : 77\n",
      "Traitement du département : 75\n",
      "Traitement du département : 62\n",
      "Traitement du département : 78\n",
      "Traitement du département : 35\n",
      "Traitement du département : 83\n",
      "Traitement du département : 92\n",
      "Traitement du département : 34\n",
      "Traitement du département : 44\n",
      "Traitement du département : 31\n",
      "Traitement du département : 33\n",
      "Traitement du département : 69\n",
      "Traitement du département : 13\n",
      "Traitement du département : 59\n"
     ]
    }
   ],
   "source": [
    "match2020 = test_match(v2020,d2020)"
   ]
  },
  {
   "cell_type": "code",
   "execution_count": 56,
   "metadata": {},
   "outputs": [
    {
     "name": "stdout",
     "output_type": "stream",
     "text": [
      "73911\n"
     ]
    }
   ],
   "source": [
    "print(len(match2020))"
   ]
  },
  {
   "cell_type": "code",
   "execution_count": 58,
   "metadata": {},
   "outputs": [],
   "source": [
    "match2020.to_csv('final2020.csv',index=False)"
   ]
  },
  {
   "cell_type": "code",
   "execution_count": null,
   "metadata": {},
   "outputs": [
    {
     "name": "stdout",
     "output_type": "stream",
     "text": [
      "Fichier Parquet écrit avec succès dans vf_DPE/vf_DPE_2020.parquet\n"
     ]
    }
   ],
   "source": [
    "# La fonction ci-dessous écrit le df dans le s3, seules les personnes autorisées peuvent le faire\n",
    "outpath_df_2020 = \"vf_DPE/vf_DPE_2020.parquet\"\n",
    "s3.from_pandas_to_parquet_store_in_s3(match2020, outpath_df_2020)"
   ]
  },
  {
   "cell_type": "markdown",
   "metadata": {},
   "source": [
    "# 4. Année 2021"
   ]
  },
  {
   "cell_type": "code",
   "execution_count": 59,
   "metadata": {},
   "outputs": [],
   "source": [
    "v2021 = format_vf(vf_2021)"
   ]
  },
  {
   "cell_type": "code",
   "execution_count": 60,
   "metadata": {},
   "outputs": [],
   "source": [
    "d2021 = format_dpe(DPE,2021)"
   ]
  },
  {
   "cell_type": "code",
   "execution_count": 61,
   "metadata": {},
   "outputs": [
    {
     "name": "stdout",
     "output_type": "stream",
     "text": [
      "Traitement du département : 48\n",
      "Traitement du département : 2B\n",
      "Traitement du département : 2A\n",
      "Traitement du département : 55\n",
      "Traitement du département : 15\n",
      "Traitement du département : 23\n",
      "Traitement du département : 90\n",
      "Traitement du département : 43\n",
      "Traitement du département : 09\n",
      "Traitement du département : 46\n",
      "Traitement du département : 52\n",
      "Traitement du département : 58\n",
      "Traitement du département : 32\n",
      "Traitement du département : 05\n",
      "Traitement du département : 70\n",
      "Traitement du département : 19\n",
      "Traitement du département : 04\n",
      "Traitement du département : 82\n",
      "Traitement du département : 08\n",
      "Traitement du département : 18\n",
      "Traitement du département : 10\n",
      "Traitement du département : 61\n",
      "Traitement du département : 36\n",
      "Traitement du département : 12\n",
      "Traitement du département : 65\n",
      "Traitement du département : 40\n",
      "Traitement du département : 39\n",
      "Traitement du département : 16\n",
      "Traitement du département : 41\n",
      "Traitement du département : 07\n",
      "Traitement du département : 03\n",
      "Traitement du département : 89\n",
      "Traitement du département : 88\n",
      "Traitement du département : 28\n",
      "Traitement du département : 47\n",
      "Traitement du département : 11\n",
      "Traitement du département : 53\n",
      "Traitement du département : 24\n",
      "Traitement du département : 02\n",
      "Traitement du département : 81\n",
      "Traitement du département : 79\n",
      "Traitement du département : 87\n",
      "Traitement du département : 50\n",
      "Traitement du département : 25\n",
      "Traitement du département : 26\n",
      "Traitement du département : 71\n",
      "Traitement du département : 27\n",
      "Traitement du département : 51\n",
      "Traitement du département : 66\n",
      "Traitement du département : 86\n",
      "Traitement du département : 91\n",
      "Traitement du département : 73\n",
      "Traitement du département : 21\n",
      "Traitement du département : 72\n",
      "Traitement du département : 22\n",
      "Traitement du département : 63\n",
      "Traitement du département : 80\n",
      "Traitement du département : 84\n",
      "Traitement du département : 42\n",
      "Traitement du département : 37\n",
      "Traitement du département : 60\n",
      "Traitement du département : 64\n",
      "Traitement du département : 45\n",
      "Traitement du département : 68\n",
      "Traitement du département : 01\n",
      "Traitement du département : 30\n",
      "Traitement du département : 56\n",
      "Traitement du département : 85\n",
      "Traitement du département : 54\n",
      "Traitement du département : 17\n",
      "Traitement du département : 57\n",
      "Traitement du département : 74\n",
      "Traitement du département : 14\n",
      "Traitement du département : 49\n",
      "Traitement du département : 29\n",
      "Traitement du département : 94\n",
      "Traitement du département : 95\n",
      "Traitement du département : 93\n",
      "Traitement du département : 76\n",
      "Traitement du département : 67\n",
      "Traitement du département : 38\n",
      "Traitement du département : 77\n",
      "Traitement du département : 62\n",
      "Traitement du département : 35\n",
      "Traitement du département : 06\n",
      "Traitement du département : 78\n",
      "Traitement du département : 83\n",
      "Traitement du département : 92\n",
      "Traitement du département : 34\n",
      "Traitement du département : 44\n",
      "Traitement du département : 31\n",
      "Traitement du département : 33\n",
      "Traitement du département : 75\n",
      "Traitement du département : 69\n",
      "Traitement du département : 13\n",
      "Traitement du département : 59\n",
      "Traitement du département : 972\n",
      "Traitement du département : 974\n",
      "Traitement du département : 973\n",
      "Traitement du département : 976\n",
      "Traitement du département : 971\n"
     ]
    }
   ],
   "source": [
    "match2021 = test_match(v2021,d2021)"
   ]
  },
  {
   "cell_type": "code",
   "execution_count": 62,
   "metadata": {},
   "outputs": [
    {
     "name": "stdout",
     "output_type": "stream",
     "text": [
      "114801\n"
     ]
    }
   ],
   "source": [
    "print(len(match2021))"
   ]
  },
  {
   "cell_type": "code",
   "execution_count": 63,
   "metadata": {},
   "outputs": [],
   "source": [
    "match2021.to_csv('final2021.csv',index=False)"
   ]
  },
  {
   "cell_type": "code",
   "execution_count": 24,
   "metadata": {},
   "outputs": [
    {
     "name": "stdout",
     "output_type": "stream",
     "text": [
      "Fichier Parquet écrit avec succès dans vf_DPE/vf_DPE_2021.parquet\n"
     ]
    }
   ],
   "source": [
    "# La fonction ci-dessous écrit le df dans le s3, seuls les personnes autorisées peuvent le faire\n",
    "outpath_df_2021 = \"vf_DPE/vf_DPE_2021.parquet\"\n",
    "s3.from_pandas_to_parquet_store_in_s3(match2021, outpath_df_2021)"
   ]
  },
  {
   "cell_type": "markdown",
   "metadata": {},
   "source": [
    "# 5. Année 2022"
   ]
  },
  {
   "cell_type": "code",
   "execution_count": 12,
   "metadata": {},
   "outputs": [],
   "source": [
    "v2022 = format_vf(vf_2022)"
   ]
  },
  {
   "cell_type": "code",
   "execution_count": 13,
   "metadata": {},
   "outputs": [],
   "source": [
    "d2022 = format_dpe(DPE,2022)"
   ]
  },
  {
   "cell_type": "code",
   "execution_count": 14,
   "metadata": {},
   "outputs": [
    {
     "name": "stdout",
     "output_type": "stream",
     "text": [
      "Traitement du département : 14\n",
      "Traitement du département : 58\n",
      "Traitement du département : 44\n",
      "Traitement du département : 68\n",
      "Traitement du département : 71\n",
      "Traitement du département : 62\n",
      "Traitement du département : 74\n",
      "Traitement du département : 17\n",
      "Traitement du département : 83\n",
      "Traitement du département : 34\n",
      "Traitement du département : 33\n",
      "Traitement du département : 91\n",
      "Traitement du département : 21\n",
      "Traitement du département : 11\n",
      "Traitement du département : 02\n",
      "Traitement du département : 92\n",
      "Traitement du département : 59\n",
      "Traitement du département : 94\n",
      "Traitement du département : 75\n",
      "Traitement du département : 50\n",
      "Traitement du département : 37\n",
      "Traitement du département : 13\n",
      "Traitement du département : 81\n",
      "Traitement du département : 67\n",
      "Traitement du département : 93\n",
      "Traitement du département : 29\n",
      "Traitement du département : 63\n",
      "Traitement du département : 36\n",
      "Traitement du département : 95\n",
      "Traitement du département : 76\n",
      "Traitement du département : 78\n",
      "Traitement du département : 38\n",
      "Traitement du département : 51\n",
      "Traitement du département : 57\n",
      "Traitement du département : 77\n",
      "Traitement du département : 35\n",
      "Traitement du département : 54\n",
      "Traitement du département : 80\n",
      "Traitement du département : 73\n",
      "Traitement du département : 31\n",
      "Traitement du département : 49\n",
      "Traitement du département : 60\n",
      "Traitement du département : 45\n",
      "Traitement du département : 41\n",
      "Traitement du département : 28\n",
      "Traitement du département : 03\n",
      "Traitement du département : 10\n",
      "Traitement du département : 30\n",
      "Traitement du département : 56\n",
      "Traitement du département : 12\n",
      "Traitement du département : 64\n",
      "Traitement du département : 69\n",
      "Traitement du département : 55\n",
      "Traitement du département : 84\n",
      "Traitement du département : 24\n",
      "Traitement du département : 61\n",
      "Traitement du département : 27\n",
      "Traitement du département : 47\n",
      "Traitement du département : 89\n",
      "Traitement du département : 85\n",
      "Traitement du département : 87\n",
      "Traitement du département : 06\n",
      "Traitement du département : 16\n",
      "Traitement du département : 07\n",
      "Traitement du département : 42\n",
      "Traitement du département : 72\n",
      "Traitement du département : 79\n",
      "Traitement du département : 2B\n",
      "Traitement du département : 25\n",
      "Traitement du département : 15\n",
      "Traitement du département : 04\n",
      "Traitement du département : 23\n",
      "Traitement du département : 01\n",
      "Traitement du département : 66\n",
      "Traitement du département : 53\n",
      "Traitement du département : 26\n",
      "Traitement du département : 32\n",
      "Traitement du département : 05\n",
      "Traitement du département : 08\n",
      "Traitement du département : 18\n",
      "Traitement du département : 22\n",
      "Traitement du département : 40\n",
      "Traitement du département : 88\n",
      "Traitement du département : 52\n",
      "Traitement du département : 43\n",
      "Traitement du département : 19\n",
      "Traitement du département : 90\n",
      "Traitement du département : 86\n",
      "Traitement du département : 39\n",
      "Traitement du département : 65\n",
      "Traitement du département : 48\n",
      "Traitement du département : 82\n",
      "Traitement du département : 09\n",
      "Traitement du département : 46\n",
      "Traitement du département : 70\n",
      "Traitement du département : 972\n",
      "Traitement du département : 974\n",
      "Traitement du département : 2A\n",
      "Traitement du département : 971\n",
      "Traitement du département : 976\n",
      "Traitement du département : 973\n",
      "Traitement du département : 988\n"
     ]
    }
   ],
   "source": [
    "match2022 = test_match(v2022,d2022)"
   ]
  },
  {
   "cell_type": "code",
   "execution_count": 15,
   "metadata": {},
   "outputs": [
    {
     "name": "stdout",
     "output_type": "stream",
     "text": [
      "188011\n"
     ]
    }
   ],
   "source": [
    "print(len(match2022))"
   ]
  },
  {
   "cell_type": "code",
   "execution_count": 16,
   "metadata": {},
   "outputs": [],
   "source": [
    "match2022.to_csv('final2022.csv',index=False)"
   ]
  },
  {
   "cell_type": "code",
   "execution_count": null,
   "metadata": {},
   "outputs": [],
   "source": [
    "# La fonction ci-dessous écrit le df dans le s3, seuls les personnes autorisées peuvent le faire\n",
    "outpath_df_2022 = \"vf_DPE/vf_DPE_2022.parquet\"\n",
    "s3.from_pandas_to_parquet_store_in_s3(match2022, outpath_df_2022)"
   ]
  },
  {
   "cell_type": "markdown",
   "metadata": {},
   "source": [
    "# 6. Année 2023"
   ]
  },
  {
   "cell_type": "code",
   "execution_count": 17,
   "metadata": {},
   "outputs": [],
   "source": [
    "v2023 = format_vf(vf_2023)"
   ]
  },
  {
   "cell_type": "code",
   "execution_count": 18,
   "metadata": {},
   "outputs": [],
   "source": [
    "d2023 = format_dpe(DPE, 2023)"
   ]
  },
  {
   "cell_type": "code",
   "execution_count": 19,
   "metadata": {},
   "outputs": [
    {
     "name": "stdout",
     "output_type": "stream",
     "text": [
      "Traitement du département : 84\n",
      "Traitement du département : 32\n",
      "Traitement du département : 59\n",
      "Traitement du département : 34\n",
      "Traitement du département : 56\n",
      "Traitement du département : 44\n",
      "Traitement du département : 76\n",
      "Traitement du département : 35\n",
      "Traitement du département : 93\n",
      "Traitement du département : 49\n",
      "Traitement du département : 69\n",
      "Traitement du département : 77\n",
      "Traitement du département : 83\n",
      "Traitement du département : 75\n",
      "Traitement du département : 22\n",
      "Traitement du département : 16\n",
      "Traitement du département : 78\n",
      "Traitement du département : 73\n",
      "Traitement du département : 50\n",
      "Traitement du département : 92\n",
      "Traitement du département : 80\n",
      "Traitement du département : 11\n",
      "Traitement du département : 67\n",
      "Traitement du département : 30\n",
      "Traitement du département : 14\n",
      "Traitement du département : 60\n",
      "Traitement du département : 64\n",
      "Traitement du département : 94\n",
      "Traitement du département : 29\n",
      "Traitement du département : 28\n",
      "Traitement du département : 91\n",
      "Traitement du département : 13\n",
      "Traitement du département : 62\n",
      "Traitement du département : 36\n",
      "Traitement du département : 95\n",
      "Traitement du département : 37\n",
      "Traitement du département : 51\n",
      "Traitement du département : 88\n",
      "Traitement du département : 63\n",
      "Traitement du département : 31\n",
      "Traitement du département : 24\n",
      "Traitement du département : 25\n",
      "Traitement du département : 89\n",
      "Traitement du département : 87\n",
      "Traitement du département : 21\n",
      "Traitement du département : 42\n",
      "Traitement du département : 40\n",
      "Traitement du département : 17\n",
      "Traitement du département : 06\n",
      "Traitement du département : 81\n",
      "Traitement du département : 68\n",
      "Traitement du département : 38\n",
      "Traitement du département : 66\n",
      "Traitement du département : 33\n",
      "Traitement du département : 58\n",
      "Traitement du département : 02\n",
      "Traitement du département : 39\n",
      "Traitement du département : 10\n",
      "Traitement du département : 70\n",
      "Traitement du département : 23\n",
      "Traitement du département : 57\n",
      "Traitement du département : 53\n",
      "Traitement du département : 03\n",
      "Traitement du département : 41\n",
      "Traitement du département : 74\n",
      "Traitement du département : 45\n",
      "Traitement du département : 55\n",
      "Traitement du département : 85\n",
      "Traitement du département : 04\n",
      "Traitement du département : 54\n",
      "Traitement du département : 48\n",
      "Traitement du département : 71\n",
      "Traitement du département : 27\n",
      "Traitement du département : 82\n",
      "Traitement du département : 01\n",
      "Traitement du département : 72\n",
      "Traitement du département : 12\n",
      "Traitement du département : 43\n",
      "Traitement du département : 09\n",
      "Traitement du département : 47\n",
      "Traitement du département : 86\n",
      "Traitement du département : 79\n",
      "Traitement du département : 46\n",
      "Traitement du département : 07\n",
      "Traitement du département : 19\n",
      "Traitement du département : 15\n",
      "Traitement du département : 05\n",
      "Traitement du département : 08\n",
      "Traitement du département : 26\n",
      "Traitement du département : 972\n",
      "Traitement du département : 65\n",
      "Traitement du département : 2A\n",
      "Traitement du département : 61\n",
      "Traitement du département : 52\n",
      "Traitement du département : 18\n",
      "Traitement du département : 90\n",
      "Traitement du département : 971\n",
      "Traitement du département : 974\n",
      "Traitement du département : 2B\n",
      "Traitement du département : 973\n",
      "Traitement du département : 988\n"
     ]
    }
   ],
   "source": [
    "match2023 = test_match(v2023,d2023)"
   ]
  },
  {
   "cell_type": "code",
   "execution_count": 21,
   "metadata": {},
   "outputs": [
    {
     "name": "stdout",
     "output_type": "stream",
     "text": [
      "105100\n"
     ]
    }
   ],
   "source": [
    "print(len(match2023))"
   ]
  },
  {
   "cell_type": "code",
   "execution_count": 25,
   "metadata": {},
   "outputs": [],
   "source": [
    "match2023.to_csv('final2023.csv',index=False)"
   ]
  },
  {
   "cell_type": "code",
   "execution_count": null,
   "metadata": {},
   "outputs": [],
   "source": [
    "# La fonction ci-dessous écrit le df dans le s3, seuls les personnes autorisées peuvent le faire\n",
    "outpath_df_2023 = \"vf_DPE/vf_DPE_2023.parquet\"\n",
    "s3.from_pandas_to_parquet_store_in_s3(match2023, outpath_df_2023)"
   ]
  },
  {
   "cell_type": "markdown",
   "metadata": {},
   "source": [
    "# 7. Année 2024"
   ]
  },
  {
   "cell_type": "code",
   "execution_count": 44,
   "metadata": {},
   "outputs": [
    {
     "name": "stdout",
     "output_type": "stream",
     "text": [
      "1566643\n"
     ]
    }
   ],
   "source": [
    "print(len(vf_2024))"
   ]
  },
  {
   "cell_type": "code",
   "execution_count": 41,
   "metadata": {},
   "outputs": [],
   "source": [
    "v2024 = format_vf(vf_2024)"
   ]
  },
  {
   "cell_type": "code",
   "execution_count": 42,
   "metadata": {},
   "outputs": [],
   "source": [
    "d2024 = format_dpe(DPE,2024)"
   ]
  },
  {
   "cell_type": "code",
   "execution_count": 45,
   "metadata": {},
   "outputs": [
    {
     "name": "stdout",
     "output_type": "stream",
     "text": [
      "9\n"
     ]
    }
   ],
   "source": [
    "print(len(d2024))"
   ]
  },
  {
   "cell_type": "code",
   "execution_count": 43,
   "metadata": {},
   "outputs": [
    {
     "name": "stdout",
     "output_type": "stream",
     "text": [
      "Traitement du département : 65\n",
      "Traitement du département : 06\n"
     ]
    }
   ],
   "source": [
    "match2024 = test_match(v2024,d2024)"
   ]
  },
  {
   "cell_type": "code",
   "execution_count": 65,
   "metadata": {},
   "outputs": [
    {
     "name": "stdout",
     "output_type": "stream",
     "text": [
      "0\n"
     ]
    }
   ],
   "source": [
    "print(len(match2024))"
   ]
  },
  {
   "cell_type": "code",
   "execution_count": null,
   "metadata": {},
   "outputs": [],
   "source": [
    "# La fonction ci-dessous écrit le df dans le s3, seuls les personnes autorisées peuvent le faire\n",
    "outpath_df_2024 = \"vf_DPE/vf_DPE_2024.parquet\"\n",
    "s3.from_pandas_to_parquet_store_in_s3(match2024, outpath_df_2024)"
   ]
  },
  {
   "cell_type": "markdown",
   "metadata": {},
   "source": [
    "# 8. Matching des 6 bases de données"
   ]
  },
  {
   "cell_type": "code",
   "execution_count": 67,
   "metadata": {},
   "outputs": [],
   "source": [
    "result = compiler_dataframes(match2019,match2020,match2021,match2022,match2023,match2024)"
   ]
  },
  {
   "cell_type": "code",
   "execution_count": null,
   "metadata": {},
   "outputs": [],
   "source": [
    "# La fonction ci-dessous écrit le df dans le s3, seuls les personnes autorisées peuvent le faire\n",
    "outpath_df = \"vf_DPE/vf_DPE.parquet\"\n",
    "s3.from_pandas_to_parquet_store_in_s3(result, outpath_df)"
   ]
  },
  {
   "cell_type": "code",
   "execution_count": 68,
   "metadata": {},
   "outputs": [
    {
     "name": "stdout",
     "output_type": "stream",
     "text": [
      "512824\n"
     ]
    }
   ],
   "source": [
    "print(len(result))"
   ]
  },
  {
   "cell_type": "markdown",
   "metadata": {},
   "source": [
    "# DEPARTEMENT 75"
   ]
  },
  {
   "cell_type": "code",
   "execution_count": 25,
   "metadata": {},
   "outputs": [],
   "source": [
    "DPE75 = DPE[DPE['N°_département_(BAN)']=='75'].copy()"
   ]
  },
  {
   "cell_type": "code",
   "execution_count": 26,
   "metadata": {},
   "outputs": [],
   "source": [
    "dpematch75 = format_dpe(DPE75, 2021)"
   ]
  },
  {
   "cell_type": "code",
   "execution_count": 15,
   "metadata": {},
   "outputs": [
    {
     "name": "stdout",
     "output_type": "stream",
     "text": [
      "Traitement du département : 75\n"
     ]
    }
   ],
   "source": [
    "match75 = test_match(vf75,dpematch75)"
   ]
  },
  {
   "cell_type": "code",
   "execution_count": 17,
   "metadata": {},
   "outputs": [
    {
     "name": "stdout",
     "output_type": "stream",
     "text": [
      "5360\n"
     ]
    }
   ],
   "source": [
    "print(len(match75))"
   ]
  },
  {
   "cell_type": "code",
   "execution_count": 23,
   "metadata": {},
   "outputs": [],
   "source": [
    "vf75 = vf_2021[vf_2021['code_departement']=='75'].copy()"
   ]
  },
  {
   "cell_type": "code",
   "execution_count": 24,
   "metadata": {},
   "outputs": [],
   "source": [
    "vf75 = format_vf(vf75)"
   ]
  },
  {
   "cell_type": "code",
   "execution_count": 20,
   "metadata": {},
   "outputs": [
    {
     "name": "stdout",
     "output_type": "stream",
     "text": [
      "['Paris 8e Arrondissement' 'Paris 1er Arrondissement'\n",
      " 'Paris 3e Arrondissement' 'Paris 18e Arrondissement'\n",
      " 'Paris 20e Arrondissement' 'Paris 10e Arrondissement'\n",
      " 'Paris 9e Arrondissement' 'Paris 17e Arrondissement'\n",
      " 'Paris 19e Arrondissement' 'Paris 2e Arrondissement'\n",
      " 'Paris 4e Arrondissement' 'Paris 5e Arrondissement'\n",
      " 'Paris 7e Arrondissement' 'Paris 6e Arrondissement'\n",
      " 'Paris 14e Arrondissement' 'Paris 13e Arrondissement'\n",
      " 'Paris 12e Arrondissement' 'Paris 15e Arrondissement'\n",
      " 'Paris 16e Arrondissement' 'Paris 11e Arrondissement']\n"
     ]
    }
   ],
   "source": [
    "print(vf75['nom_commune'].unique())"
   ]
  },
  {
   "cell_type": "code",
   "execution_count": 29,
   "metadata": {},
   "outputs": [
    {
     "name": "stdout",
     "output_type": "stream",
     "text": [
      "Traitement du département : 75\n"
     ]
    }
   ],
   "source": [
    "match752 = test_match(vf75,DPE75)"
   ]
  },
  {
   "cell_type": "code",
   "execution_count": 30,
   "metadata": {},
   "outputs": [
    {
     "name": "stdout",
     "output_type": "stream",
     "text": [
      "42875\n"
     ]
    }
   ],
   "source": [
    "print(len(match752))"
   ]
  },
  {
   "cell_type": "code",
   "execution_count": 33,
   "metadata": {},
   "outputs": [
    {
     "name": "stdout",
     "output_type": "stream",
     "text": [
      "['Paris 19e Arrondissement' 'Paris 15e Arrondissement'\n",
      " 'Paris 13e Arrondissement' 'Paris 18e Arrondissement'\n",
      " 'Paris 17e Arrondissement' 'Paris 12e Arrondissement'\n",
      " 'Paris 20e Arrondissement' 'Paris 8e Arrondissement'\n",
      " 'Paris 10e Arrondissement' 'Paris 3e Arrondissement'\n",
      " 'Paris 11e Arrondissement' 'Paris 7e Arrondissement'\n",
      " 'Paris 9e Arrondissement' 'Paris 16e Arrondissement'\n",
      " 'Paris 14e Arrondissement' 'Paris 5e Arrondissement'\n",
      " 'Paris 4e Arrondissement' 'Paris 2e Arrondissement'\n",
      " 'Paris 6e Arrondissement']\n"
     ]
    }
   ],
   "source": [
    "print(match75['nom_commune'].unique())"
   ]
  },
  {
   "cell_type": "code",
   "execution_count": 34,
   "metadata": {},
   "outputs": [
    {
     "name": "stdout",
     "output_type": "stream",
     "text": [
      "['Paris 14e Arrondissement' 'Paris 19e Arrondissement'\n",
      " 'Paris 15e Arrondissement' 'Paris 12e Arrondissement'\n",
      " 'Paris 7e Arrondissement' 'Paris 17e Arrondissement'\n",
      " 'Paris 16e Arrondissement' 'Paris 13e Arrondissement'\n",
      " 'Paris 18e Arrondissement' 'Paris 11e Arrondissement'\n",
      " 'Paris 10e Arrondissement' 'Paris 5e Arrondissement'\n",
      " 'Paris 20e Arrondissement' 'Paris 8e Arrondissement'\n",
      " 'Paris 3e Arrondissement' 'Paris 9e Arrondissement'\n",
      " 'Paris 4e Arrondissement' 'Paris 2e Arrondissement'\n",
      " 'Paris 6e Arrondissement' 'Paris 1er Arrondissement']\n"
     ]
    }
   ],
   "source": [
    "print(match752['nom_commune'].unique())"
   ]
  },
  {
   "cell_type": "code",
   "execution_count": 7,
   "metadata": {},
   "outputs": [
    {
     "name": "stdout",
     "output_type": "stream",
     "text": [
      "['74' '56' '19' '86' '13' '66' '72' '35' '40' '64' '14' '10' '38' '23'\n",
      " '24' '82' '78' '49' '95' '18' '67' '02' '42' '62' '05' '54' '87' '89'\n",
      " '76' '2B' '11' '84' '16' '65' '60' '25' '03' '57' '01' '52' '45' '30'\n",
      " '04' '83' '91' '44' '33' '88' '77' '32' '73' '27' '34' '15' '07' '50'\n",
      " '43' '22' '79' '17' '69' '61' '63' '36' '12' '55' '29' '53' '68' '51'\n",
      " '93' '06' '90' '09' '26' '59' '85' '2A' '21' '48' '71' '94' '47' '80'\n",
      " '46' '58' '31' '75' '39' '28' '41' '81' '92' '37' '70' '08' None '972'\n",
      " '974' '971' '973' '976' '988']\n"
     ]
    }
   ],
   "source": [
    "print(DPE['N°_département_(BAN)'].unique())"
   ]
  },
  {
   "cell_type": "code",
   "execution_count": 8,
   "metadata": {},
   "outputs": [
    {
     "name": "stdout",
     "output_type": "stream",
     "text": [
      "['01' '02' '03' '04' '05' '06' '07' '08' '09' '10' '11' '12' '13' '14'\n",
      " '15' '16' '17' '18' '19' '21' '22' '23' '24' '25' '26' '27' '28' '29'\n",
      " '2A' '2B' '30' '31' '32' '33' '34' '35' '36' '37' '38' '39' '40' '41'\n",
      " '42' '43' '44' '45' '46' '47' '48' '49' '50' '51' '52' '53' '54' '55'\n",
      " '56' '58' '59' '60' '61' '62' '63' '64' '65' '66' '69' '70' '71' '72'\n",
      " '73' '74' '76' '77' '78' '79' '80' '81' '82' '83' '84' '85' '86' '87'\n",
      " '88' '89' '90' '91' '92' '93' '94' '95' '971' '972' '973' '974' '75']\n"
     ]
    }
   ],
   "source": [
    "print(vf_2021['code_departement'].unique())"
   ]
  }
 ],
 "metadata": {
  "kernelspec": {
   "display_name": "base",
   "language": "python",
   "name": "python3"
  },
  "language_info": {
   "codemirror_mode": {
    "name": "ipython",
    "version": 3
   },
   "file_extension": ".py",
   "mimetype": "text/x-python",
   "name": "python",
   "nbconvert_exporter": "python",
   "pygments_lexer": "ipython3",
   "version": "3.12.9"
  }
 },
 "nbformat": 4,
 "nbformat_minor": 2
}

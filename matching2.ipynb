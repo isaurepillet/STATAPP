{
 "cells": [
  {
   "cell_type": "markdown",
   "metadata": {},
   "source": [
    "# 0. Import des packages et des données "
   ]
  },
  {
   "cell_type": "code",
   "execution_count": 1,
   "metadata": {},
   "outputs": [],
   "source": [
    "import pandas as pd\n",
    "import numpy as np \n",
    "import matplotlib.pyplot as plt\n",
    "from helpers2 import S3Connection"
   ]
  },
  {
   "cell_type": "code",
   "execution_count": 2,
   "metadata": {},
   "outputs": [],
   "source": [
    "from postal.expand import expand_address"
   ]
  },
  {
   "cell_type": "code",
   "execution_count": 3,
   "metadata": {},
   "outputs": [
    {
     "name": "stdout",
     "output_type": "stream",
     "text": [
      "Connection successful\n"
     ]
    }
   ],
   "source": [
    "s3 = S3Connection(bucket_name=\"clichere/diffusion\")"
   ]
  },
  {
   "cell_type": "code",
   "execution_count": 4,
   "metadata": {},
   "outputs": [],
   "source": [
    "path1 = \"DPE/DPE_logements.parquet\"\n",
    "DPE = s3.get_tables_from_s3(path1)"
   ]
  },
  {
   "cell_type": "code",
   "execution_count": 5,
   "metadata": {},
   "outputs": [],
   "source": [
    "path_vf_2024 = \"valeursfoncieres/vf_2024.csv\"\n",
    "vf_2024 = s3.read_csv_from_s3(path_vf_2024)\n",
    "\n",
    "path_vf_2023 = \"valeursfoncieres/vf_2023.csv\"\n",
    "vf_2023 = s3.read_csv_from_s3(path_vf_2023)\n",
    "\n",
    "path_vf_2022 = \"valeursfoncieres/vf_2022.csv\"\n",
    "vf_2022 = s3.read_csv_from_s3(path_vf_2022)\n",
    "\n",
    "path_vf_2021 = \"valeursfoncieres/vf_2021.csv\"\n",
    "vf_2021 = s3.read_csv_from_s3(path_vf_2021)\n",
    "\n",
    "path_vf_2020 = \"valeursfoncieres/vf_2020.csv\"\n",
    "vf_2020 = s3.read_csv_from_s3(path_vf_2020)\n",
    "\n",
    "path_vf_2019 = \"valeursfoncieres/vf_2019.csv\"\n",
    "vf_2019 = s3.read_csv_from_s3(path_vf_2019)"
   ]
  },
  {
   "cell_type": "markdown",
   "metadata": {},
   "source": [
    "# 1. FONCTIONS UTILES"
   ]
  },
  {
   "cell_type": "markdown",
   "metadata": {},
   "source": [
    "Normalisation des adresses du fichier DPE et valeurs foncières. "
   ]
  },
  {
   "cell_type": "code",
   "execution_count": 6,
   "metadata": {},
   "outputs": [],
   "source": [
    "def normalize_address(address):\n",
    "    if pd.isna(address) or address.strip() == '':\n",
    "        return None  \n",
    "    try:\n",
    "        normalized = expand_address(address)  \n",
    "        return normalized[0] if normalized else None  # Ne garde que la première version de la normalisation\n",
    "    except Exception as e:\n",
    "        print(f\"Erreur avec l'adresse '{address}': {e}\")\n",
    "        return None"
   ]
  },
  {
   "cell_type": "code",
   "execution_count": 7,
   "metadata": {},
   "outputs": [],
   "source": [
    "import re\n",
    "\n",
    "def normalize_vf_address(address, code_postal):\n",
    "    \"\"\"Normalise l'adresse et supprime l'arrondissement après 'Paris' uniquement si le code postal commence par 75.\"\"\"\n",
    "    normalized_address = normalize_address(address)  # ta fonction de normalisation de base\n",
    "\n",
    "    if pd.notna(normalized_address) and str(code_postal).startswith(\"75\"):\n",
    "        # Supprime les variantes de type \"Paris 1er Arrondissement\", \"Paris 3e Arrondissement\", etc.\n",
    "        normalized_address = re.sub(r'(paris)\\s+\\d{1,2}(?:er|e)?\\s+arrondissement', r'\\1', normalized_address, flags=re.IGNORECASE)\n",
    "\n",
    "    return normalized_address\n"
   ]
  },
  {
   "cell_type": "markdown",
   "metadata": {},
   "source": [
    "FONCTION DE MATCHING"
   ]
  },
  {
   "cell_type": "code",
   "execution_count": 8,
   "metadata": {},
   "outputs": [],
   "source": [
    "def test_match(vf, df):\n",
    "    merged = []\n",
    "\n",
    "\n",
    "    #boucle par département\n",
    "    for department in df['N°_département_(BAN)'].unique():  \n",
    "        print(f\"Traitement du département : {department}\")\n",
    "        \n",
    "        #filtre\n",
    "        vf_dept = vf[vf['code_departement']==department].copy()\n",
    "        df_dept = df[df['N°_département_(BAN)']==department].copy()\n",
    "\n",
    "        #normalisation adresses\n",
    "        vf_dept['Adresse'] = vf_dept['Adresse'].str.strip().str.replace(r'\\s+', ' ', regex=True)\n",
    "        vf_dept['Adresse_Normalisee'] = vf_dept.apply(lambda row: normalize_vf_address(row['Adresse'], row['code_departement']), axis=1)\n",
    "        df_dept['Adresse_Normalisee'] = df_dept['Adresse_(BAN)'].apply(normalize_address)\n",
    "\n",
    "        #On distingue les adresses uniques et les adresses en doublons pour avoir deux catégories d'adresses et trouver celles communes aux deux bases\n",
    "        adresse_counts = vf_dept['Adresse_Normalisee'].dropna().value_counts()\n",
    "        unique1 = list(adresse_counts[adresse_counts == 1].index)\n",
    "        doublons1 = list(adresse_counts[adresse_counts > 1].index)\n",
    "        final = unique1 + doublons1\n",
    "        set_final = set(final)\n",
    "\n",
    "        adresse_counts2 = df_dept['Adresse_Normalisee'].dropna().value_counts()\n",
    "        unique2 = list(adresse_counts2[adresse_counts2 == 1].index)\n",
    "        doublons2 = list(adresse_counts2[adresse_counts2 > 1].index)\n",
    "        final2 = unique2 + doublons2\n",
    "        set_final2 = set(final2)\n",
    "\n",
    "        # On regarde les adresses communes\n",
    "        commun = set_final.intersection(set_final2)\n",
    "\n",
    "        vf_dept['surface_reelle_bati'] = pd.to_numeric(\n",
    "            vf_dept['surface_reelle_bati'].astype(str).str.replace(',', '.'), errors='coerce'\n",
    "        )\n",
    "        df_dept['Surface_habitable_logement'] = pd.to_numeric(\n",
    "            df_dept['Surface_habitable_logement'].astype(str).str.replace(',', '.'), errors='coerce'\n",
    "        )\n",
    "\n",
    "        for adresse in commun:\n",
    "            # On crée des sous dataframe contenant les lignes avec les mêmes adresses\n",
    "            dfsub = df_dept[df_dept['Adresse_Normalisee'] == adresse]\n",
    "            vfsub = vf_dept[vf_dept['Adresse_Normalisee'] == adresse]\n",
    "\n",
    "            # Boucle sur les rangs des sous dataframe\n",
    "            for _, row2 in dfsub.iterrows():\n",
    "                best_match = None\n",
    "                best_value = -1\n",
    "\n",
    "                for _, row1 in vfsub.iterrows():\n",
    "                    surface1 = row1['surface_reelle_bati']\n",
    "                    surface2 = row2['Surface_habitable_logement']\n",
    "\n",
    "                    #si surfaces identiques on match direct\n",
    "                    if surface1 == surface2:\n",
    "                        best_match = row1\n",
    "                        break\n",
    "\n",
    "                    #ecart inf à 5% et parmi les lignes avec des surfaces inf au seuil si jamais la valeur foncière est supérieure à celle de la ligne d'avant on la conserve pour avoir la plus grande\n",
    "                    if abs(surface1 - surface2) / max(surface1, surface2) < 0.05:\n",
    "                        valeur_fonciere = pd.to_numeric(str(row1.get('valeur_fonciere', 0)).replace(',', '.'), errors='coerce')\n",
    "                        if valeur_fonciere > best_value:\n",
    "                            best_value = valeur_fonciere\n",
    "                            best_match = row1\n",
    "\n",
    "                if best_match is not None:\n",
    "                    merged.append({**row2.to_dict(), **best_match.to_dict()})\n",
    "\n",
    "    #df des résultats fusionnés\n",
    "    df = pd.DataFrame(merged)\n",
    "    return df.drop_duplicates(subset=['Date_établissement_DPE', 'Adresse_Normalisee', 'Surface_habitable_logement', 'valeur_fonciere', 'Etiquette_DPE'])\n"
   ]
  },
  {
   "cell_type": "code",
   "execution_count": 9,
   "metadata": {},
   "outputs": [],
   "source": [
    "def compiler_dataframes(*dfs):\n",
    "    # Concatène tous les DataFrames passés en argument\n",
    "    df_compilé = pd.concat(dfs, ignore_index=True)\n",
    "    # Supprime les doublons\n",
    "    df_compilé = df_compilé.drop_duplicates()\n",
    "    return df_compilé"
   ]
  },
  {
   "cell_type": "markdown",
   "metadata": {},
   "source": [
    "Fonction pour mettre en forme les fichiers valeurs foncières."
   ]
  },
  {
   "cell_type": "code",
   "execution_count": 10,
   "metadata": {},
   "outputs": [],
   "source": [
    "def format_vf(vf):\n",
    "    # formatage code département\n",
    "    vf['code_departement'] = vf['code_departement'].astype(str).str.zfill(2)\n",
    "\n",
    "    # formatage code postal avec 5 chiffres comme dans DPE \n",
    "    vf['code_postal'] = vf['code_postal'].apply(lambda x: str(int(x)).zfill(5) if pd.notna(x) and x != '' else '')\n",
    "\n",
    "    # construction de l'adresse formatée\n",
    "    vf['Adresse'] = vf['adresse_numero'].apply(lambda x: str(int(x)) if pd.notna(x) else '').astype(str) + \" \" + \\\n",
    "                    vf['adresse_nom_voie'].fillna('').astype(str) + \" \" + \\\n",
    "                    vf['code_postal'] + \" \" + \\\n",
    "                    vf['nom_commune'].fillna('').astype(str)\n",
    "\n",
    "    # Supprime les adresses vides ou remplies d'espaces\n",
    "    vf['Adresse'] = vf['Adresse'].str.strip().replace(r'^\\s*$', None, regex=True)\n",
    "\n",
    "    return vf"
   ]
  },
  {
   "cell_type": "markdown",
   "metadata": {},
   "source": [
    "Fonction pour mettre en forme le fichier DPE. "
   ]
  },
  {
   "cell_type": "code",
   "execution_count": 11,
   "metadata": {},
   "outputs": [],
   "source": [
    "def format_dpe(df,annee):\n",
    "    df['Date_établissement_DPE'] = pd.to_datetime(df['Date_établissement_DPE'], errors='coerce')\n",
    "    df = df[df['Date_établissement_DPE'].dt.year == annee].copy()\n",
    "    df = df[df['N°_département_(BAN)'].notna()]\n",
    "    df.loc[:, 'N°_département_(BAN)'] = df['N°_département_(BAN)'].astype(str)\n",
    "    df = df[df['Etiquette_DPE'].isin(['A', 'B', 'C', 'D', 'E', 'F', 'G'])]\n",
    "\n",
    "    return df"
   ]
  },
  {
   "cell_type": "markdown",
   "metadata": {},
   "source": [
    "# 2. Année 2019"
   ]
  },
  {
   "cell_type": "code",
   "execution_count": 19,
   "metadata": {},
   "outputs": [],
   "source": [
    "v2019 = format_vf(vf_2019)"
   ]
  },
  {
   "cell_type": "code",
   "execution_count": 42,
   "metadata": {},
   "outputs": [],
   "source": [
    "d2019 = format_dpe(DPE, 2019)"
   ]
  },
  {
   "cell_type": "code",
   "execution_count": 43,
   "metadata": {},
   "outputs": [
    {
     "name": "stdout",
     "output_type": "stream",
     "text": [
      "Traitement du département : 48\n",
      "Traitement du département : 2A\n",
      "Traitement du département : 2B\n",
      "Traitement du département : 23\n",
      "Traitement du département : 15\n",
      "Traitement du département : 55\n",
      "Traitement du département : 90\n",
      "Traitement du département : 43\n",
      "Traitement du département : 09\n",
      "Traitement du département : 46\n",
      "Traitement du département : 52\n",
      "Traitement du département : 27\n",
      "Traitement du département : 58\n",
      "Traitement du département : 32\n",
      "Traitement du département : 05\n",
      "Traitement du département : 82\n",
      "Traitement du département : 19\n",
      "Traitement du département : 70\n",
      "Traitement du département : 04\n",
      "Traitement du département : 36\n",
      "Traitement du département : 65\n",
      "Traitement du département : 61\n",
      "Traitement du département : 18\n",
      "Traitement du département : 12\n",
      "Traitement du département : 10\n",
      "Traitement du département : 39\n",
      "Traitement du département : 08\n",
      "Traitement du département : 89\n",
      "Traitement du département : 07\n",
      "Traitement du département : 16\n",
      "Traitement du département : 41\n",
      "Traitement du département : 88\n",
      "Traitement du département : 03\n",
      "Traitement du département : 81\n",
      "Traitement du département : 28\n",
      "Traitement du département : 11\n",
      "Traitement du département : 47\n",
      "Traitement du département : 53\n",
      "Traitement du département : 24\n",
      "Traitement du département : 02\n",
      "Traitement du département : 87\n",
      "Traitement du département : 79\n",
      "Traitement du département : 71\n",
      "Traitement du département : 26\n",
      "Traitement du département : 25\n",
      "Traitement du département : 50\n",
      "Traitement du département : 51\n",
      "Traitement du département : 40\n",
      "Traitement du département : 73\n",
      "Traitement du département : 66\n",
      "Traitement du département : 86\n",
      "Traitement du département : 72\n",
      "Traitement du département : 21\n",
      "Traitement du département : 45\n",
      "Traitement du département : 63\n",
      "Traitement du département : 68\n",
      "Traitement du département : 22\n",
      "Traitement du département : 80\n",
      "Traitement du département : 30\n",
      "Traitement du département : 37\n",
      "Traitement du département : 42\n",
      "Traitement du département : 60\n",
      "Traitement du département : 64\n",
      "Traitement du département : 84\n",
      "Traitement du département : 01\n",
      "Traitement du département : 56\n",
      "Traitement du département : 17\n",
      "Traitement du département : 85\n",
      "Traitement du département : 54\n",
      "Traitement du département : 95\n",
      "Traitement du département : 49\n",
      "Traitement du département : 57\n",
      "Traitement du département : 74\n",
      "Traitement du département : 14\n",
      "Traitement du département : 29\n",
      "Traitement du département : 94\n",
      "Traitement du département : 93\n",
      "Traitement du département : 76\n",
      "Traitement du département : 91\n",
      "Traitement du département : 38\n",
      "Traitement du département : 67\n",
      "Traitement du département : 83\n",
      "Traitement du département : 62\n",
      "Traitement du département : 77\n",
      "Traitement du département : 06\n",
      "Traitement du département : 35\n",
      "Traitement du département : 78\n",
      "Traitement du département : 92\n",
      "Traitement du département : 34\n",
      "Traitement du département : 44\n",
      "Traitement du département : 31\n",
      "Traitement du département : 33\n",
      "Traitement du département : 13\n",
      "Traitement du département : 69\n",
      "Traitement du département : 75\n",
      "Traitement du département : 59\n"
     ]
    }
   ],
   "source": [
    "match2019 = test_match(v2019,d2019)"
   ]
  },
  {
   "cell_type": "code",
   "execution_count": 44,
   "metadata": {},
   "outputs": [
    {
     "name": "stdout",
     "output_type": "stream",
     "text": [
      "64223\n"
     ]
    }
   ],
   "source": [
    "print(len(match2019))"
   ]
  },
  {
   "cell_type": "code",
   "execution_count": 45,
   "metadata": {},
   "outputs": [],
   "source": [
    "match2019.to_csv('final2019.csv',index=False)"
   ]
  },
  {
   "cell_type": "code",
   "execution_count": null,
   "metadata": {},
   "outputs": [
    {
     "name": "stdout",
     "output_type": "stream",
     "text": [
      "Fichier Parquet écrit avec succès dans vf_DPE/vf_DPE_2019.parquet\n"
     ]
    }
   ],
   "source": [
    "# La fonction ci-dessous écrit le df dans le s3, seules les personnes autorisées peuvent le faire\n",
    "outpath_df_2019 = \"vf_DPE/vf_DPE_2019.parquet\"\n",
    "s3.from_pandas_to_parquet_store_in_s3(match2019, outpath_df_2019)"
   ]
  },
  {
   "cell_type": "markdown",
   "metadata": {},
   "source": [
    "# 3. Année 2020"
   ]
  },
  {
   "cell_type": "code",
   "execution_count": 46,
   "metadata": {},
   "outputs": [],
   "source": [
    "v2020 = format_vf(vf_2020)"
   ]
  },
  {
   "cell_type": "code",
   "execution_count": 47,
   "metadata": {},
   "outputs": [],
   "source": [
    "d2020 = format_dpe(DPE, 2020)"
   ]
  },
  {
   "cell_type": "code",
   "execution_count": 48,
   "metadata": {},
   "outputs": [
    {
     "name": "stdout",
     "output_type": "stream",
     "text": [
      "Traitement du département : 48\n",
      "Traitement du département : 2B\n",
      "Traitement du département : 2A\n",
      "Traitement du département : 23\n",
      "Traitement du département : 55\n",
      "Traitement du département : 15\n",
      "Traitement du département : 90\n",
      "Traitement du département : 43\n",
      "Traitement du département : 09\n",
      "Traitement du département : 52\n",
      "Traitement du département : 46\n",
      "Traitement du département : 58\n",
      "Traitement du département : 32\n",
      "Traitement du département : 05\n",
      "Traitement du département : 70\n",
      "Traitement du département : 82\n",
      "Traitement du département : 19\n",
      "Traitement du département : 04\n",
      "Traitement du département : 65\n",
      "Traitement du département : 61\n",
      "Traitement du département : 89\n",
      "Traitement du département : 18\n",
      "Traitement du département : 10\n",
      "Traitement du département : 12\n",
      "Traitement du département : 08\n",
      "Traitement du département : 39\n",
      "Traitement du département : 36\n",
      "Traitement du département : 41\n",
      "Traitement du département : 07\n",
      "Traitement du département : 16\n",
      "Traitement du département : 03\n",
      "Traitement du département : 88\n",
      "Traitement du département : 28\n",
      "Traitement du département : 11\n",
      "Traitement du département : 47\n",
      "Traitement du département : 24\n",
      "Traitement du département : 02\n",
      "Traitement du département : 53\n",
      "Traitement du département : 81\n",
      "Traitement du département : 79\n",
      "Traitement du département : 87\n",
      "Traitement du département : 26\n",
      "Traitement du département : 50\n",
      "Traitement du département : 25\n",
      "Traitement du département : 71\n",
      "Traitement du département : 40\n",
      "Traitement du département : 51\n",
      "Traitement du département : 27\n",
      "Traitement du département : 66\n",
      "Traitement du département : 86\n",
      "Traitement du département : 73\n",
      "Traitement du département : 21\n",
      "Traitement du département : 63\n",
      "Traitement du département : 72\n",
      "Traitement du département : 22\n",
      "Traitement du département : 42\n",
      "Traitement du département : 80\n",
      "Traitement du département : 60\n",
      "Traitement du département : 84\n",
      "Traitement du département : 30\n",
      "Traitement du département : 64\n",
      "Traitement du département : 37\n",
      "Traitement du département : 68\n",
      "Traitement du département : 45\n",
      "Traitement du département : 01\n",
      "Traitement du département : 56\n",
      "Traitement du département : 85\n",
      "Traitement du département : 17\n",
      "Traitement du département : 54\n",
      "Traitement du département : 74\n",
      "Traitement du département : 14\n",
      "Traitement du département : 57\n",
      "Traitement du département : 49\n",
      "Traitement du département : 29\n",
      "Traitement du département : 94\n",
      "Traitement du département : 95\n",
      "Traitement du département : 93\n",
      "Traitement du département : 91\n",
      "Traitement du département : 76\n",
      "Traitement du département : 06\n",
      "Traitement du département : 38\n",
      "Traitement du département : 67\n",
      "Traitement du département : 77\n",
      "Traitement du département : 75\n",
      "Traitement du département : 62\n",
      "Traitement du département : 78\n",
      "Traitement du département : 35\n",
      "Traitement du département : 83\n",
      "Traitement du département : 92\n",
      "Traitement du département : 34\n",
      "Traitement du département : 44\n",
      "Traitement du département : 31\n",
      "Traitement du département : 33\n",
      "Traitement du département : 69\n",
      "Traitement du département : 13\n",
      "Traitement du département : 59\n"
     ]
    }
   ],
   "source": [
    "match2020 = test_match(v2020,d2020)"
   ]
  },
  {
   "cell_type": "code",
   "execution_count": 49,
   "metadata": {},
   "outputs": [
    {
     "name": "stdout",
     "output_type": "stream",
     "text": [
      "76419\n"
     ]
    }
   ],
   "source": [
    "print(len(match2020))"
   ]
  },
  {
   "cell_type": "code",
   "execution_count": 50,
   "metadata": {},
   "outputs": [],
   "source": [
    "match2020.to_csv('final2020.csv',index=False)"
   ]
  },
  {
   "cell_type": "code",
   "execution_count": null,
   "metadata": {},
   "outputs": [
    {
     "name": "stdout",
     "output_type": "stream",
     "text": [
      "Fichier Parquet écrit avec succès dans vf_DPE/vf_DPE_2020.parquet\n"
     ]
    }
   ],
   "source": [
    "# La fonction ci-dessous écrit le df dans le s3, seules les personnes autorisées peuvent le faire\n",
    "outpath_df_2020 = \"vf_DPE/vf_DPE_2020.parquet\"\n",
    "s3.from_pandas_to_parquet_store_in_s3(match2020, outpath_df_2020)"
   ]
  },
  {
   "cell_type": "markdown",
   "metadata": {},
   "source": [
    "# 4. Année 2021"
   ]
  },
  {
   "cell_type": "code",
   "execution_count": 51,
   "metadata": {},
   "outputs": [],
   "source": [
    "v2021 = format_vf(vf_2021)"
   ]
  },
  {
   "cell_type": "code",
   "execution_count": 52,
   "metadata": {},
   "outputs": [],
   "source": [
    "d2021 = format_dpe(DPE,2021)"
   ]
  },
  {
   "cell_type": "code",
   "execution_count": 53,
   "metadata": {},
   "outputs": [
    {
     "name": "stdout",
     "output_type": "stream",
     "text": [
      "Traitement du département : 48\n",
      "Traitement du département : 2B\n",
      "Traitement du département : 2A\n",
      "Traitement du département : 55\n",
      "Traitement du département : 15\n",
      "Traitement du département : 23\n",
      "Traitement du département : 90\n",
      "Traitement du département : 43\n",
      "Traitement du département : 09\n",
      "Traitement du département : 46\n",
      "Traitement du département : 52\n",
      "Traitement du département : 58\n",
      "Traitement du département : 32\n",
      "Traitement du département : 05\n",
      "Traitement du département : 70\n",
      "Traitement du département : 19\n",
      "Traitement du département : 04\n",
      "Traitement du département : 82\n",
      "Traitement du département : 08\n",
      "Traitement du département : 18\n",
      "Traitement du département : 10\n",
      "Traitement du département : 61\n",
      "Traitement du département : 36\n",
      "Traitement du département : 12\n",
      "Traitement du département : 65\n",
      "Traitement du département : 40\n",
      "Traitement du département : 39\n",
      "Traitement du département : 16\n",
      "Traitement du département : 41\n",
      "Traitement du département : 07\n",
      "Traitement du département : 03\n",
      "Traitement du département : 89\n",
      "Traitement du département : 88\n",
      "Traitement du département : 28\n",
      "Traitement du département : 47\n",
      "Traitement du département : 11\n",
      "Traitement du département : 53\n",
      "Traitement du département : 24\n",
      "Traitement du département : 02\n",
      "Traitement du département : 81\n",
      "Traitement du département : 79\n",
      "Traitement du département : 87\n",
      "Traitement du département : 50\n",
      "Traitement du département : 25\n",
      "Traitement du département : 26\n",
      "Traitement du département : 71\n",
      "Traitement du département : 27\n",
      "Traitement du département : 51\n",
      "Traitement du département : 66\n",
      "Traitement du département : 86\n",
      "Traitement du département : 91\n",
      "Traitement du département : 73\n",
      "Traitement du département : 21\n",
      "Traitement du département : 72\n",
      "Traitement du département : 22\n",
      "Traitement du département : 63\n",
      "Traitement du département : 80\n",
      "Traitement du département : 84\n",
      "Traitement du département : 42\n",
      "Traitement du département : 37\n",
      "Traitement du département : 60\n",
      "Traitement du département : 64\n",
      "Traitement du département : 45\n",
      "Traitement du département : 68\n",
      "Traitement du département : 01\n",
      "Traitement du département : 30\n",
      "Traitement du département : 56\n",
      "Traitement du département : 85\n",
      "Traitement du département : 54\n",
      "Traitement du département : 17\n",
      "Traitement du département : 57\n",
      "Traitement du département : 74\n",
      "Traitement du département : 14\n",
      "Traitement du département : 49\n",
      "Traitement du département : 29\n",
      "Traitement du département : 94\n",
      "Traitement du département : 95\n",
      "Traitement du département : 93\n",
      "Traitement du département : 76\n",
      "Traitement du département : 67\n",
      "Traitement du département : 38\n",
      "Traitement du département : 77\n",
      "Traitement du département : 62\n",
      "Traitement du département : 35\n",
      "Traitement du département : 06\n",
      "Traitement du département : 78\n",
      "Traitement du département : 83\n",
      "Traitement du département : 92\n",
      "Traitement du département : 34\n",
      "Traitement du département : 44\n",
      "Traitement du département : 31\n",
      "Traitement du département : 33\n",
      "Traitement du département : 75\n",
      "Traitement du département : 69\n",
      "Traitement du département : 13\n",
      "Traitement du département : 59\n",
      "Traitement du département : 972\n",
      "Traitement du département : 974\n",
      "Traitement du département : 973\n",
      "Traitement du département : 976\n",
      "Traitement du département : 971\n"
     ]
    }
   ],
   "source": [
    "match2021 = test_match(v2021,d2021)"
   ]
  },
  {
   "cell_type": "code",
   "execution_count": 54,
   "metadata": {},
   "outputs": [
    {
     "name": "stdout",
     "output_type": "stream",
     "text": [
      "119958\n"
     ]
    }
   ],
   "source": [
    "print(len(match2021))"
   ]
  },
  {
   "cell_type": "code",
   "execution_count": 55,
   "metadata": {},
   "outputs": [],
   "source": [
    "match2021.to_csv('final2021.csv',index=False)"
   ]
  },
  {
   "cell_type": "code",
   "execution_count": 24,
   "metadata": {},
   "outputs": [
    {
     "name": "stdout",
     "output_type": "stream",
     "text": [
      "Fichier Parquet écrit avec succès dans vf_DPE/vf_DPE_2021.parquet\n"
     ]
    }
   ],
   "source": [
    "# La fonction ci-dessous écrit le df dans le s3, seuls les personnes autorisées peuvent le faire\n",
    "outpath_df_2021 = \"vf_DPE/vf_DPE_2021.parquet\"\n",
    "s3.from_pandas_to_parquet_store_in_s3(match2021, outpath_df_2021)"
   ]
  },
  {
   "cell_type": "markdown",
   "metadata": {},
   "source": [
    "# 5. Année 2022"
   ]
  },
  {
   "cell_type": "code",
   "execution_count": 13,
   "metadata": {},
   "outputs": [],
   "source": [
    "v2022 = format_vf(vf_2022)"
   ]
  },
  {
   "cell_type": "code",
   "execution_count": 14,
   "metadata": {},
   "outputs": [],
   "source": [
    "d2022 = format_dpe(DPE,2022)"
   ]
  },
  {
   "cell_type": "code",
   "execution_count": 15,
   "metadata": {},
   "outputs": [
    {
     "name": "stdout",
     "output_type": "stream",
     "text": [
      "Traitement du département : 14\n",
      "Traitement du département : 58\n",
      "Traitement du département : 44\n",
      "Traitement du département : 68\n",
      "Traitement du département : 71\n",
      "Traitement du département : 62\n",
      "Traitement du département : 74\n",
      "Traitement du département : 17\n",
      "Traitement du département : 83\n",
      "Traitement du département : 34\n",
      "Traitement du département : 33\n",
      "Traitement du département : 91\n",
      "Traitement du département : 21\n",
      "Traitement du département : 11\n",
      "Traitement du département : 02\n",
      "Traitement du département : 92\n",
      "Traitement du département : 59\n",
      "Traitement du département : 94\n",
      "Traitement du département : 75\n",
      "Traitement du département : 50\n",
      "Traitement du département : 37\n",
      "Traitement du département : 13\n",
      "Traitement du département : 81\n",
      "Traitement du département : 67\n",
      "Traitement du département : 93\n",
      "Traitement du département : 29\n",
      "Traitement du département : 63\n",
      "Traitement du département : 36\n",
      "Traitement du département : 95\n",
      "Traitement du département : 76\n",
      "Traitement du département : 78\n",
      "Traitement du département : 38\n",
      "Traitement du département : 51\n",
      "Traitement du département : 57\n",
      "Traitement du département : 77\n",
      "Traitement du département : 35\n",
      "Traitement du département : 54\n",
      "Traitement du département : 80\n",
      "Traitement du département : 73\n",
      "Traitement du département : 31\n",
      "Traitement du département : 49\n",
      "Traitement du département : 60\n",
      "Traitement du département : 45\n",
      "Traitement du département : 41\n",
      "Traitement du département : 28\n",
      "Traitement du département : 03\n",
      "Traitement du département : 10\n",
      "Traitement du département : 30\n",
      "Traitement du département : 56\n",
      "Traitement du département : 12\n",
      "Traitement du département : 64\n",
      "Traitement du département : 69\n",
      "Traitement du département : 55\n",
      "Traitement du département : 84\n",
      "Traitement du département : 24\n",
      "Traitement du département : 61\n",
      "Traitement du département : 27\n",
      "Traitement du département : 47\n",
      "Traitement du département : 89\n",
      "Traitement du département : 85\n",
      "Traitement du département : 87\n",
      "Traitement du département : 06\n",
      "Traitement du département : 16\n",
      "Traitement du département : 07\n",
      "Traitement du département : 42\n",
      "Traitement du département : 72\n",
      "Traitement du département : 79\n",
      "Traitement du département : 2B\n",
      "Traitement du département : 25\n",
      "Traitement du département : 15\n",
      "Traitement du département : 04\n",
      "Traitement du département : 23\n",
      "Traitement du département : 01\n",
      "Traitement du département : 66\n",
      "Traitement du département : 53\n",
      "Traitement du département : 26\n",
      "Traitement du département : 32\n",
      "Traitement du département : 05\n",
      "Traitement du département : 08\n",
      "Traitement du département : 18\n",
      "Traitement du département : 22\n",
      "Traitement du département : 40\n",
      "Traitement du département : 88\n",
      "Traitement du département : 52\n",
      "Traitement du département : 43\n",
      "Traitement du département : 19\n",
      "Traitement du département : 90\n",
      "Traitement du département : 86\n",
      "Traitement du département : 39\n",
      "Traitement du département : 65\n",
      "Traitement du département : 48\n",
      "Traitement du département : 82\n",
      "Traitement du département : 09\n",
      "Traitement du département : 46\n",
      "Traitement du département : 70\n",
      "Traitement du département : 972\n",
      "Traitement du département : 974\n",
      "Traitement du département : 2A\n",
      "Traitement du département : 971\n",
      "Traitement du département : 976\n",
      "Traitement du département : 973\n",
      "Traitement du département : 988\n"
     ]
    }
   ],
   "source": [
    "match2022 = test_match(v2022,d2022)"
   ]
  },
  {
   "cell_type": "code",
   "execution_count": 16,
   "metadata": {},
   "outputs": [
    {
     "name": "stdout",
     "output_type": "stream",
     "text": [
      "201070\n"
     ]
    }
   ],
   "source": [
    "print(len(match2022))"
   ]
  },
  {
   "cell_type": "code",
   "execution_count": 17,
   "metadata": {},
   "outputs": [],
   "source": [
    "match2022.to_csv('final2022.csv',index=False)"
   ]
  },
  {
   "cell_type": "code",
   "execution_count": null,
   "metadata": {},
   "outputs": [],
   "source": [
    "# La fonction ci-dessous écrit le df dans le s3, seuls les personnes autorisées peuvent le faire\n",
    "outpath_df_2022 = \"vf_DPE/vf_DPE_2022.parquet\"\n",
    "s3.from_pandas_to_parquet_store_in_s3(match2022, outpath_df_2022)"
   ]
  },
  {
   "cell_type": "markdown",
   "metadata": {},
   "source": [
    "# 6. Année 2023"
   ]
  },
  {
   "cell_type": "code",
   "execution_count": 26,
   "metadata": {},
   "outputs": [],
   "source": [
    "v2023 = format_vf(vf_2023)"
   ]
  },
  {
   "cell_type": "code",
   "execution_count": 19,
   "metadata": {},
   "outputs": [],
   "source": [
    "d2023 = format_dpe(DPE, 2023)"
   ]
  },
  {
   "cell_type": "code",
   "execution_count": 20,
   "metadata": {},
   "outputs": [
    {
     "name": "stdout",
     "output_type": "stream",
     "text": [
      "Traitement du département : 84\n"
     ]
    },
    {
     "name": "stdout",
     "output_type": "stream",
     "text": [
      "Traitement du département : 32\n",
      "Traitement du département : 59\n",
      "Traitement du département : 34\n",
      "Traitement du département : 56\n",
      "Traitement du département : 44\n",
      "Traitement du département : 76\n",
      "Traitement du département : 35\n",
      "Traitement du département : 93\n",
      "Traitement du département : 49\n",
      "Traitement du département : 69\n",
      "Traitement du département : 77\n",
      "Traitement du département : 83\n",
      "Traitement du département : 75\n",
      "Traitement du département : 22\n",
      "Traitement du département : 16\n",
      "Traitement du département : 78\n",
      "Traitement du département : 73\n",
      "Traitement du département : 50\n",
      "Traitement du département : 92\n",
      "Traitement du département : 80\n",
      "Traitement du département : 11\n",
      "Traitement du département : 67\n",
      "Traitement du département : 30\n",
      "Traitement du département : 14\n",
      "Traitement du département : 60\n",
      "Traitement du département : 64\n",
      "Traitement du département : 94\n",
      "Traitement du département : 29\n",
      "Traitement du département : 28\n",
      "Traitement du département : 91\n",
      "Traitement du département : 13\n",
      "Traitement du département : 62\n",
      "Traitement du département : 36\n",
      "Traitement du département : 95\n",
      "Traitement du département : 37\n",
      "Traitement du département : 51\n",
      "Traitement du département : 88\n",
      "Traitement du département : 63\n",
      "Traitement du département : 31\n",
      "Traitement du département : 24\n",
      "Traitement du département : 25\n",
      "Traitement du département : 89\n",
      "Traitement du département : 87\n",
      "Traitement du département : 21\n",
      "Traitement du département : 42\n",
      "Traitement du département : 40\n",
      "Traitement du département : 17\n",
      "Traitement du département : 06\n",
      "Traitement du département : 81\n",
      "Traitement du département : 68\n",
      "Traitement du département : 38\n",
      "Traitement du département : 66\n",
      "Traitement du département : 33\n",
      "Traitement du département : 58\n",
      "Traitement du département : 02\n",
      "Traitement du département : 39\n",
      "Traitement du département : 10\n",
      "Traitement du département : 70\n",
      "Traitement du département : 23\n",
      "Traitement du département : 57\n",
      "Traitement du département : 53\n",
      "Traitement du département : 03\n",
      "Traitement du département : 41\n",
      "Traitement du département : 74\n",
      "Traitement du département : 45\n",
      "Traitement du département : 55\n",
      "Traitement du département : 85\n",
      "Traitement du département : 04\n",
      "Traitement du département : 54\n",
      "Traitement du département : 48\n",
      "Traitement du département : 71\n",
      "Traitement du département : 27\n",
      "Traitement du département : 82\n",
      "Traitement du département : 01\n",
      "Traitement du département : 72\n",
      "Traitement du département : 12\n",
      "Traitement du département : 43\n",
      "Traitement du département : 09\n",
      "Traitement du département : 47\n",
      "Traitement du département : 86\n",
      "Traitement du département : 79\n",
      "Traitement du département : 46\n",
      "Traitement du département : 07\n",
      "Traitement du département : 19\n",
      "Traitement du département : 15\n",
      "Traitement du département : 05\n",
      "Traitement du département : 08\n",
      "Traitement du département : 26\n",
      "Traitement du département : 972\n",
      "Traitement du département : 65\n",
      "Traitement du département : 2A\n",
      "Traitement du département : 61\n",
      "Traitement du département : 52\n",
      "Traitement du département : 18\n",
      "Traitement du département : 90\n",
      "Traitement du département : 971\n",
      "Traitement du département : 974\n",
      "Traitement du département : 2B\n",
      "Traitement du département : 973\n",
      "Traitement du département : 988\n"
     ]
    }
   ],
   "source": [
    "match2023 = test_match(v2023,d2023)"
   ]
  },
  {
   "cell_type": "code",
   "execution_count": 21,
   "metadata": {},
   "outputs": [
    {
     "name": "stdout",
     "output_type": "stream",
     "text": [
      "112581\n"
     ]
    }
   ],
   "source": [
    "print(len(match2023))"
   ]
  },
  {
   "cell_type": "code",
   "execution_count": 22,
   "metadata": {},
   "outputs": [],
   "source": [
    "match2023.to_csv('final2023.csv',index=False)"
   ]
  },
  {
   "cell_type": "code",
   "execution_count": null,
   "metadata": {},
   "outputs": [],
   "source": [
    "# La fonction ci-dessous écrit le df dans le s3, seuls les personnes autorisées peuvent le faire\n",
    "outpath_df_2023 = \"vf_DPE/vf_DPE_2023.parquet\"\n",
    "s3.from_pandas_to_parquet_store_in_s3(match2023, outpath_df_2023)"
   ]
  },
  {
   "cell_type": "markdown",
   "metadata": {},
   "source": [
    "# 7. Année 2024"
   ]
  },
  {
   "cell_type": "code",
   "execution_count": 44,
   "metadata": {},
   "outputs": [
    {
     "name": "stdout",
     "output_type": "stream",
     "text": [
      "1566643\n"
     ]
    }
   ],
   "source": [
    "print(len(vf_2024))"
   ]
  },
  {
   "cell_type": "code",
   "execution_count": 41,
   "metadata": {},
   "outputs": [],
   "source": [
    "v2024 = format_vf(vf_2024)"
   ]
  },
  {
   "cell_type": "code",
   "execution_count": 42,
   "metadata": {},
   "outputs": [],
   "source": [
    "d2024 = format_dpe(DPE,2024)"
   ]
  },
  {
   "cell_type": "code",
   "execution_count": 45,
   "metadata": {},
   "outputs": [
    {
     "name": "stdout",
     "output_type": "stream",
     "text": [
      "9\n"
     ]
    }
   ],
   "source": [
    "print(len(d2024))"
   ]
  },
  {
   "cell_type": "code",
   "execution_count": 43,
   "metadata": {},
   "outputs": [
    {
     "name": "stdout",
     "output_type": "stream",
     "text": [
      "Traitement du département : 65\n",
      "Traitement du département : 06\n"
     ]
    }
   ],
   "source": [
    "match2024 = test_match(v2024,d2024)"
   ]
  },
  {
   "cell_type": "code",
   "execution_count": 65,
   "metadata": {},
   "outputs": [
    {
     "name": "stdout",
     "output_type": "stream",
     "text": [
      "0\n"
     ]
    }
   ],
   "source": [
    "print(len(match2024))"
   ]
  },
  {
   "cell_type": "code",
   "execution_count": null,
   "metadata": {},
   "outputs": [],
   "source": [
    "# La fonction ci-dessous écrit le df dans le s3, seuls les personnes autorisées peuvent le faire\n",
    "outpath_df_2024 = \"vf_DPE/vf_DPE_2024.parquet\"\n",
    "s3.from_pandas_to_parquet_store_in_s3(match2024, outpath_df_2024)"
   ]
  },
  {
   "cell_type": "markdown",
   "metadata": {},
   "source": [
    "# 8. Matching des 6 bases de données"
   ]
  },
  {
   "cell_type": "code",
   "execution_count": 67,
   "metadata": {},
   "outputs": [],
   "source": [
    "result = compiler_dataframes(match2019,match2020,match2021,match2022,match2023,match2024)"
   ]
  },
  {
   "cell_type": "code",
   "execution_count": null,
   "metadata": {},
   "outputs": [],
   "source": [
    "# La fonction ci-dessous écrit le df dans le s3, seuls les personnes autorisées peuvent le faire\n",
    "outpath_df = \"vf_DPE/vf_DPE.parquet\"\n",
    "s3.from_pandas_to_parquet_store_in_s3(result, outpath_df)"
   ]
  },
  {
   "cell_type": "code",
   "execution_count": 68,
   "metadata": {},
   "outputs": [
    {
     "name": "stdout",
     "output_type": "stream",
     "text": [
      "512824\n"
     ]
    }
   ],
   "source": [
    "print(len(result))"
   ]
  },
  {
   "cell_type": "markdown",
   "metadata": {},
   "source": [
    "# TEST SURFACES"
   ]
  },
  {
   "cell_type": "code",
   "execution_count": 12,
   "metadata": {},
   "outputs": [],
   "source": [
    "def test_matchsurface(vf, df, surface):\n",
    "    merged = []\n",
    "\n",
    "\n",
    "    #boucle par département\n",
    "    for department in df['N°_département_(BAN)'].unique():  \n",
    "        print(f\"Traitement du département : {department}\")\n",
    "        \n",
    "        #filtre\n",
    "        vf_dept = vf[vf['code_departement']==department].copy()\n",
    "        df_dept = df[df['N°_département_(BAN)']==department].copy()\n",
    "\n",
    "        #normalisation adresses\n",
    "        vf_dept['Adresse'] = vf_dept['Adresse'].str.strip().str.replace(r'\\s+', ' ', regex=True)\n",
    "        vf_dept['Adresse_Normalisee'] = vf_dept.apply(lambda row: normalize_vf_address(row['Adresse'], row['code_departement']), axis=1)\n",
    "        df_dept['Adresse_Normalisee'] = df_dept['Adresse_(BAN)'].apply(normalize_address)\n",
    "\n",
    "        #On distingue les adresses uniques et les adresses en doublons pour avoir deux catégories d'adresses et trouver celles communes aux deux bases\n",
    "        adresse_counts = vf_dept['Adresse_Normalisee'].dropna().value_counts()\n",
    "        unique1 = list(adresse_counts[adresse_counts == 1].index)\n",
    "        doublons1 = list(adresse_counts[adresse_counts > 1].index)\n",
    "        final = unique1 + doublons1\n",
    "        set_final = set(final)\n",
    "\n",
    "        adresse_counts2 = df_dept['Adresse_Normalisee'].dropna().value_counts()\n",
    "        unique2 = list(adresse_counts2[adresse_counts2 == 1].index)\n",
    "        doublons2 = list(adresse_counts2[adresse_counts2 > 1].index)\n",
    "        final2 = unique2 + doublons2\n",
    "        set_final2 = set(final2)\n",
    "\n",
    "        # On regarde les adresses communes\n",
    "        commun = set_final.intersection(set_final2)\n",
    "\n",
    "        vf_dept[surface] = pd.to_numeric(\n",
    "            vf_dept[surface].astype(str).str.replace(',', '.'), errors='coerce'\n",
    "        )\n",
    "        df_dept['Surface_habitable_logement'] = pd.to_numeric(\n",
    "            df_dept['Surface_habitable_logement'].astype(str).str.replace(',', '.'), errors='coerce'\n",
    "        )\n",
    "\n",
    "        for adresse in commun:\n",
    "            # On crée des sous dataframe contenant les lignes avec les mêmes adresses\n",
    "            dfsub = df_dept[df_dept['Adresse_Normalisee'] == adresse]\n",
    "            vfsub = vf_dept[vf_dept['Adresse_Normalisee'] == adresse]\n",
    "\n",
    "            # Boucle sur les rangs des sous dataframe\n",
    "            for _, row2 in dfsub.iterrows():\n",
    "                best_match = None\n",
    "                best_value = -1\n",
    "\n",
    "                for _, row1 in vfsub.iterrows():\n",
    "                    surface1 = row1[surface]\n",
    "                    surface2 = row2['Surface_habitable_logement']\n",
    "\n",
    "                    #si surfaces identiques on match direct\n",
    "                    if surface1 == surface2:\n",
    "                        best_match = row1\n",
    "                        break\n",
    "\n",
    "                    #ecart inf à 5% et parmi les lignes avec des surfaces inf au seuil si jamais la valeur foncière est supérieure à celle de la ligne d'avant on la conserve pour avoir la plus grande\n",
    "                    if abs(surface1 - surface2) / max(surface1, surface2) < 0.05:\n",
    "                        valeur_fonciere = pd.to_numeric(str(row1.get('valeur_fonciere', 0)).replace(',', '.'), errors='coerce')\n",
    "                        if valeur_fonciere > best_value:\n",
    "                            best_value = valeur_fonciere\n",
    "                            best_match = row1\n",
    "\n",
    "                if best_match is not None:\n",
    "                    merged.append({**row2.to_dict(), **best_match.to_dict()})\n",
    "\n",
    "    #df des résultats fusionnés\n",
    "    df = pd.DataFrame(merged)\n",
    "    return df.drop_duplicates(subset=['Date_établissement_DPE', 'Adresse_Normalisee', 'Surface_habitable_logement', 'valeur_fonciere', 'Etiquette_DPE'])\n"
   ]
  },
  {
   "cell_type": "code",
   "execution_count": 14,
   "metadata": {},
   "outputs": [
    {
     "name": "stdout",
     "output_type": "stream",
     "text": [
      "Index(['id_mutation', 'date_mutation', 'numero_disposition', 'nature_mutation',\n",
      "       'valeur_fonciere', 'adresse_numero', 'adresse_suffixe',\n",
      "       'adresse_nom_voie', 'adresse_code_voie', 'code_postal', 'code_commune',\n",
      "       'nom_commune', 'code_departement', 'ancien_code_commune',\n",
      "       'ancien_nom_commune', 'id_parcelle', 'ancien_id_parcelle',\n",
      "       'numero_volume', 'lot1_numero', 'lot1_surface_carrez', 'lot2_numero',\n",
      "       'lot2_surface_carrez', 'lot3_numero', 'lot3_surface_carrez',\n",
      "       'lot4_numero', 'lot4_surface_carrez', 'lot5_numero',\n",
      "       'lot5_surface_carrez', 'nombre_lots', 'code_type_local', 'type_local',\n",
      "       'surface_reelle_bati', 'nombre_pieces_principales',\n",
      "       'code_nature_culture', 'nature_culture', 'code_nature_culture_speciale',\n",
      "       'nature_culture_speciale', 'surface_terrain', 'longitude', 'latitude'],\n",
      "      dtype='object')\n"
     ]
    }
   ],
   "source": [
    "print(vf_2022.columns)"
   ]
  },
  {
   "cell_type": "code",
   "execution_count": 21,
   "metadata": {},
   "outputs": [
    {
     "name": "stdout",
     "output_type": "stream",
     "text": [
      "Traitement du département : 91\n",
      "Traitement du département : 91\n",
      " Résultats - Surface réelle\n",
      "- Nombre de correspondances : 2460\n",
      "- DPE moyen : 4.25\n",
      "- Répartition DPE :\n",
      "Etiquette_DPE\n",
      "A      5\n",
      "B     76\n",
      "C    590\n",
      "D    878\n",
      "E    578\n",
      "F    194\n",
      "G    139\n",
      "Name: count, dtype: int64\n",
      "\n",
      " Résultats - Surface Carrez\n",
      "- Nombre de correspondances : 1631\n",
      "- DPE moyen : 4.17\n",
      "- Répartition DPE :\n",
      "Etiquette_DPE\n",
      "A      2\n",
      "B     54\n",
      "C    437\n",
      "D    567\n",
      "E    387\n",
      "F    107\n",
      "G     77\n",
      "Name: count, dtype: int64\n",
      "\n"
     ]
    }
   ],
   "source": [
    "# 1. Mise en forme des données\n",
    "vf_2023_formate = format_vf(vf_2023)\n",
    "dpe_2023_formate = format_dpe(DPE, 2023)\n",
    "\n",
    "# 2. Restriction au département 91 uniquement\n",
    "vf_91 = vf_2023_formate[vf_2023_formate['code_departement'] == '91'].copy()\n",
    "dpe_91 = dpe_2023_formate[dpe_2023_formate['N°_département_(BAN)'] == '91'].copy()\n",
    "\n",
    "# 3. Matching surface reelle \n",
    "match_reelle = test_matchsurface(vf_91,dpe_91,'surface_reelle_bati')\n",
    "\n",
    "# 4. Matching surface carrez\n",
    "match_carrez = test_matchsurface(vf_91,dpe_91,'lot1_surface_carrez')\n",
    "\n",
    "# 7. Statistiques comparatives\n",
    "def analyse_resultats(df, label):\n",
    "    dpe_numeric = df['Etiquette_DPE'].map({'A': 1, 'B': 2, 'C': 3, 'D': 4, 'E': 5, 'F': 6, 'G': 7})\n",
    "    print(f\" Résultats - {label}\")\n",
    "    print(f\"- Nombre de correspondances : {len(df)}\")\n",
    "    print(f\"- DPE moyen : {dpe_numeric.mean():.2f}\")\n",
    "    print(f\"- Répartition DPE :\\n{df['Etiquette_DPE'].value_counts().sort_index()}\\n\")\n",
    "\n",
    "analyse_resultats(match_reelle, \"Surface réelle\")\n",
    "analyse_resultats(match_carrez, \"Surface Carrez\")\n"
   ]
  },
  {
   "cell_type": "code",
   "execution_count": 13,
   "metadata": {},
   "outputs": [],
   "source": [
    "dpe91 = DPE[DPE['N°_département_(BAN)'] == '91'].copy()"
   ]
  },
  {
   "cell_type": "code",
   "execution_count": 17,
   "metadata": {},
   "outputs": [],
   "source": [
    "dpe91 = dpe91[dpe91['Etiquette_DPE'].isin(['A', 'B', 'C', 'D', 'E', 'F', 'G'])]"
   ]
  },
  {
   "cell_type": "code",
   "execution_count": 14,
   "metadata": {},
   "outputs": [],
   "source": [
    "DPE['Date_établissement_DPE'] = pd.to_datetime(DPE['Date_établissement_DPE'], errors='coerce')\n",
    "DPE2023 = DPE[DPE['Date_établissement_DPE'].dt.year == 2023].copy()"
   ]
  },
  {
   "cell_type": "code",
   "execution_count": 18,
   "metadata": {},
   "outputs": [],
   "source": [
    "DPE2023 = DPE2023[DPE2023['Etiquette_DPE'].isin(['A', 'B', 'C', 'D', 'E', 'F', 'G'])]"
   ]
  },
  {
   "cell_type": "code",
   "execution_count": 19,
   "metadata": {},
   "outputs": [
    {
     "data": {
      "image/png": "[encoded data removed]",
      "text/plain": [
       "<Figure size 800x500 with 1 Axes>"
      ]
     },
     "metadata": {},
     "output_type": "display_data"
    }
   ],
   "source": [
    "resultat_dpe = dpe91[\"Etiquette_DPE\"].value_counts(normalize=True) * 100\n",
    "resultat_dpe = resultat_dpe.reindex(sorted(resultat_dpe.index))\n",
    "\n",
    "# Histogramme des étiquettes DPE dans la base de données \n",
    "fig, ax = plt.subplots(figsize=(8, 5))\n",
    "\n",
    "# Histogramme\n",
    "ax.bar(resultat_dpe.index, resultat_dpe.values, color='darkred')\n",
    "\n",
    "# Titres et labels\n",
    "ax.set_title(\"Répartition des étiquettes DPE dans la base de données\", fontsize=14)\n",
    "ax.set_xlabel(\"Étiquette DPE\", fontsize=12)\n",
    "ax.set_ylabel(\"Pourcentage\", fontsize=12)\n",
    "\n",
    "# Ajout des valeurs sur les barres\n",
    "for i, v in enumerate(resultat_dpe):\n",
    "    ax.text(i, v + 0.5, f\"{v:.2f}%\", ha='center', fontsize=10)\n",
    "\n",
    "# Affichage du graphique\n",
    "plt.show()"
   ]
  },
  {
   "cell_type": "code",
   "execution_count": 20,
   "metadata": {},
   "outputs": [
    {
     "data": {
      "image/png": "[encoded data removed]",
      "text/plain": [
       "<Figure size 800x500 with 1 Axes>"
      ]
     },
     "metadata": {},
     "output_type": "display_data"
    }
   ],
   "source": [
    "resultat_dpe = DPE2023[\"Etiquette_DPE\"].value_counts(normalize=True) * 100\n",
    "resultat_dpe = resultat_dpe.reindex(sorted(resultat_dpe.index))\n",
    "\n",
    "# Histogramme des étiquettes DPE dans la base de données \n",
    "fig, ax = plt.subplots(figsize=(8, 5))\n",
    "\n",
    "# Histogramme\n",
    "ax.bar(resultat_dpe.index, resultat_dpe.values, color='darkred')\n",
    "\n",
    "# Titres et labels\n",
    "ax.set_title(\"Répartition des étiquettes DPE dans la base de données\", fontsize=14)\n",
    "ax.set_xlabel(\"Étiquette DPE\", fontsize=12)\n",
    "ax.set_ylabel(\"Pourcentage\", fontsize=12)\n",
    "\n",
    "# Ajout des valeurs sur les barres\n",
    "for i, v in enumerate(resultat_dpe):\n",
    "    ax.text(i, v + 0.5, f\"{v:.2f}%\", ha='center', fontsize=10)\n",
    "\n",
    "# Affichage du graphique\n",
    "plt.show()"
   ]
  },
  {
   "cell_type": "code",
   "execution_count": 22,
   "metadata": {},
   "outputs": [
    {
     "data": {
      "image/png": "[encoded data removed]",
      "text/plain": [
       "<Figure size 800x500 with 1 Axes>"
      ]
     },
     "metadata": {},
     "output_type": "display_data"
    }
   ],
   "source": [
    "resultat_dpe = match_reelle[\"Etiquette_DPE\"].value_counts(normalize=True) * 100\n",
    "resultat_dpe = resultat_dpe.reindex(sorted(resultat_dpe.index))\n",
    "\n",
    "# Histogramme des étiquettes DPE dans la base de données \n",
    "fig, ax = plt.subplots(figsize=(8, 5))\n",
    "\n",
    "# Histogramme\n",
    "ax.bar(resultat_dpe.index, resultat_dpe.values, color='darkred')\n",
    "\n",
    "# Titres et labels\n",
    "ax.set_title(\"Répartition des étiquettes DPE dans la base de données\", fontsize=14)\n",
    "ax.set_xlabel(\"Étiquette DPE\", fontsize=12)\n",
    "ax.set_ylabel(\"Pourcentage\", fontsize=12)\n",
    "\n",
    "# Ajout des valeurs sur les barres\n",
    "for i, v in enumerate(resultat_dpe):\n",
    "    ax.text(i, v + 0.5, f\"{v:.2f}%\", ha='center', fontsize=10)\n",
    "\n",
    "# Affichage du graphique\n",
    "plt.show()"
   ]
  },
  {
   "cell_type": "code",
   "execution_count": 23,
   "metadata": {},
   "outputs": [
    {
     "data": {
      "image/png": "[encoded data removed]",
      "text/plain": [
       "<Figure size 800x500 with 1 Axes>"
      ]
     },
     "metadata": {},
     "output_type": "display_data"
    }
   ],
   "source": [
    "resultat_dpe = match_carrez[\"Etiquette_DPE\"].value_counts(normalize=True) * 100\n",
    "resultat_dpe = resultat_dpe.reindex(sorted(resultat_dpe.index))\n",
    "\n",
    "# Histogramme des étiquettes DPE dans la base de données \n",
    "fig, ax = plt.subplots(figsize=(8, 5))\n",
    "\n",
    "# Histogramme\n",
    "ax.bar(resultat_dpe.index, resultat_dpe.values, color='darkred')\n",
    "\n",
    "# Titres et labels\n",
    "ax.set_title(\"Répartition des étiquettes DPE dans la base de données\", fontsize=14)\n",
    "ax.set_xlabel(\"Étiquette DPE\", fontsize=12)\n",
    "ax.set_ylabel(\"Pourcentage\", fontsize=12)\n",
    "\n",
    "# Ajout des valeurs sur les barres\n",
    "for i, v in enumerate(resultat_dpe):\n",
    "    ax.text(i, v + 0.5, f\"{v:.2f}%\", ha='center', fontsize=10)\n",
    "\n",
    "# Affichage du graphique\n",
    "plt.show()"
   ]
  }
 ],
 "metadata": {
  "kernelspec": {
   "display_name": "Python 3",
   "language": "python",
   "name": "python3"
  },
  "language_info": {
   "codemirror_mode": {
    "name": "ipython",
    "version": 3
   },
   "file_extension": ".py",
   "mimetype": "text/x-python",
   "name": "python",
   "nbconvert_exporter": "python",
   "pygments_lexer": "ipython3",
   "version": "3.12.9"
  }
 },
 "nbformat": 4,
 "nbformat_minor": 2
}

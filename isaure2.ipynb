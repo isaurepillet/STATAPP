{
 "cells": [
  {
   "cell_type": "code",
   "execution_count": 1,
   "metadata": {},
   "outputs": [
    {
     "name": "stdout",
     "output_type": "stream",
     "text": [
      "[('10', 'house_number'), ('downing street', 'road'), ('london', 'city'), ('uk', 'country')]\n"
     ]
    }
   ],
   "source": [
    "from postal.parser import parse_address\n",
    "print(parse_address(\"10 Downing Street, London, Uk\"))"
   ]
  },
  {
   "cell_type": "code",
   "execution_count": 6,
   "metadata": {},
   "outputs": [
    {
     "name": "stdout",
     "output_type": "stream",
     "text": [
      "Répertoire de travail actuel : /home/onyxia/work\n"
     ]
    }
   ],
   "source": [
    "import os\n",
    "print(\"Répertoire de travail actuel :\", os.getcwd())\n"
   ]
  },
  {
   "cell_type": "code",
   "execution_count": null,
   "metadata": {},
   "outputs": [
    {
     "name": "stderr",
     "output_type": "stream",
     "text": [
      "/tmp/ipykernel_40223/603594182.py:2: DtypeWarning: Columns (18,23,24,26,28,29,31,33,41) have mixed types. Specify dtype option on import or set low_memory=False.\n",
      "  df = pd.read_csv(\n"
     ]
    },
    {
     "name": "stdout",
     "output_type": "stream",
     "text": [
      "Index(['Identifiant de document', 'Reference document', '1 Articles CGI',\n",
      "       '2 Articles CGI', '3 Articles CGI', '4 Articles CGI', '5 Articles CGI',\n",
      "       'No disposition', 'Date mutation', 'Nature mutation', 'Valeur fonciere',\n",
      "       'No voie', 'B/T/Q', 'Type de voie', 'Code voie', 'Voie', 'Code postal',\n",
      "       'Commune', 'Code departement', 'Code commune', 'Prefixe de section',\n",
      "       'Section', 'No plan', 'No Volume', '1er lot',\n",
      "       'Surface Carrez du 1er lot', '2eme lot', 'Surface Carrez du 2eme lot',\n",
      "       '3eme lot', 'Surface Carrez du 3eme lot', '4eme lot',\n",
      "       'Surface Carrez du 4eme lot', '5eme lot', 'Surface Carrez du 5eme lot',\n",
      "       'Nombre de lots', 'Code type local', 'Type local', 'Identifiant local',\n",
      "       'Surface reelle bati', 'Nombre pieces principales', 'Nature culture',\n",
      "       'Nature culture speciale', 'Surface terrain'],\n",
      "      dtype='object')\n"
     ]
    }
   ],
   "source": [
    "import pandas as pd\n",
    "df = pd.read_csv(\n",
    "    \"/home/onyxia/work/STATAPP/données/valeursfoncieres-2022.txt\",\n",
    "    sep=\"|\",  \n",
    "    encoding=\"utf-8\"  \n",
    ")\n",
    "\n",
    "print(df.columns)\n"
   ]
  },
  {
   "cell_type": "code",
   "execution_count": 6,
   "metadata": {},
   "outputs": [
    {
     "name": "stdout",
     "output_type": "stream",
     "text": [
      "No voie         float64\n",
      "Type de voie     object\n",
      "Voie             object\n",
      "Code postal     float64\n",
      "Commune          object\n",
      "dtype: object\n"
     ]
    }
   ],
   "source": [
    "print(df[['No voie', 'Type de voie', 'Voie', 'Code postal', 'Commune']].dtypes)\n"
   ]
  },
  {
   "cell_type": "code",
   "execution_count": 7,
   "metadata": {},
   "outputs": [
    {
     "name": "stdout",
     "output_type": "stream",
     "text": [
      "   No voie Type de voie           Voie  Code postal            Commune  \\\n",
      "0     13.0          RUE  DE LA LIBERTE       1000.0    BOURG-EN-BRESSE   \n",
      "1      NaN          NaN   CHAMP COCHET       1480.0          SAVIGNEUX   \n",
      "2      NaN          NaN   CHAMP COCHET       1480.0          SAVIGNEUX   \n",
      "3     98.0          RTE   DE LA DOMBES       1480.0          SAVIGNEUX   \n",
      "4      NaN          NaN    AUX PIERRES       1480.0  MESSIMY SUR SAONE   \n",
      "\n",
      "                                      Adresse  \n",
      "0  13 RUE DE LA LIBERTE, 1000 BOURG-EN-BRESSE  \n",
      "1             0  CHAMP COCHET, 1480 SAVIGNEUX  \n",
      "2             0  CHAMP COCHET, 1480 SAVIGNEUX  \n",
      "3         98 RTE DE LA DOMBES, 1480 SAVIGNEUX  \n",
      "4      0  AUX PIERRES, 1480 MESSIMY SUR SAONE  \n"
     ]
    }
   ],
   "source": [
    "# Convertir explicitement toutes les colonnes en chaînes\n",
    "df['Adresse'] = df['No voie'].fillna(0).astype(int).astype(str) + \" \" + \\\n",
    "                df['Type de voie'].fillna('').astype(str) + \" \" + \\\n",
    "                df['Voie'].fillna('').astype(str) + \", \" + \\\n",
    "                df['Code postal'].fillna(0).astype(int).astype(str) + \" \" + \\\n",
    "                df['Commune'].fillna('').astype(str)\n",
    "\n",
    "\n",
    "print(df[['No voie', 'Type de voie', 'Voie', 'Code postal', 'Commune', 'Adresse']].head())\n"
   ]
  },
  {
   "cell_type": "code",
   "execution_count": 8,
   "metadata": {},
   "outputs": [
    {
     "name": "stdout",
     "output_type": "stream",
     "text": [
      "                                      Adresse  \\\n",
      "0  13 RUE DE LA LIBERTE, 1000 BOURG-EN-BRESSE   \n",
      "1             0  CHAMP COCHET, 1480 SAVIGNEUX   \n",
      "2             0  CHAMP COCHET, 1480 SAVIGNEUX   \n",
      "3         98 RTE DE LA DOMBES, 1480 SAVIGNEUX   \n",
      "4      0  AUX PIERRES, 1480 MESSIMY SUR SAONE   \n",
      "\n",
      "                                  Adresse_Normalisee  \n",
      "0  13 rue de la liberte 1000 bourg-en-bresse; 13 ...  \n",
      "1                      0 champ cochet 1480 savigneux  \n",
      "2                      0 champ cochet 1480 savigneux  \n",
      "3               98 route de la dombes 1480 savigneux  \n",
      "4               0 aux pierres 1480 messimy sur saone  \n"
     ]
    }
   ],
   "source": [
    "from postal.expand import expand_address\n",
    "\n",
    "\n",
    "def normalize_address(address):\n",
    "    if pd.isna(address) or address.strip() == '':\n",
    "        return None  \n",
    "    try:\n",
    "        \n",
    "        normalized = expand_address(address)\n",
    "        return \"; \".join(normalized)  \n",
    "    except Exception as e:\n",
    "        print(f\"Erreur avec l'adresse '{address}': {e}\")\n",
    "        return None\n",
    "\n",
    "df['Adresse_Normalisee'] = df['Adresse'].apply(normalize_address)\n",
    "\n",
    "\n",
    "print(df[['Adresse', 'Adresse_Normalisee']].head())\n"
   ]
  }
 ],
 "metadata": {
  "kernelspec": {
   "display_name": "base",
   "language": "python",
   "name": "python3"
  },
  "language_info": {
   "codemirror_mode": {
    "name": "ipython",
    "version": 3
   },
   "file_extension": ".py",
   "mimetype": "text/x-python",
   "name": "python",
   "nbconvert_exporter": "python",
   "pygments_lexer": "ipython3",
   "version": "3.12.7"
  }
 },
 "nbformat": 4,
 "nbformat_minor": 2
}

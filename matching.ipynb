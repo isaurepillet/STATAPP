{
 "cells": [
  {
   "cell_type": "code",
   "execution_count": 1,
   "metadata": {},
   "outputs": [],
   "source": [
    "import pandas as pd\n",
    "from postal.expand import expand_address\n",
    "import numpy as np \n",
    "from helpers import s3_connection\n",
    "import helpers \n",
    "import matplotlib.pyplot as plt"
   ]
  },
  {
   "cell_type": "markdown",
   "metadata": {},
   "source": [
    "IMPORT DES DONNEES"
   ]
  },
  {
   "cell_type": "code",
   "execution_count": 12,
   "metadata": {},
   "outputs": [
    {
     "data": {
      "text/plain": [
       "4537525"
      ]
     },
     "execution_count": 12,
     "metadata": {},
     "output_type": "execute_result"
    }
   ],
   "source": [
    "df = pd.read_csv(\n",
    "    \"/Users/noelinecasteil/Documents/statapp/DPE/DPE_ADEME/dpe-v2-logements-existants.csv\",\n",
    "    sep=\",\",  # Séparateur CSV\n",
    "    encoding=\"utf-8\",\n",
    "    low_memory=False)\n",
    "\n",
    "df['Date_réception_DPE'].count()"
   ]
  },
  {
   "cell_type": "code",
   "execution_count": 2,
   "metadata": {},
   "outputs": [
    {
     "name": "stdout",
     "output_type": "stream",
     "text": [
      "connection successful\n"
     ]
    }
   ],
   "source": [
    "s3 = s3_connection()"
   ]
  },
  {
   "cell_type": "code",
   "execution_count": 3,
   "metadata": {},
   "outputs": [
    {
     "name": "stderr",
     "output_type": "stream",
     "text": [
      "/home/onyxia/STATAPP/helpers.py:35: ParserWarning: Falling back to the 'python' engine because the 'c' engine does not support sep=None with delim_whitespace=False; you can avoid this warning by specifying engine='python'.\n",
      "  df = pd.read_csv(file_in, usecols=columns_to_select, dtype=dtype_spec, sep=sep)\n"
     ]
    }
   ],
   "source": [
    "path_logements_existants = \"clichere/diffusion/DPE/DPE_ADEME/dpe-v2-logements-existants.csv\"\n",
    "df = s3.read_file_from_s3(path_logements_existants)"
   ]
  },
  {
   "cell_type": "code",
   "execution_count": null,
   "metadata": {},
   "outputs": [],
   "source": [
    "df2 = pd.read_csv(\n",
    "    \"/Users/noelinecasteil/Documents/statapp/DPE/DPE_ADEME/dpe-v2-logements-neufs.csv\",\n",
    "    sep=\",\",  # Séparateur CSV\n",
    "    encoding=\"utf-8\",\n",
    "    low_memory=False)\n",
    "\n",
    "df2['Date_réception_DPE'].count()"
   ]
  },
  {
   "cell_type": "code",
   "execution_count": 4,
   "metadata": {},
   "outputs": [
    {
     "name": "stderr",
     "output_type": "stream",
     "text": [
      "/home/onyxia/STATAPP/helpers.py:35: ParserWarning: Falling back to the 'python' engine because the 'c' engine does not support sep=None with delim_whitespace=False; you can avoid this warning by specifying engine='python'.\n",
      "  df = pd.read_csv(file_in, usecols=columns_to_select, dtype=dtype_spec, sep=sep)\n"
     ]
    }
   ],
   "source": [
    "path_logements_existants = \"clichere/diffusion/DPE/DPE_ADEME/dpe-v2-logements-existants.csv\"\n",
    "df2 = s3.read_file_from_s3(path_logements_existants)"
   ]
  },
  {
   "cell_type": "code",
   "execution_count": 13,
   "metadata": {},
   "outputs": [],
   "source": [
    "vf = pd.read_csv(\n",
    "    \"/Users/noelinecasteil/Documents/statapp/ValeursFoncieres/valeursfoncieres-2022.txt\",\n",
    "    sep=\"|\",  \n",
    "    encoding=\"utf-8\",\n",
    "    low_memory=False\n",
    ")"
   ]
  },
  {
   "cell_type": "code",
   "execution_count": 5,
   "metadata": {},
   "outputs": [
    {
     "name": "stderr",
     "output_type": "stream",
     "text": [
      "/home/onyxia/STATAPP/helpers.py:35: DtypeWarning: Columns (18,23,24,26,28,29,31,33,41) have mixed types. Specify dtype option on import or set low_memory=False.\n",
      "  df = pd.read_csv(file_in, usecols=columns_to_select, dtype=dtype_spec, sep=sep)\n"
     ]
    }
   ],
   "source": [
    "path_valeursfoncieres_2022 = \"clichere/diffusion/Valeursfoncières/valeursfoncieres-2022.txt\"\n",
    "vf = s3.read_file_from_s3(path_valeursfoncieres_2022, sep=\"|\")"
   ]
  },
  {
   "cell_type": "code",
   "execution_count": 6,
   "metadata": {},
   "outputs": [],
   "source": [
    "# Convertir explicitement toutes les colonnes en chaînes\n",
    "vf['Adresse'] = vf['No voie'].apply(lambda x: str(int(x)) if pd.notna(x) else '').astype(str) + \" \" + \\\n",
    "                vf['Type de voie'].fillna('').astype(str) + \" \" + \\\n",
    "                vf['Voie'].fillna('').astype(str) + \", \" + \\\n",
    "                vf['Code postal'].apply(lambda x: str(int(x)) if pd.notna(x) else '').astype(str) + \" \" + \\\n",
    "                vf['Commune'].fillna('').astype(str)\n",
    "\n",
    "vf['Adresse'] = vf['Adresse'].str.strip().replace(r'^\\s*$', None, regex=True)  # Supprime les adresses vides"
   ]
  },
  {
   "cell_type": "code",
   "execution_count": 7,
   "metadata": {},
   "outputs": [],
   "source": [
    "def normalize_address(address):\n",
    "    if pd.isna(address) or address.strip() == '':\n",
    "        return None  \n",
    "    try:\n",
    "        normalized = expand_address(address)  \n",
    "        return normalized[0] if normalized else None  # Ne garde que la première version\n",
    "    except Exception as e:\n",
    "        print(f\"Erreur avec l'adresse '{address}': {e}\")\n",
    "        return None"
   ]
  },
  {
   "cell_type": "code",
   "execution_count": 8,
   "metadata": {},
   "outputs": [],
   "source": [
    "df['Date_réception_DPE'] = pd.to_datetime(df['Date_réception_DPE'], errors='coerce')\n",
    "df = df[df['Date_réception_DPE'].dt.year == 2022].copy()"
   ]
  },
  {
   "cell_type": "code",
   "execution_count": 9,
   "metadata": {},
   "outputs": [],
   "source": [
    "vf = vf[vf['Code postal'].notna()]\n",
    "df = df[df['N°_département_(BAN)'].notna()]"
   ]
  },
  {
   "cell_type": "code",
   "execution_count": 10,
   "metadata": {},
   "outputs": [],
   "source": [
    "vf['Code postal'] = vf['Code postal'].astype(int).astype(str)\n",
    "df.loc[:, 'N°_département_(BAN)'] = df['N°_département_(BAN)'].astype(str)"
   ]
  },
  {
   "cell_type": "code",
   "execution_count": null,
   "metadata": {},
   "outputs": [
    {
     "name": "stdout",
     "output_type": "stream",
     "text": [
      "Traitement du département : 13\n"
     ]
    }
   ],
   "source": [
    "def test_match2(vf, df):\n",
    "    merged = []\n",
    "\n",
    "\n",
    "    #boucle par département\n",
    "    for department in df['N°_département_(BAN)'].unique():  \n",
    "        print(f\"Traitement du département : {department}\")\n",
    "        \n",
    "        #filtre\n",
    "        vf_dept = vf[vf['Code postal'].astype(str).str.startswith(department)].copy()\n",
    "        df_dept = df[df['N°_département_(BAN)']==department].copy()\n",
    "\n",
    "        #normalisation adresses\n",
    "        vf_dept['Adresse'] = vf_dept['Adresse'].str.strip().str.replace(r'\\s+', ' ', regex=True)\n",
    "        vf_dept['Adresse_Normalisee'] = vf_dept['Adresse'].apply(normalize_address)\n",
    "        df_dept['Adresse_Normalisee'] = df_dept['Adresse_(BAN)'].apply(normalize_address)\n",
    "\n",
    "        adresse_counts = vf_dept['Adresse_Normalisee'].dropna().value_counts()\n",
    "        unique1 = list(adresse_counts[adresse_counts == 1].index)\n",
    "        doublons1 = list(adresse_counts[adresse_counts > 1].index)\n",
    "        final = unique1 + doublons1\n",
    "        set_final = set(final)\n",
    "\n",
    "        adresse_counts2 = df_dept['Adresse_Normalisee'].dropna().value_counts()\n",
    "        unique2 = list(adresse_counts2[adresse_counts2 == 1].index)\n",
    "        doublons2 = list(adresse_counts2[adresse_counts2 > 1].index)\n",
    "        final2 = unique2 + doublons2\n",
    "        set_final2 = set(final2)\n",
    "\n",
    "        commun = set_final.intersection(set_final2)\n",
    "\n",
    "        vf_dept['Surface Carrez du 1er lot'] = pd.to_numeric(\n",
    "            vf_dept['Surface Carrez du 1er lot'].astype(str).str.replace(',', '.'), errors='coerce'\n",
    "        )\n",
    "        df_dept['Surface_habitable_logement'] = pd.to_numeric(\n",
    "            df_dept['Surface_habitable_logement'].astype(str).str.replace(',', '.'), errors='coerce'\n",
    "        )\n",
    "\n",
    "        for adresse in commun:\n",
    "            dfsub = df_dept[df_dept['Adresse_Normalisee'] == adresse]\n",
    "            vfsub = vf_dept[vf_dept['Adresse_Normalisee'] == adresse]\n",
    "\n",
    "            for _, row2 in dfsub.iterrows():\n",
    "                best_match = None\n",
    "                best_value = -1\n",
    "\n",
    "                for _, row1 in vfsub.iterrows():\n",
    "                    surface1 = row1['Surface Carrez du 1er lot']\n",
    "                    surface2 = row2['Surface_habitable_logement']\n",
    "\n",
    "                    #si surfaces identiques on match direct\n",
    "                    if surface1 == surface2:\n",
    "                        best_match = row1\n",
    "                        break\n",
    "\n",
    "                    #ecart inf à 5%\n",
    "                    if abs(surface1 - surface2) / max(surface1, surface2) < 0.05:\n",
    "                        valeur_fonciere = pd.to_numeric(str(row1.get('Valeur fonciere', 0)).replace(',', '.'), errors='coerce')\n",
    "                        if valeur_fonciere > best_value:\n",
    "                            best_value = valeur_fonciere\n",
    "                            best_match = row1\n",
    "\n",
    "                if best_match is not None:\n",
    "                    merged.append({**row2.to_dict(), **best_match.to_dict()})\n",
    "\n",
    "    #df des résultats fusionnés\n",
    "    df = pd.DataFrame(merged)\n",
    "    return df\n",
    "\n",
    "#application fonction\n",
    "test2 = test_match2(vf, df)"
   ]
  },
  {
   "cell_type": "code",
   "execution_count": 20,
   "metadata": {},
   "outputs": [],
   "source": [
    "test2.to_csv(\"testfinal.csv\", index=False)"
   ]
  },
  {
   "cell_type": "code",
   "execution_count": 21,
   "metadata": {},
   "outputs": [
    {
     "name": "stdout",
     "output_type": "stream",
     "text": [
      "70665\n"
     ]
    }
   ],
   "source": [
    "print(len(test2))"
   ]
  },
  {
   "cell_type": "code",
   "execution_count": 23,
   "metadata": {},
   "outputs": [],
   "source": [
    "result_df = test2.drop_duplicates(subset=['Adresse_Normalisee', 'Surface_habitable_logement', 'Valeur fonciere'])"
   ]
  },
  {
   "cell_type": "code",
   "execution_count": 24,
   "metadata": {},
   "outputs": [],
   "source": [
    "result_df.to_csv(\"resultfinal.csv\", index=False)"
   ]
  },
  {
   "cell_type": "code",
   "execution_count": 25,
   "metadata": {},
   "outputs": [
    {
     "name": "stdout",
     "output_type": "stream",
     "text": [
      "60481\n"
     ]
    }
   ],
   "source": [
    "print(len(result_df))"
   ]
  }
 ],
 "metadata": {
  "kernelspec": {
   "display_name": "base",
   "language": "python",
   "name": "python3"
  },
  "language_info": {
   "codemirror_mode": {
    "name": "ipython",
    "version": 3
   },
   "file_extension": ".py",
   "mimetype": "text/x-python",
   "name": "python",
   "nbconvert_exporter": "python",
   "pygments_lexer": "ipython3",
   "version": "3.12.9"
  }
 },
 "nbformat": 4,
 "nbformat_minor": 2
}

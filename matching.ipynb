{
 "cells": [
  {
   "cell_type": "code",
   "execution_count": 3,
   "metadata": {},
   "outputs": [],
   "source": [
    "import pandas as pd\n",
    "from postal.expand import expand_address\n",
    "import numpy as np \n",
    "import matplotlib.pyplot as plt"
   ]
  },
  {
   "cell_type": "markdown",
   "metadata": {},
   "source": [
    "IMPORT DES DONNEES"
   ]
  },
  {
   "cell_type": "code",
   "execution_count": 2,
   "metadata": {},
   "outputs": [
    {
     "data": {
      "text/plain": [
       "4537525"
      ]
     },
     "execution_count": 2,
     "metadata": {},
     "output_type": "execute_result"
    }
   ],
   "source": [
    "df = pd.read_csv(\n",
    "    \"/Users/noelinecasteil/Documents/statapp/DPE/DPE_ADEME/dpe-v2-logements-existants.csv\",\n",
    "    sep=\",\",  # Séparateur CSV\n",
    "    encoding=\"utf-8\",\n",
    "    low_memory=False)\n",
    "\n",
    "df['Date_réception_DPE'].count()"
   ]
  },
  {
   "cell_type": "code",
   "execution_count": 164,
   "metadata": {},
   "outputs": [
    {
     "data": {
      "text/plain": [
       "537952"
      ]
     },
     "execution_count": 164,
     "metadata": {},
     "output_type": "execute_result"
    }
   ],
   "source": [
    "df2 = pd.read_csv(\n",
    "    \"/Users/noelinecasteil/Documents/statapp/DPE/DPE_ADEME/dpe-v2-logements-neufs.csv\",\n",
    "    sep=\",\",  # Séparateur CSV\n",
    "    encoding=\"utf-8\",\n",
    "    low_memory=False)\n",
    "\n",
    "df2['Date_réception_DPE'].count()"
   ]
  },
  {
   "cell_type": "code",
   "execution_count": 3,
   "metadata": {},
   "outputs": [],
   "source": [
    "vf = pd.read_csv(\n",
    "    \"/Users/noelinecasteil/Documents/statapp/ValeursFoncieres/valeursfoncieres-2022.txt\",\n",
    "    sep=\"|\",  \n",
    "    encoding=\"utf-8\",\n",
    "    low_memory=False\n",
    ")"
   ]
  },
  {
   "cell_type": "code",
   "execution_count": 4,
   "metadata": {},
   "outputs": [],
   "source": [
    "# Convertir explicitement toutes les colonnes en chaînes\n",
    "vf['Adresse'] = vf['No voie'].apply(lambda x: str(int(x)) if pd.notna(x) else '').astype(str) + \" \" + \\\n",
    "                vf['Type de voie'].fillna('').astype(str) + \" \" + \\\n",
    "                vf['Voie'].fillna('').astype(str) + \", \" + \\\n",
    "                vf['Code postal'].apply(lambda x: str(int(x)) if pd.notna(x) else '').astype(str) + \" \" + \\\n",
    "                vf['Commune'].fillna('').astype(str)\n",
    "\n",
    "vf['Adresse'] = vf['Adresse'].str.strip().replace(r'^\\s*$', None, regex=True)  # Supprime les adresses vides"
   ]
  },
  {
   "cell_type": "code",
   "execution_count": 13,
   "metadata": {},
   "outputs": [],
   "source": [
    "def normalize_address(address):\n",
    "    if pd.isna(address) or address.strip() == '':\n",
    "        return None  \n",
    "    try:\n",
    "        normalized = expand_address(address)  \n",
    "        return normalized[0] if normalized else None  # Ne garde que la première version\n",
    "    except Exception as e:\n",
    "        print(f\"Erreur avec l'adresse '{address}': {e}\")\n",
    "        return None"
   ]
  },
  {
   "cell_type": "code",
   "execution_count": 14,
   "metadata": {},
   "outputs": [],
   "source": [
    "import re\n",
    "\n",
    "def normalize_vf_address(address, code_postal):\n",
    "    \"\"\" Normalise l'adresse et supprime l'arrondissement après 'PARIS' uniquement si le département est 75. \"\"\"\n",
    "    normalized_address = normalize_address(address)  \n",
    "\n",
    "    if pd.notna(normalized_address) and str(code_postal).startswith(\"75\"):\n",
    "        # Supprime le numéro après \"PARIS\" uniquement pour le département 75\n",
    "        normalized_address = re.sub(r'(paris) \\d{2}$', r'\\1', normalized_address, flags=re.IGNORECASE)\n",
    "    \n",
    "    return normalized_address"
   ]
  },
  {
   "cell_type": "markdown",
   "metadata": {},
   "source": [
    "## 2022"
   ]
  },
  {
   "cell_type": "code",
   "execution_count": 29,
   "metadata": {},
   "outputs": [],
   "source": [
    "df['Date_réception_DPE'] = pd.to_datetime(df['Date_réception_DPE'], errors='coerce')\n",
    "df = df[df['Date_réception_DPE'].dt.year == 2022].copy()"
   ]
  },
  {
   "cell_type": "code",
   "execution_count": 30,
   "metadata": {},
   "outputs": [],
   "source": [
    "vf = vf[vf['Code departement'].notna()]\n",
    "df = df[df['N°_département_(BAN)'].notna()]"
   ]
  },
  {
   "cell_type": "code",
   "execution_count": 8,
   "metadata": {},
   "outputs": [],
   "source": [
    "vf['Code departement'] = vf['Code departement'].astype(str)\n",
    "df.loc[:, 'N°_département_(BAN)'] = df['N°_département_(BAN)'].astype(str)"
   ]
  },
  {
   "cell_type": "markdown",
   "metadata": {},
   "source": [
    "## TEST AVEC 5% POUR LES SURFACES"
   ]
  },
  {
   "cell_type": "code",
   "execution_count": 11,
   "metadata": {},
   "outputs": [],
   "source": [
    "def test_match2(vf, df):\n",
    "    merged = []\n",
    "\n",
    "\n",
    "    #boucle par département\n",
    "    for department in df['N°_département_(BAN)'].unique():  \n",
    "        print(f\"Traitement du département : {department}\")\n",
    "        \n",
    "        #filtre\n",
    "        vf_dept = vf[vf['Code departement']==department].copy()\n",
    "        df_dept = df[df['N°_département_(BAN)']==department].copy()\n",
    "\n",
    "        #normalisation adresses\n",
    "        vf_dept['Adresse'] = vf_dept['Adresse'].str.strip().str.replace(r'\\s+', ' ', regex=True)\n",
    "        vf_dept['Adresse_Normalisee'] = vf_dept.apply(lambda row: normalize_vf_address(row['Adresse'], row['Code departement']), axis=1)\n",
    "        df_dept['Adresse_Normalisee'] = df_dept['Adresse_(BAN)'].apply(normalize_address)\n",
    "\n",
    "        adresse_counts = vf_dept['Adresse_Normalisee'].dropna().value_counts()\n",
    "        unique1 = list(adresse_counts[adresse_counts == 1].index)\n",
    "        doublons1 = list(adresse_counts[adresse_counts > 1].index)\n",
    "        final = unique1 + doublons1\n",
    "        set_final = set(final)\n",
    "\n",
    "        adresse_counts2 = df_dept['Adresse_Normalisee'].dropna().value_counts()\n",
    "        unique2 = list(adresse_counts2[adresse_counts2 == 1].index)\n",
    "        doublons2 = list(adresse_counts2[adresse_counts2 > 1].index)\n",
    "        final2 = unique2 + doublons2\n",
    "        set_final2 = set(final2)\n",
    "\n",
    "        commun = set_final.intersection(set_final2)\n",
    "\n",
    "        vf_dept['Surface Carrez du 1er lot'] = pd.to_numeric(\n",
    "            vf_dept['Surface Carrez du 1er lot'].astype(str).str.replace(',', '.'), errors='coerce'\n",
    "        )\n",
    "        df_dept['Surface_habitable_logement'] = pd.to_numeric(\n",
    "            df_dept['Surface_habitable_logement'].astype(str).str.replace(',', '.'), errors='coerce'\n",
    "        )\n",
    "\n",
    "        for adresse in commun:\n",
    "            dfsub = df_dept[df_dept['Adresse_Normalisee'] == adresse]\n",
    "            vfsub = vf_dept[vf_dept['Adresse_Normalisee'] == adresse]\n",
    "\n",
    "            for _, row2 in dfsub.iterrows():\n",
    "                best_match = None\n",
    "                best_value = -1\n",
    "\n",
    "                for _, row1 in vfsub.iterrows():\n",
    "                    surface1 = row1['Surface Carrez du 1er lot']\n",
    "                    surface2 = row2['Surface_habitable_logement']\n",
    "\n",
    "                    #si surfaces identiques on match direct\n",
    "                    if surface1 == surface2:\n",
    "                        best_match = row1\n",
    "                        break\n",
    "\n",
    "                    #ecart inf à 5%\n",
    "                    if abs(surface1 - surface2) / max(surface1, surface2) < 0.05:\n",
    "                        valeur_fonciere = pd.to_numeric(str(row1.get('Valeur fonciere', 0)).replace(',', '.'), errors='coerce')\n",
    "                        if valeur_fonciere > best_value:\n",
    "                            best_value = valeur_fonciere\n",
    "                            best_match = row1\n",
    "\n",
    "                if best_match is not None:\n",
    "                    merged.append({**row2.to_dict(), **best_match.to_dict()})\n",
    "\n",
    "    #df des résultats fusionnés\n",
    "    df = pd.DataFrame(merged)\n",
    "    return df\n"
   ]
  },
  {
   "cell_type": "code",
   "execution_count": 91,
   "metadata": {},
   "outputs": [
    {
     "name": "stdout",
     "output_type": "stream",
     "text": [
      "Traitement du département : 13\n",
      "Traitement du département : 92\n",
      "Traitement du département : 69\n",
      "Traitement du département : 03\n",
      "Traitement du département : 56\n",
      "Traitement du département : 75\n",
      "Traitement du département : 29\n",
      "Traitement du département : 91\n",
      "Traitement du département : 62\n",
      "Traitement du département : 21\n",
      "Traitement du département : 11\n",
      "Traitement du département : 02\n",
      "Traitement du département : 59\n",
      "Traitement du département : 94\n",
      "Traitement du département : 44\n",
      "Traitement du département : 50\n",
      "Traitement du département : 37\n",
      "Traitement du département : 81\n",
      "Traitement du département : 67\n",
      "Traitement du département : 93\n",
      "Traitement du département : 83\n",
      "Traitement du département : 63\n",
      "Traitement du département : 95\n",
      "Traitement du département : 76\n",
      "Traitement du département : 33\n",
      "Traitement du département : 78\n",
      "Traitement du département : 38\n",
      "Traitement du département : 51\n",
      "Traitement du département : 57\n",
      "Traitement du département : 77\n",
      "Traitement du département : 35\n",
      "Traitement du département : 54\n",
      "Traitement du département : 80\n",
      "Traitement du département : 36\n",
      "Traitement du département : 73\n",
      "Traitement du département : 31\n",
      "Traitement du département : 49\n",
      "Traitement du département : 60\n",
      "Traitement du département : 45\n",
      "Traitement du département : 14\n",
      "Traitement du département : 74\n",
      "Traitement du département : 41\n",
      "Traitement du département : 28\n",
      "Traitement du département : 10\n",
      "Traitement du département : 30\n",
      "Traitement du département : 58\n",
      "Traitement du département : 34\n",
      "Traitement du département : 12\n",
      "Traitement du département : 64\n",
      "Traitement du département : 55\n",
      "Traitement du département : 84\n",
      "Traitement du département : 24\n",
      "Traitement du département : 61\n",
      "Traitement du département : 27\n",
      "Traitement du département : 47\n",
      "Traitement du département : 89\n",
      "Traitement du département : 85\n",
      "Traitement du département : 87\n",
      "Traitement du département : 17\n",
      "Traitement du département : 06\n",
      "Traitement du département : 16\n",
      "Traitement du département : 07\n",
      "Traitement du département : 42\n",
      "Traitement du département : 72\n",
      "Traitement du département : 79\n",
      "Traitement du département : 2B\n",
      "Traitement du département : 15\n",
      "Traitement du département : 25\n",
      "Traitement du département : 04\n",
      "Traitement du département : 23\n",
      "Traitement du département : 01\n",
      "Traitement du département : 66\n",
      "Traitement du département : 68\n",
      "Traitement du département : 53\n",
      "Traitement du département : 26\n",
      "Traitement du département : 05\n",
      "Traitement du département : 08\n",
      "Traitement du département : 18\n",
      "Traitement du département : 22\n",
      "Traitement du département : 40\n",
      "Traitement du département : 32\n",
      "Traitement du département : 88\n",
      "Traitement du département : 52\n",
      "Traitement du département : 43\n",
      "Traitement du département : 19\n",
      "Traitement du département : 71\n",
      "Traitement du département : 90\n",
      "Traitement du département : 86\n",
      "Traitement du département : 39\n",
      "Traitement du département : 65\n",
      "Traitement du département : 82\n",
      "Traitement du département : 09\n",
      "Traitement du département : 46\n",
      "Traitement du département : 48\n",
      "Traitement du département : 70\n",
      "Traitement du département : 972\n",
      "Traitement du département : 974\n",
      "Traitement du département : 2A\n",
      "Traitement du département : 971\n",
      "Traitement du département : 976\n",
      "Traitement du département : 973\n",
      "Traitement du département : 988\n"
     ]
    }
   ],
   "source": [
    "\n",
    "#application fonction\n",
    "test2 = test_match2(vf, df)"
   ]
  },
  {
   "cell_type": "code",
   "execution_count": 92,
   "metadata": {},
   "outputs": [
    {
     "name": "stdout",
     "output_type": "stream",
     "text": [
      "82902\n"
     ]
    }
   ],
   "source": [
    "print(len(test2))"
   ]
  },
  {
   "cell_type": "markdown",
   "metadata": {},
   "source": [
    "### Suppression doublons "
   ]
  },
  {
   "cell_type": "code",
   "execution_count": 93,
   "metadata": {},
   "outputs": [],
   "source": [
    "result_df = test2.drop_duplicates(subset=['Date_réception_DPE', 'Adresse_Normalisee', 'Surface_habitable_logement', 'Valeur fonciere', 'N°_étage_appartement', 'Etiquette_DPE', \"Complément_d'adresse_logement\", \"Complément_d'adresse_bâtiment\", \"Date_établissement_DPE\"])"
   ]
  },
  {
   "cell_type": "code",
   "execution_count": 95,
   "metadata": {},
   "outputs": [],
   "source": [
    "result_df.to_csv(\"result5%.csv\", index=False)"
   ]
  },
  {
   "cell_type": "code",
   "execution_count": 94,
   "metadata": {},
   "outputs": [
    {
     "name": "stdout",
     "output_type": "stream",
     "text": [
      "77673\n"
     ]
    }
   ],
   "source": [
    "print(len(result_df))"
   ]
  },
  {
   "cell_type": "markdown",
   "metadata": {},
   "source": [
    "## TEST AVEC 10% POUR LES SURFACES"
   ]
  },
  {
   "cell_type": "code",
   "execution_count": 32,
   "metadata": {},
   "outputs": [],
   "source": [
    "def test_match3(vf, df):\n",
    "    merged = []\n",
    "\n",
    "    #boucle par département\n",
    "    for department in df['N°_département_(BAN)'].unique():  \n",
    "        print(f\"Traitement du département : {department}\")\n",
    "        \n",
    "        #filtre\n",
    "        vf_dept = vf[vf['Code departement']==department].copy()\n",
    "        df_dept = df[df['N°_département_(BAN)']==department].copy()\n",
    "\n",
    "        #normalisation adresses\n",
    "        vf_dept['Adresse'] = vf_dept['Adresse'].str.strip().str.replace(r'\\s+', ' ', regex=True)\n",
    "        vf_dept['Adresse_Normalisee'] = vf_dept.apply(lambda row: normalize_vf_address(row['Adresse'], row['Code departement']), axis=1)\n",
    "        df_dept['Adresse_Normalisee'] = df_dept['Adresse_(BAN)'].apply(normalize_address)\n",
    "\n",
    "        adresse_counts = vf_dept['Adresse_Normalisee'].dropna().value_counts()\n",
    "        unique1 = list(adresse_counts[adresse_counts == 1].index)\n",
    "        doublons1 = list(adresse_counts[adresse_counts > 1].index)\n",
    "        final = unique1 + doublons1\n",
    "        set_final = set(final)\n",
    "\n",
    "        adresse_counts2 = df_dept['Adresse_Normalisee'].dropna().value_counts()\n",
    "        unique2 = list(adresse_counts2[adresse_counts2 == 1].index)\n",
    "        doublons2 = list(adresse_counts2[adresse_counts2 > 1].index)\n",
    "        final2 = unique2 + doublons2\n",
    "        set_final2 = set(final2)\n",
    "\n",
    "        commun = set_final.intersection(set_final2)\n",
    "\n",
    "        vf_dept['Surface Carrez du 1er lot'] = pd.to_numeric(\n",
    "            vf_dept['Surface Carrez du 1er lot'].astype(str).str.replace(',', '.'), errors='coerce'\n",
    "        )\n",
    "        df_dept['Surface_habitable_logement'] = pd.to_numeric(\n",
    "            df_dept['Surface_habitable_logement'].astype(str).str.replace(',', '.'), errors='coerce'\n",
    "        )\n",
    "\n",
    "        for adresse in commun:\n",
    "            dfsub = df_dept[df_dept['Adresse_Normalisee'] == adresse]\n",
    "            vfsub = vf_dept[vf_dept['Adresse_Normalisee'] == adresse]\n",
    "\n",
    "            for _, row2 in dfsub.iterrows():\n",
    "                best_match = None\n",
    "                best_value = -1\n",
    "\n",
    "                for _, row1 in vfsub.iterrows():\n",
    "                    surface1 = row1['Surface Carrez du 1er lot']\n",
    "                    surface2 = row2['Surface_habitable_logement']\n",
    "\n",
    "                    #si surfaces identiques on match direct\n",
    "                    if surface1 == surface2:\n",
    "                        best_match = row1\n",
    "                        break\n",
    "\n",
    "                    #ecart inf à 10%\n",
    "                    if abs(surface1 - surface2) / max(surface1, surface2) < 0.1:\n",
    "                        valeur_fonciere = pd.to_numeric(str(row1.get('Valeur fonciere', 0)).replace(',', '.'), errors='coerce')\n",
    "                        if valeur_fonciere > best_value:\n",
    "                            best_value = valeur_fonciere\n",
    "                            best_match = row1\n",
    "\n",
    "                if best_match is not None:\n",
    "                    merged.append({**row2.to_dict(), **best_match.to_dict()})\n",
    "\n",
    "    #df des résultats fusionnés\n",
    "    df = pd.DataFrame(merged)\n",
    "    return df"
   ]
  },
  {
   "cell_type": "code",
   "execution_count": null,
   "metadata": {},
   "outputs": [
    {
     "name": "stdout",
     "output_type": "stream",
     "text": [
      "Traitement du département : 13\n",
      "Traitement du département : 92\n",
      "Traitement du département : 69\n",
      "Traitement du département : 03\n",
      "Traitement du département : 56\n",
      "Traitement du département : 75\n",
      "Traitement du département : 29\n",
      "Traitement du département : 91\n",
      "Traitement du département : 62\n",
      "Traitement du département : 21\n",
      "Traitement du département : 11\n",
      "Traitement du département : 02\n",
      "Traitement du département : 59\n",
      "Traitement du département : 94\n",
      "Traitement du département : 44\n",
      "Traitement du département : 50\n",
      "Traitement du département : 37\n",
      "Traitement du département : 81\n",
      "Traitement du département : 67\n",
      "Traitement du département : 93\n",
      "Traitement du département : 83\n",
      "Traitement du département : 63\n",
      "Traitement du département : 95\n",
      "Traitement du département : 76\n",
      "Traitement du département : 33\n",
      "Traitement du département : 78\n",
      "Traitement du département : 38\n",
      "Traitement du département : 51\n",
      "Traitement du département : 57\n",
      "Traitement du département : 77\n",
      "Traitement du département : 35\n",
      "Traitement du département : 54\n",
      "Traitement du département : 80\n",
      "Traitement du département : 36\n",
      "Traitement du département : 73\n",
      "Traitement du département : 31\n",
      "Traitement du département : 49\n",
      "Traitement du département : 60\n",
      "Traitement du département : 45\n",
      "Traitement du département : 14\n",
      "Traitement du département : 74\n",
      "Traitement du département : 41\n",
      "Traitement du département : 28\n",
      "Traitement du département : 10\n",
      "Traitement du département : 30\n",
      "Traitement du département : 58\n",
      "Traitement du département : 34\n",
      "Traitement du département : 12\n",
      "Traitement du département : 64\n",
      "Traitement du département : 55\n",
      "Traitement du département : 84\n",
      "Traitement du département : 24\n",
      "Traitement du département : 61\n",
      "Traitement du département : 27\n",
      "Traitement du département : 47\n",
      "Traitement du département : 89\n",
      "Traitement du département : 85\n",
      "Traitement du département : 87\n",
      "Traitement du département : 17\n",
      "Traitement du département : 06\n",
      "Traitement du département : 16\n",
      "Traitement du département : 07\n",
      "Traitement du département : 42\n",
      "Traitement du département : 72\n",
      "Traitement du département : 79\n",
      "Traitement du département : 2B\n",
      "Traitement du département : 15\n",
      "Traitement du département : 25\n",
      "Traitement du département : 04\n",
      "Traitement du département : 23\n",
      "Traitement du département : 01\n",
      "Traitement du département : 66\n",
      "Traitement du département : 68\n",
      "Traitement du département : 53\n",
      "Traitement du département : 26\n",
      "Traitement du département : 05\n",
      "Traitement du département : 08\n",
      "Traitement du département : 18\n",
      "Traitement du département : 22\n",
      "Traitement du département : 40\n",
      "Traitement du département : 32\n",
      "Traitement du département : 88\n",
      "Traitement du département : 52\n",
      "Traitement du département : 43\n",
      "Traitement du département : 19\n",
      "Traitement du département : 71\n",
      "Traitement du département : 90\n",
      "Traitement du département : 86\n",
      "Traitement du département : 39\n",
      "Traitement du département : 65\n",
      "Traitement du département : 82\n",
      "Traitement du département : 09\n",
      "Traitement du département : 46\n",
      "Traitement du département : 48\n",
      "Traitement du département : 70\n",
      "Traitement du département : 972\n",
      "Traitement du département : 974\n",
      "Traitement du département : 2A\n",
      "Traitement du département : 971\n",
      "Traitement du département : 976\n",
      "Traitement du département : 973\n",
      "Traitement du département : 988\n"
     ]
    }
   ],
   "source": [
    "#application fonction\n",
    "test3 = test_match3(vf, df)"
   ]
  },
  {
   "cell_type": "code",
   "execution_count": 121,
   "metadata": {},
   "outputs": [
    {
     "name": "stdout",
     "output_type": "stream",
     "text": [
      "95677\n"
     ]
    }
   ],
   "source": [
    "print(len(test3))"
   ]
  },
  {
   "cell_type": "code",
   "execution_count": 122,
   "metadata": {},
   "outputs": [],
   "source": [
    "result10 = test3.drop_duplicates(subset=['Date_réception_DPE', 'Adresse_Normalisee', 'Surface_habitable_logement', 'Valeur fonciere', 'N°_étage_appartement', 'Etiquette_DPE', \"Complément_d'adresse_logement\", \"Complément_d'adresse_bâtiment\", \"Date_établissement_DPE\"])"
   ]
  },
  {
   "cell_type": "code",
   "execution_count": 123,
   "metadata": {},
   "outputs": [
    {
     "name": "stdout",
     "output_type": "stream",
     "text": [
      "89539\n"
     ]
    }
   ],
   "source": [
    "print(len(result10))"
   ]
  },
  {
   "cell_type": "code",
   "execution_count": 124,
   "metadata": {},
   "outputs": [],
   "source": [
    "result10.to_csv(\"result10%.csv\", index=False)"
   ]
  },
  {
   "cell_type": "markdown",
   "metadata": {},
   "source": [
    "## TEST SEUIL DE 3%"
   ]
  },
  {
   "cell_type": "code",
   "execution_count": 125,
   "metadata": {},
   "outputs": [
    {
     "name": "stdout",
     "output_type": "stream",
     "text": [
      "Traitement du département : 13\n",
      "Traitement du département : 92\n",
      "Traitement du département : 69\n",
      "Traitement du département : 03\n",
      "Traitement du département : 56\n",
      "Traitement du département : 75\n",
      "Traitement du département : 29\n",
      "Traitement du département : 91\n",
      "Traitement du département : 62\n",
      "Traitement du département : 21\n",
      "Traitement du département : 11\n",
      "Traitement du département : 02\n",
      "Traitement du département : 59\n",
      "Traitement du département : 94\n",
      "Traitement du département : 44\n",
      "Traitement du département : 50\n",
      "Traitement du département : 37\n",
      "Traitement du département : 81\n",
      "Traitement du département : 67\n",
      "Traitement du département : 93\n",
      "Traitement du département : 83\n",
      "Traitement du département : 63\n",
      "Traitement du département : 95\n",
      "Traitement du département : 76\n",
      "Traitement du département : 33\n",
      "Traitement du département : 78\n",
      "Traitement du département : 38\n",
      "Traitement du département : 51\n",
      "Traitement du département : 57\n",
      "Traitement du département : 77\n",
      "Traitement du département : 35\n",
      "Traitement du département : 54\n",
      "Traitement du département : 80\n",
      "Traitement du département : 36\n",
      "Traitement du département : 73\n",
      "Traitement du département : 31\n",
      "Traitement du département : 49\n",
      "Traitement du département : 60\n",
      "Traitement du département : 45\n",
      "Traitement du département : 14\n",
      "Traitement du département : 74\n",
      "Traitement du département : 41\n",
      "Traitement du département : 28\n",
      "Traitement du département : 10\n",
      "Traitement du département : 30\n",
      "Traitement du département : 58\n",
      "Traitement du département : 34\n",
      "Traitement du département : 12\n",
      "Traitement du département : 64\n",
      "Traitement du département : 55\n",
      "Traitement du département : 84\n",
      "Traitement du département : 24\n",
      "Traitement du département : 61\n",
      "Traitement du département : 27\n",
      "Traitement du département : 47\n",
      "Traitement du département : 89\n",
      "Traitement du département : 85\n",
      "Traitement du département : 87\n",
      "Traitement du département : 17\n",
      "Traitement du département : 06\n",
      "Traitement du département : 16\n",
      "Traitement du département : 07\n",
      "Traitement du département : 42\n",
      "Traitement du département : 72\n",
      "Traitement du département : 79\n",
      "Traitement du département : 2B\n",
      "Traitement du département : 15\n",
      "Traitement du département : 25\n",
      "Traitement du département : 04\n",
      "Traitement du département : 23\n",
      "Traitement du département : 01\n",
      "Traitement du département : 66\n",
      "Traitement du département : 68\n",
      "Traitement du département : 53\n",
      "Traitement du département : 26\n",
      "Traitement du département : 05\n",
      "Traitement du département : 08\n",
      "Traitement du département : 18\n",
      "Traitement du département : 22\n",
      "Traitement du département : 40\n",
      "Traitement du département : 32\n",
      "Traitement du département : 88\n",
      "Traitement du département : 52\n",
      "Traitement du département : 43\n",
      "Traitement du département : 19\n",
      "Traitement du département : 71\n",
      "Traitement du département : 90\n",
      "Traitement du département : 86\n",
      "Traitement du département : 39\n",
      "Traitement du département : 65\n",
      "Traitement du département : 82\n",
      "Traitement du département : 09\n",
      "Traitement du département : 46\n",
      "Traitement du département : 48\n",
      "Traitement du département : 70\n",
      "Traitement du département : 972\n",
      "Traitement du département : 974\n",
      "Traitement du département : 2A\n",
      "Traitement du département : 971\n",
      "Traitement du département : 976\n",
      "Traitement du département : 973\n",
      "Traitement du département : 988\n"
     ]
    }
   ],
   "source": [
    "def test_match4(vf, df):\n",
    "    merged = []\n",
    "\n",
    "\n",
    "    #boucle par département\n",
    "    for department in df['N°_département_(BAN)'].unique():  \n",
    "        print(f\"Traitement du département : {department}\")\n",
    "        \n",
    "        #filtre\n",
    "        vf_dept = vf[vf['Code departement']==department].copy()\n",
    "        df_dept = df[df['N°_département_(BAN)']==department].copy()\n",
    "\n",
    "        #normalisation adresses\n",
    "        vf_dept['Adresse'] = vf_dept['Adresse'].str.strip().str.replace(r'\\s+', ' ', regex=True)\n",
    "        vf_dept['Adresse_Normalisee'] = vf_dept.apply(lambda row: normalize_vf_address(row['Adresse'], row['Code departement']), axis=1)\n",
    "        df_dept['Adresse_Normalisee'] = df_dept['Adresse_(BAN)'].apply(normalize_address)\n",
    "\n",
    "        adresse_counts = vf_dept['Adresse_Normalisee'].dropna().value_counts()\n",
    "        unique1 = list(adresse_counts[adresse_counts == 1].index)\n",
    "        doublons1 = list(adresse_counts[adresse_counts > 1].index)\n",
    "        final = unique1 + doublons1\n",
    "        set_final = set(final)\n",
    "\n",
    "        adresse_counts2 = df_dept['Adresse_Normalisee'].dropna().value_counts()\n",
    "        unique2 = list(adresse_counts2[adresse_counts2 == 1].index)\n",
    "        doublons2 = list(adresse_counts2[adresse_counts2 > 1].index)\n",
    "        final2 = unique2 + doublons2\n",
    "        set_final2 = set(final2)\n",
    "\n",
    "        commun = set_final.intersection(set_final2)\n",
    "\n",
    "        vf_dept['Surface Carrez du 1er lot'] = pd.to_numeric(\n",
    "            vf_dept['Surface Carrez du 1er lot'].astype(str).str.replace(',', '.'), errors='coerce'\n",
    "        )\n",
    "        df_dept['Surface_habitable_logement'] = pd.to_numeric(\n",
    "            df_dept['Surface_habitable_logement'].astype(str).str.replace(',', '.'), errors='coerce'\n",
    "        )\n",
    "\n",
    "        for adresse in commun:\n",
    "            dfsub = df_dept[df_dept['Adresse_Normalisee'] == adresse]\n",
    "            vfsub = vf_dept[vf_dept['Adresse_Normalisee'] == adresse]\n",
    "\n",
    "            for _, row2 in dfsub.iterrows():\n",
    "                best_match = None\n",
    "                best_value = -1\n",
    "\n",
    "                for _, row1 in vfsub.iterrows():\n",
    "                    surface1 = row1['Surface Carrez du 1er lot']\n",
    "                    surface2 = row2['Surface_habitable_logement']\n",
    "\n",
    "                    #si surfaces identiques on match direct\n",
    "                    if surface1 == surface2:\n",
    "                        best_match = row1\n",
    "                        break\n",
    "\n",
    "                    #ecart inf à 3%\n",
    "                    if abs(surface1 - surface2) / max(surface1, surface2) < 0.03:\n",
    "                        valeur_fonciere = pd.to_numeric(str(row1.get('Valeur fonciere', 0)).replace(',', '.'), errors='coerce')\n",
    "                        if valeur_fonciere > best_value:\n",
    "                            best_value = valeur_fonciere\n",
    "                            best_match = row1\n",
    "\n",
    "                if best_match is not None:\n",
    "                    merged.append({**row2.to_dict(), **best_match.to_dict()})\n",
    "\n",
    "    #df des résultats fusionnés\n",
    "    df = pd.DataFrame(merged)\n",
    "    return df\n",
    "\n",
    "#application fonction\n",
    "test4 = test_match4(vf, df)"
   ]
  },
  {
   "cell_type": "code",
   "execution_count": 126,
   "metadata": {},
   "outputs": [
    {
     "name": "stdout",
     "output_type": "stream",
     "text": [
      "74243\n"
     ]
    }
   ],
   "source": [
    "print(len(test4))"
   ]
  },
  {
   "cell_type": "code",
   "execution_count": 127,
   "metadata": {},
   "outputs": [],
   "source": [
    "result3 = test4.drop_duplicates(subset=['Date_réception_DPE', 'Adresse_Normalisee', 'Surface_habitable_logement', 'Valeur fonciere', 'N°_étage_appartement', 'Etiquette_DPE', \"Complément_d'adresse_logement\", \"Complément_d'adresse_bâtiment\", \"Date_établissement_DPE\"])"
   ]
  },
  {
   "cell_type": "code",
   "execution_count": 128,
   "metadata": {},
   "outputs": [
    {
     "name": "stdout",
     "output_type": "stream",
     "text": [
      "69752\n"
     ]
    }
   ],
   "source": [
    "print(len(result3))"
   ]
  },
  {
   "cell_type": "code",
   "execution_count": 129,
   "metadata": {},
   "outputs": [],
   "source": [
    "result3.to_csv(\"result3%.csv\", index=False)"
   ]
  },
  {
   "cell_type": "markdown",
   "metadata": {},
   "source": [
    "## TEST AUTRES ANNEES"
   ]
  },
  {
   "cell_type": "markdown",
   "metadata": {},
   "source": [
    "Il semble que nous ne disposions que des données à partir de 2021, nous pouvons tout de même vérifier que c'est bien le cas car les fichiers valeurs foncières s'étendent jusqu'à 2014."
   ]
  },
  {
   "cell_type": "code",
   "execution_count": 136,
   "metadata": {},
   "outputs": [],
   "source": [
    "df['Date_réception_DPE'] = pd.to_datetime(df['Date_réception_DPE'], errors='coerce')\n",
    "df2021 = df[df['Date_réception_DPE'].dt.year == 2021].copy()"
   ]
  },
  {
   "cell_type": "code",
   "execution_count": 137,
   "metadata": {},
   "outputs": [
    {
     "name": "stdout",
     "output_type": "stream",
     "text": [
      "677703\n"
     ]
    }
   ],
   "source": [
    "print(len(df2021))"
   ]
  },
  {
   "cell_type": "code",
   "execution_count": 138,
   "metadata": {},
   "outputs": [],
   "source": [
    "df2023= df[df['Date_réception_DPE'].dt.year == 2023].copy()"
   ]
  },
  {
   "cell_type": "code",
   "execution_count": 139,
   "metadata": {},
   "outputs": [
    {
     "name": "stdout",
     "output_type": "stream",
     "text": [
      "1438813\n"
     ]
    }
   ],
   "source": [
    "print(len(df2023))"
   ]
  },
  {
   "cell_type": "markdown",
   "metadata": {},
   "source": [
    "Nous allons donc pouvoir seulement compiler les données pour les années : 2021 et 2022 car nous n'avons pas les données valeurs foncières de 2023. "
   ]
  },
  {
   "cell_type": "markdown",
   "metadata": {},
   "source": [
    "### ANALYSE DES DONNEES COMMUNES ENTRE DF ET DF2 (LOGEMENTS EXISTANTS ET NEUFS)"
   ]
  },
  {
   "cell_type": "code",
   "execution_count": 13,
   "metadata": {},
   "outputs": [
    {
     "name": "stdout",
     "output_type": "stream",
     "text": [
      "Colonnes communes : ['Version_DPE', 'Code_postal_(BAN)', 'Code_INSEE_(BAN)', 'Date_fin_validité_DPE', 'Identifiant__BAN', 'N°_région_(BAN)', 'Date_réception_DPE', 'Nom_résidence', \"Complément_d'adresse_bâtiment\", \"Cage_d'escalier\", 'Date_établissement_DPE', 'Nom__commune_(Brut)', 'N°_voie_(BAN)', 'Etiquette_DPE', 'N°_département_(BAN)', 'Adresse_brute', 'Nom__commune_(BAN)', 'Score_BAN', 'Code_postal_(brut)', 'Adresse_(BAN)', 'Etiquette_GES', 'Nom__rue_(BAN)', 'Coordonnée_cartographique_X_(BAN)', 'Modèle_DPE', 'Statut_géocodage', 'Type_bâtiment', 'Coordonnée_cartographique_Y_(BAN)', 'Adresse_Normalisee', 'Surface_habitable_logement', \"Complément_d'adresse_logement\", 'N°_étage_appartement']\n",
      "\n",
      "Lignes en doublons pour les colonnes communes :\n",
      "Empty DataFrame\n",
      "Columns: [Version_DPE, Code_postal_(BAN), Code_INSEE_(BAN), Date_fin_validité_DPE, Identifiant__BAN, N°_région_(BAN), Date_réception_DPE, Nom_résidence, Complément_d'adresse_bâtiment, Cage_d'escalier, Date_établissement_DPE, Nom__commune_(Brut), N°_voie_(BAN), Etiquette_DPE, N°_département_(BAN), Adresse_brute, Nom__commune_(BAN), Score_BAN, Code_postal_(brut), Adresse_(BAN), Etiquette_GES, Nom__rue_(BAN), Coordonnée_cartographique_X_(BAN), Modèle_DPE, Statut_géocodage, Type_bâtiment, Coordonnée_cartographique_Y_(BAN), Adresse_Normalisee, Surface_habitable_logement, Complément_d'adresse_logement, N°_étage_appartement]\n",
      "Index: []\n",
      "\n",
      "[0 rows x 31 columns]\n"
     ]
    }
   ],
   "source": [
    "def trouver_doublons_colonnes_communes(df, df2):\n",
    "    #colonnes communes\n",
    "    colonnes_communes = list(set(df.columns).intersection(df2.columns))\n",
    "    print(f\"Colonnes communes : {colonnes_communes}\")\n",
    "    \n",
    "    #doublons parmi colonnes communes\n",
    "    doublons = pd.merge(df[colonnes_communes], df2[colonnes_communes], how='inner')\n",
    "    return doublons\n",
    "\n",
    "doublons = trouver_doublons_colonnes_communes(df, df2)\n",
    "\n",
    "print(\"\\nLignes en doublons pour les colonnes communes :\")\n",
    "print(doublons)"
   ]
  },
  {
   "cell_type": "markdown",
   "metadata": {},
   "source": [
    "Il n'y a pas de doublons entre df et df2 donc on peut merge les deux séparément avec vf puis les compiler. "
   ]
  },
  {
   "cell_type": "markdown",
   "metadata": {},
   "source": [
    "### Merge de df2 avec vf pour 2022"
   ]
  },
  {
   "cell_type": "code",
   "execution_count": 140,
   "metadata": {},
   "outputs": [],
   "source": [
    "df2['Date_réception_DPE'] = pd.to_datetime(df2['Date_réception_DPE'], errors='coerce')\n",
    "df2 = df2[df2['Date_réception_DPE'].dt.year == 2022].copy()"
   ]
  },
  {
   "cell_type": "code",
   "execution_count": 141,
   "metadata": {},
   "outputs": [],
   "source": [
    "vf = vf[vf['Code departement'].notna()]\n",
    "df2 = df2[df2['N°_département_(BAN)'].notna()]"
   ]
  },
  {
   "cell_type": "code",
   "execution_count": 142,
   "metadata": {},
   "outputs": [],
   "source": [
    "vf['Code departement'] = vf['Code departement'].astype(str)\n",
    "df2.loc[:, 'N°_département_(BAN)'] = df2['N°_département_(BAN)'].astype(str)"
   ]
  },
  {
   "cell_type": "markdown",
   "metadata": {},
   "source": [
    "### 5%"
   ]
  },
  {
   "cell_type": "code",
   "execution_count": 143,
   "metadata": {},
   "outputs": [
    {
     "name": "stdout",
     "output_type": "stream",
     "text": [
      "Traitement du département : 29\n",
      "Traitement du département : 69\n",
      "Traitement du département : 33\n",
      "Traitement du département : 83\n",
      "Traitement du département : 31\n",
      "Traitement du département : 13\n",
      "Traitement du département : 93\n",
      "Traitement du département : 92\n",
      "Traitement du département : 14\n",
      "Traitement du département : 81\n",
      "Traitement du département : 07\n",
      "Traitement du département : 30\n",
      "Traitement du département : 84\n",
      "Traitement du département : 85\n",
      "Traitement du département : 34\n",
      "Traitement du département : 63\n",
      "Traitement du département : 77\n",
      "Traitement du département : 66\n",
      "Traitement du département : 51\n",
      "Traitement du département : 57\n",
      "Traitement du département : 44\n",
      "Traitement du département : 91\n",
      "Traitement du département : 47\n",
      "Traitement du département : 64\n",
      "Traitement du département : 87\n",
      "Traitement du département : 88\n",
      "Traitement du département : 50\n",
      "Traitement du département : 38\n",
      "Traitement du département : 72\n",
      "Traitement du département : 74\n",
      "Traitement du département : 79\n",
      "Traitement du département : 35\n",
      "Traitement du département : 49\n",
      "Traitement du département : 82\n",
      "Traitement du département : 11\n",
      "Traitement du département : 40\n",
      "Traitement du département : 58\n",
      "Traitement du département : 59\n",
      "Traitement du département : 2A\n",
      "Traitement du département : 22\n",
      "Traitement du département : 68\n",
      "Traitement du département : 62\n",
      "Traitement du département : 95\n",
      "Traitement du département : 60\n",
      "Traitement du département : 06\n",
      "Traitement du département : 78\n",
      "Traitement du département : 21\n",
      "Traitement du département : 86\n",
      "Traitement du département : 24\n",
      "Traitement du département : 19\n",
      "Traitement du département : 67\n",
      "Traitement du département : 17\n",
      "Traitement du département : 36\n",
      "Traitement du département : 972\n",
      "Traitement du département : 76\n",
      "Traitement du département : 26\n",
      "Traitement du département : 56\n",
      "Traitement du département : 27\n",
      "Traitement du département : 42\n",
      "Traitement du département : 10\n",
      "Traitement du département : 25\n",
      "Traitement du département : 54\n",
      "Traitement du département : 89\n",
      "Traitement du département : 80\n",
      "Traitement du département : 01\n",
      "Traitement du département : 37\n",
      "Traitement du département : 94\n",
      "Traitement du département : 2B\n",
      "Traitement du département : 04\n",
      "Traitement du département : 12\n",
      "Traitement du département : 43\n",
      "Traitement du département : 45\n",
      "Traitement du département : 41\n",
      "Traitement du département : 16\n",
      "Traitement du département : 46\n",
      "Traitement du département : 18\n",
      "Traitement du département : 05\n",
      "Traitement du département : 75\n",
      "Traitement du département : 28\n",
      "Traitement du département : 73\n",
      "Traitement du département : 32\n",
      "Traitement du département : 09\n",
      "Traitement du département : 55\n",
      "Traitement du département : 71\n",
      "Traitement du département : 15\n",
      "Traitement du département : 65\n",
      "Traitement du département : 39\n",
      "Traitement du département : 48\n",
      "Traitement du département : 02\n",
      "Traitement du département : 974\n",
      "Traitement du département : 03\n",
      "Traitement du département : 90\n",
      "Traitement du département : 70\n",
      "Traitement du département : 53\n",
      "Traitement du département : 23\n",
      "Traitement du département : 08\n",
      "Traitement du département : 61\n",
      "Traitement du département : 52\n",
      "Traitement du département : 971\n",
      "Traitement du département : 976\n",
      "Traitement du département : 973\n"
     ]
    }
   ],
   "source": [
    "dfneuf5 = test_match2(vf, df2)"
   ]
  },
  {
   "cell_type": "code",
   "execution_count": 144,
   "metadata": {},
   "outputs": [
    {
     "name": "stdout",
     "output_type": "stream",
     "text": [
      "3073\n"
     ]
    }
   ],
   "source": [
    "print(len(dfneuf5))"
   ]
  },
  {
   "cell_type": "code",
   "execution_count": 145,
   "metadata": {},
   "outputs": [],
   "source": [
    "dfneuf5 = dfneuf5.drop_duplicates(subset=['Date_réception_DPE', 'Adresse_Normalisee', 'Surface_habitable_logement', 'Valeur fonciere', 'N°_étage_appartement', 'Etiquette_DPE', \"Complément_d'adresse_logement\", \"Complément_d'adresse_bâtiment\", \"Date_établissement_DPE\"])"
   ]
  },
  {
   "cell_type": "code",
   "execution_count": 146,
   "metadata": {},
   "outputs": [
    {
     "name": "stdout",
     "output_type": "stream",
     "text": [
      "2098\n"
     ]
    }
   ],
   "source": [
    "print(len(dfneuf5))"
   ]
  },
  {
   "cell_type": "code",
   "execution_count": 147,
   "metadata": {},
   "outputs": [
    {
     "name": "stderr",
     "output_type": "stream",
     "text": [
      "/var/folders/bf/ymcp1z4s7n77n5bhz3q_hgqc0000gn/T/ipykernel_1211/4222365088.py:1: DtypeWarning: Columns (14,15,30,52,58,60,62,65,67,75) have mixed types. Specify dtype option on import or set low_memory=False.\n",
      "  dfexistant5 = pd.read_csv(\"result5%.csv\")\n"
     ]
    }
   ],
   "source": [
    "dfexistant5 = pd.read_csv(\"result5%.csv\")"
   ]
  },
  {
   "cell_type": "markdown",
   "metadata": {},
   "source": [
    "### Compilation des deux "
   ]
  },
  {
   "cell_type": "code",
   "execution_count": 19,
   "metadata": {},
   "outputs": [],
   "source": [
    "# Compiler les deux DataFrames\n",
    "def compiler_dataframes(df1, df2):\n",
    "    #concatène les deux DataFrames\n",
    "    df_compilé = pd.concat([df1, df2], ignore_index=True)\n",
    "    #supprime doublons\n",
    "    df_compilé = df_compilé.drop_duplicates()\n",
    "    return df_compilé"
   ]
  },
  {
   "cell_type": "code",
   "execution_count": 149,
   "metadata": {},
   "outputs": [],
   "source": [
    "df_compilé = compiler_dataframes(dfexistant5, dfneuf5)"
   ]
  },
  {
   "cell_type": "code",
   "execution_count": 150,
   "metadata": {},
   "outputs": [],
   "source": [
    "df_compilé.to_csv(\"result5%_2022_compilé.csv\", index=False)"
   ]
  },
  {
   "cell_type": "code",
   "execution_count": 151,
   "metadata": {},
   "outputs": [
    {
     "name": "stdout",
     "output_type": "stream",
     "text": [
      "79771\n"
     ]
    }
   ],
   "source": [
    "print(len(df_compilé))"
   ]
  },
  {
   "cell_type": "markdown",
   "metadata": {},
   "source": [
    "# 2021"
   ]
  },
  {
   "cell_type": "code",
   "execution_count": 4,
   "metadata": {},
   "outputs": [
    {
     "data": {
      "text/plain": [
       "4537525"
      ]
     },
     "execution_count": 4,
     "metadata": {},
     "output_type": "execute_result"
    }
   ],
   "source": [
    "df = pd.read_csv(\n",
    "    \"/Users/noelinecasteil/Documents/statapp/DPE/DPE_ADEME/dpe-v2-logements-existants.csv\",\n",
    "    sep=\",\",  # Séparateur CSV\n",
    "    encoding=\"utf-8\",\n",
    "    low_memory=False)\n",
    "\n",
    "df['Date_réception_DPE'].count()"
   ]
  },
  {
   "cell_type": "code",
   "execution_count": 5,
   "metadata": {},
   "outputs": [],
   "source": [
    "vf2021 = pd.read_csv(\n",
    "    \"/Users/noelinecasteil/Documents/statapp/ValeursFoncieres/valeursfoncieres-2021.txt\",\n",
    "    sep=\"|\",  \n",
    "    encoding=\"utf-8\",\n",
    "    low_memory=False\n",
    ")"
   ]
  },
  {
   "cell_type": "code",
   "execution_count": 6,
   "metadata": {},
   "outputs": [],
   "source": [
    "# Convertir explicitement toutes les colonnes en chaînes\n",
    "vf2021['Adresse'] = vf2021['No voie'].apply(lambda x: str(int(x)) if pd.notna(x) else '').astype(str) + \" \" + \\\n",
    "                vf2021['Type de voie'].fillna('').astype(str) + \" \" + \\\n",
    "                vf2021['Voie'].fillna('').astype(str) + \", \" + \\\n",
    "                vf2021['Code postal'].apply(lambda x: str(int(x)) if pd.notna(x) else '').astype(str) + \" \" + \\\n",
    "                vf2021['Commune'].fillna('').astype(str)\n",
    "\n",
    "vf2021['Adresse'] = vf2021['Adresse'].str.strip().replace(r'^\\s*$', None, regex=True)  # Supprime les adresses vides"
   ]
  },
  {
   "cell_type": "code",
   "execution_count": 7,
   "metadata": {},
   "outputs": [],
   "source": [
    "df['Date_réception_DPE'] = pd.to_datetime(df['Date_réception_DPE'], errors='coerce')\n",
    "df2021 = df[df['Date_réception_DPE'].dt.year == 2021].copy()"
   ]
  },
  {
   "cell_type": "code",
   "execution_count": 8,
   "metadata": {},
   "outputs": [],
   "source": [
    "vf2021 = vf2021[vf2021['Code departement'].notna()]\n",
    "df2021 = df2021[df2021['N°_département_(BAN)'].notna()]"
   ]
  },
  {
   "cell_type": "code",
   "execution_count": 9,
   "metadata": {},
   "outputs": [],
   "source": [
    "vf2021['Code departement'] = vf2021['Code departement'].astype(str)\n",
    "df2021.loc[:, 'N°_département_(BAN)'] = df2021['N°_département_(BAN)'].astype(str)"
   ]
  },
  {
   "cell_type": "markdown",
   "metadata": {},
   "source": [
    "MATCHING 5%"
   ]
  },
  {
   "cell_type": "code",
   "execution_count": 15,
   "metadata": {},
   "outputs": [
    {
     "name": "stdout",
     "output_type": "stream",
     "text": [
      "Traitement du département : 25\n",
      "Traitement du département : 44\n",
      "Traitement du département : 36\n",
      "Traitement du département : 29\n",
      "Traitement du département : 43\n",
      "Traitement du département : 06\n",
      "Traitement du département : 88\n",
      "Traitement du département : 78\n",
      "Traitement du département : 14\n",
      "Traitement du département : 80\n",
      "Traitement du département : 54\n",
      "Traitement du département : 82\n",
      "Traitement du département : 49\n",
      "Traitement du département : 86\n",
      "Traitement du département : 52\n",
      "Traitement du département : 64\n",
      "Traitement du département : 59\n",
      "Traitement du département : 77\n",
      "Traitement du département : 72\n",
      "Traitement du département : 67\n",
      "Traitement du département : 60\n",
      "Traitement du département : 89\n",
      "Traitement du département : 41\n",
      "Traitement du département : 30\n",
      "Traitement du département : 69\n",
      "Traitement du département : 81\n",
      "Traitement du département : 85\n",
      "Traitement du département : 57\n",
      "Traitement du département : 2B\n",
      "Traitement du département : 76\n",
      "Traitement du département : 35\n",
      "Traitement du département : 56\n",
      "Traitement du département : 40\n",
      "Traitement du département : 27\n",
      "Traitement du département : 68\n",
      "Traitement du département : 47\n",
      "Traitement du département : 79\n",
      "Traitement du département : 73\n",
      "Traitement du département : 62\n",
      "Traitement du département : 58\n",
      "Traitement du département : 22\n",
      "Traitement du département : 08\n",
      "Traitement du département : 63\n",
      "Traitement du département : 42\n",
      "Traitement du département : 74\n",
      "Traitement du département : 38\n",
      "Traitement du département : 65\n",
      "Traitement du département : 84\n",
      "Traitement du département : 26\n",
      "Traitement du département : 31\n",
      "Traitement du département : 83\n",
      "Traitement du département : 46\n",
      "Traitement du département : 24\n",
      "Traitement du département : 28\n",
      "Traitement du département : 11\n",
      "Traitement du département : 92\n",
      "Traitement du département : 87\n",
      "Traitement du département : 13\n",
      "Traitement du département : 51\n",
      "Traitement du département : 50\n",
      "Traitement du département : 75\n",
      "Traitement du département : 04\n",
      "Traitement du département : 91\n",
      "Traitement du département : 01\n",
      "Traitement du département : 71\n",
      "Traitement du département : 05\n",
      "Traitement du département : 21\n",
      "Traitement du département : 45\n",
      "Traitement du département : 93\n",
      "Traitement du département : 32\n",
      "Traitement du département : 61\n",
      "Traitement du département : 17\n",
      "Traitement du département : 55\n",
      "Traitement du département : 95\n",
      "Traitement du département : 33\n",
      "Traitement du département : 39\n",
      "Traitement du département : 19\n",
      "Traitement du département : 37\n",
      "Traitement du département : 53\n",
      "Traitement du département : 70\n",
      "Traitement du département : 94\n",
      "Traitement du département : 90\n",
      "Traitement du département : 66\n",
      "Traitement du département : 34\n",
      "Traitement du département : 16\n",
      "Traitement du département : 03\n",
      "Traitement du département : 18\n",
      "Traitement du département : 02\n",
      "Traitement du département : 07\n",
      "Traitement du département : 15\n",
      "Traitement du département : 09\n",
      "Traitement du département : 12\n",
      "Traitement du département : 23\n",
      "Traitement du département : 10\n",
      "Traitement du département : 972\n",
      "Traitement du département : 48\n",
      "Traitement du département : 2A\n",
      "Traitement du département : 974\n",
      "Traitement du département : 973\n",
      "Traitement du département : 976\n",
      "Traitement du département : 971\n"
     ]
    }
   ],
   "source": [
    "dfexistant2021 = test_match2(vf2021, df2021)"
   ]
  },
  {
   "cell_type": "code",
   "execution_count": 16,
   "metadata": {},
   "outputs": [],
   "source": [
    "dfexistant2021 = dfexistant2021.drop_duplicates(subset=['Date_réception_DPE', 'Adresse_Normalisee', 'Surface_habitable_logement', 'Valeur fonciere', 'N°_étage_appartement', 'Etiquette_DPE', \"Complément_d'adresse_logement\", \"Complément_d'adresse_bâtiment\", \"Date_établissement_DPE\"])"
   ]
  },
  {
   "cell_type": "code",
   "execution_count": 18,
   "metadata": {},
   "outputs": [
    {
     "name": "stdout",
     "output_type": "stream",
     "text": [
      "21411\n"
     ]
    }
   ],
   "source": [
    "print(len(dfexistant2021))"
   ]
  },
  {
   "cell_type": "markdown",
   "metadata": {},
   "source": [
    "LOGEMENTS NEUFS"
   ]
  },
  {
   "cell_type": "code",
   "execution_count": 165,
   "metadata": {},
   "outputs": [],
   "source": [
    "df2['Date_réception_DPE'] = pd.to_datetime(df2['Date_réception_DPE'], errors='coerce')\n",
    "df22021 = df2[df2['Date_réception_DPE'].dt.year == 2021].copy()"
   ]
  },
  {
   "cell_type": "code",
   "execution_count": 166,
   "metadata": {},
   "outputs": [],
   "source": [
    "df22021 = df22021[df22021['N°_département_(BAN)'].notna()]"
   ]
  },
  {
   "cell_type": "code",
   "execution_count": 167,
   "metadata": {},
   "outputs": [],
   "source": [
    "df22021.loc[:, 'N°_département_(BAN)'] = df22021['N°_département_(BAN)'].astype(str)"
   ]
  },
  {
   "cell_type": "markdown",
   "metadata": {},
   "source": [
    "DF NEUF à 5% "
   ]
  },
  {
   "cell_type": "code",
   "execution_count": 168,
   "metadata": {},
   "outputs": [
    {
     "name": "stdout",
     "output_type": "stream",
     "text": [
      "Traitement du département : 33\n",
      "Traitement du département : 91\n",
      "Traitement du département : 64\n",
      "Traitement du département : 57\n",
      "Traitement du département : 63\n",
      "Traitement du département : 80\n",
      "Traitement du département : 74\n",
      "Traitement du département : 95\n",
      "Traitement du département : 26\n",
      "Traitement du département : 37\n",
      "Traitement du département : 77\n",
      "Traitement du département : 76\n",
      "Traitement du département : 38\n",
      "Traitement du département : 35\n",
      "Traitement du département : 92\n",
      "Traitement du département : 56\n",
      "Traitement du département : 31\n",
      "Traitement du département : 94\n",
      "Traitement du département : 89\n",
      "Traitement du département : 69\n",
      "Traitement du département : 01\n",
      "Traitement du département : 42\n",
      "Traitement du département : 44\n",
      "Traitement du département : 93\n",
      "Traitement du département : 21\n",
      "Traitement du département : 45\n",
      "Traitement du département : 17\n",
      "Traitement du département : 68\n",
      "Traitement du département : 58\n",
      "Traitement du département : 73\n",
      "Traitement du département : 13\n",
      "Traitement du département : 14\n",
      "Traitement du département : 62\n",
      "Traitement du département : 15\n",
      "Traitement du département : 61\n",
      "Traitement du département : 34\n",
      "Traitement du département : 59\n",
      "Traitement du département : 67\n",
      "Traitement du département : 49\n",
      "Traitement du département : 78\n",
      "Traitement du département : 40\n",
      "Traitement du département : 60\n",
      "Traitement du département : 51\n",
      "Traitement du département : 29\n",
      "Traitement du département : 85\n",
      "Traitement du département : 16\n",
      "Traitement du département : 03\n",
      "Traitement du département : 06\n",
      "Traitement du département : 10\n",
      "Traitement du département : 47\n",
      "Traitement du département : 25\n",
      "Traitement du département : 75\n",
      "Traitement du département : 05\n",
      "Traitement du département : 30\n",
      "Traitement du département : 87\n",
      "Traitement du département : 81\n",
      "Traitement du département : 83\n",
      "Traitement du département : 2A\n",
      "Traitement du département : 24\n",
      "Traitement du département : 22\n",
      "Traitement du département : 18\n",
      "Traitement du département : 54\n",
      "Traitement du département : 27\n",
      "Traitement du département : 84\n",
      "Traitement du département : 50\n",
      "Traitement du département : 32\n",
      "Traitement du département : 39\n",
      "Traitement du département : 28\n",
      "Traitement du département : 19\n",
      "Traitement du département : 53\n",
      "Traitement du département : 07\n",
      "Traitement du département : 90\n",
      "Traitement du département : 70\n",
      "Traitement du département : 36\n",
      "Traitement du département : 43\n",
      "Traitement du département : 12\n",
      "Traitement du département : 02\n",
      "Traitement du département : 79\n",
      "Traitement du département : 41\n",
      "Traitement du département : 972\n",
      "Traitement du département : 72\n",
      "Traitement du département : 65\n",
      "Traitement du département : 71\n",
      "Traitement du département : 04\n",
      "Traitement du département : 09\n",
      "Traitement du département : 86\n",
      "Traitement du département : 66\n",
      "Traitement du département : 08\n",
      "Traitement du département : 11\n",
      "Traitement du département : 2B\n",
      "Traitement du département : 82\n",
      "Traitement du département : 46\n",
      "Traitement du département : 88\n",
      "Traitement du département : 48\n",
      "Traitement du département : 55\n",
      "Traitement du département : 974\n",
      "Traitement du département : 52\n",
      "Traitement du département : 971\n",
      "Traitement du département : 23\n"
     ]
    }
   ],
   "source": [
    "dfneuf2021 = test_match2(vf2021, df22021)"
   ]
  },
  {
   "cell_type": "code",
   "execution_count": 169,
   "metadata": {},
   "outputs": [],
   "source": [
    "dfneuf2021 = dfneuf2021.drop_duplicates(subset=['Date_réception_DPE', 'Adresse_Normalisee', 'Surface_habitable_logement', 'Valeur fonciere', 'N°_étage_appartement', 'Etiquette_DPE', \"Complément_d'adresse_logement\", \"Complément_d'adresse_bâtiment\", \"Date_établissement_DPE\"])"
   ]
  },
  {
   "cell_type": "code",
   "execution_count": 170,
   "metadata": {},
   "outputs": [
    {
     "name": "stdout",
     "output_type": "stream",
     "text": [
      "733\n"
     ]
    }
   ],
   "source": [
    "print(len(dfneuf2021))"
   ]
  },
  {
   "cell_type": "code",
   "execution_count": 172,
   "metadata": {},
   "outputs": [],
   "source": [
    "df2021compile = compiler_dataframes(dfexistant2021, dfneuf2021)"
   ]
  },
  {
   "cell_type": "code",
   "execution_count": 173,
   "metadata": {},
   "outputs": [],
   "source": [
    "df2021compile.to_csv(\"result5%_2021_compilé.csv\", index=False)"
   ]
  },
  {
   "cell_type": "markdown",
   "metadata": {},
   "source": [
    "# DATA FRAME FINAL POUR 5%"
   ]
  },
  {
   "cell_type": "code",
   "execution_count": 174,
   "metadata": {},
   "outputs": [
    {
     "name": "stderr",
     "output_type": "stream",
     "text": [
      "/var/folders/bf/ymcp1z4s7n77n5bhz3q_hgqc0000gn/T/ipykernel_1211/1554524822.py:1: DtypeWarning: Columns (14,15,30,52,58,60,75) have mixed types. Specify dtype option on import or set low_memory=False.\n",
      "  df1 = pd.read_csv(\"result5%_2021_compilé.csv\")\n",
      "/var/folders/bf/ymcp1z4s7n77n5bhz3q_hgqc0000gn/T/ipykernel_1211/1554524822.py:2: DtypeWarning: Columns (14,15,30,52,58,60,62,65,67,75) have mixed types. Specify dtype option on import or set low_memory=False.\n",
      "  df2 = pd.read_csv(\"result5%_2022_compilé.csv\")\n"
     ]
    }
   ],
   "source": [
    "df1 = pd.read_csv(\"result5%_2021_compilé.csv\")\n",
    "df2 = pd.read_csv(\"result5%_2022_compilé.csv\")"
   ]
  },
  {
   "cell_type": "code",
   "execution_count": 175,
   "metadata": {},
   "outputs": [],
   "source": [
    "dffinal5 = compiler_dataframes(df1, df2)"
   ]
  },
  {
   "cell_type": "code",
   "execution_count": 176,
   "metadata": {},
   "outputs": [],
   "source": [
    "dffinal5.to_csv(\"dataframefinal_5%.csv\", index=False)"
   ]
  },
  {
   "cell_type": "markdown",
   "metadata": {},
   "source": [
    "## TEST AVEC SURFACE REELLE BATIMENT"
   ]
  },
  {
   "cell_type": "markdown",
   "metadata": {},
   "source": [
    "# 2022"
   ]
  },
  {
   "cell_type": "code",
   "execution_count": 18,
   "metadata": {},
   "outputs": [],
   "source": [
    "def test_matchbati(vf, df):\n",
    "    merged = []\n",
    "\n",
    "\n",
    "    #boucle par département\n",
    "    for department in df['N°_département_(BAN)'].unique():  \n",
    "        print(f\"Traitement du département : {department}\")\n",
    "        \n",
    "        #filtre\n",
    "        vf_dept = vf[vf['Code departement']==department].copy()\n",
    "        df_dept = df[df['N°_département_(BAN)']==department].copy()\n",
    "\n",
    "        #normalisation adresses\n",
    "        vf_dept['Adresse'] = vf_dept['Adresse'].str.strip().str.replace(r'\\s+', ' ', regex=True)\n",
    "        vf_dept['Adresse_Normalisee'] = vf_dept.apply(lambda row: normalize_vf_address(row['Adresse'], row['Code departement']), axis=1)\n",
    "        df_dept['Adresse_Normalisee'] = df_dept['Adresse_(BAN)'].apply(normalize_address)\n",
    "\n",
    "        adresse_counts = vf_dept['Adresse_Normalisee'].dropna().value_counts()\n",
    "        unique1 = list(adresse_counts[adresse_counts == 1].index)\n",
    "        doublons1 = list(adresse_counts[adresse_counts > 1].index)\n",
    "        final = unique1 + doublons1\n",
    "        set_final = set(final)\n",
    "\n",
    "        adresse_counts2 = df_dept['Adresse_Normalisee'].dropna().value_counts()\n",
    "        unique2 = list(adresse_counts2[adresse_counts2 == 1].index)\n",
    "        doublons2 = list(adresse_counts2[adresse_counts2 > 1].index)\n",
    "        final2 = unique2 + doublons2\n",
    "        set_final2 = set(final2)\n",
    "\n",
    "        commun = set_final.intersection(set_final2)\n",
    "\n",
    "        vf_dept['Surface reelle bati'] = pd.to_numeric(vf_dept['Surface reelle bati'], errors='coerce')\n",
    "        vf_dept = vf_dept[vf_dept['Surface reelle bati'].notna() & (vf_dept['Surface reelle bati'] > 0)]\n",
    "        df_dept['Surface_habitable_logement'] = pd.to_numeric(\n",
    "            df_dept['Surface_habitable_logement'].astype(str).str.replace(',', '.'), errors='coerce'\n",
    "        )\n",
    "\n",
    "        for adresse in commun:\n",
    "            dfsub = df_dept[df_dept['Adresse_Normalisee'] == adresse]\n",
    "            vfsub = vf_dept[vf_dept['Adresse_Normalisee'] == adresse]\n",
    "\n",
    "            for _, row2 in dfsub.iterrows():\n",
    "                best_match = None\n",
    "                best_value = -1\n",
    "\n",
    "                for _, row1 in vfsub.iterrows():\n",
    "                    surface1 = row1['Surface reelle bati']\n",
    "                    surface2 = row2['Surface_habitable_logement']\n",
    "\n",
    "                    #si surfaces identiques on match direct\n",
    "                    if surface1 == surface2:\n",
    "                        best_match = row1\n",
    "                        break\n",
    "\n",
    "                    #ecart inf à 5%\n",
    "                    if abs(surface1 - surface2) / max(surface1, surface2) < 0.05:\n",
    "                        valeur_fonciere = pd.to_numeric(str(row1.get('Valeur fonciere', 0)).replace(',', '.'), errors='coerce')\n",
    "                        if valeur_fonciere > best_value:\n",
    "                            best_value = valeur_fonciere\n",
    "                            best_match = row1\n",
    "\n",
    "                if best_match is not None:\n",
    "                    merged.append({**row2.to_dict(), **best_match.to_dict()})\n",
    "\n",
    "    #df des résultats fusionnés\n",
    "    df = pd.DataFrame(merged)\n",
    "    return df\n"
   ]
  },
  {
   "cell_type": "code",
   "execution_count": 19,
   "metadata": {},
   "outputs": [
    {
     "name": "stdout",
     "output_type": "stream",
     "text": [
      "Traitement du département : 13\n",
      "Traitement du département : 92\n",
      "Traitement du département : 69\n",
      "Traitement du département : 03\n",
      "Traitement du département : 56\n",
      "Traitement du département : 75\n",
      "Traitement du département : 29\n",
      "Traitement du département : 91\n",
      "Traitement du département : 62\n",
      "Traitement du département : 21\n",
      "Traitement du département : 11\n",
      "Traitement du département : 02\n",
      "Traitement du département : 59\n",
      "Traitement du département : 94\n",
      "Traitement du département : 44\n",
      "Traitement du département : 50\n",
      "Traitement du département : 37\n",
      "Traitement du département : 81\n",
      "Traitement du département : 67\n",
      "Traitement du département : 93\n",
      "Traitement du département : 83\n",
      "Traitement du département : 63\n",
      "Traitement du département : 95\n",
      "Traitement du département : 76\n",
      "Traitement du département : 33\n",
      "Traitement du département : 78\n",
      "Traitement du département : 38\n",
      "Traitement du département : 51\n",
      "Traitement du département : 57\n",
      "Traitement du département : 77\n",
      "Traitement du département : 35\n",
      "Traitement du département : 54\n",
      "Traitement du département : 80\n",
      "Traitement du département : 36\n",
      "Traitement du département : 73\n",
      "Traitement du département : 31\n",
      "Traitement du département : 49\n",
      "Traitement du département : 60\n",
      "Traitement du département : 45\n",
      "Traitement du département : 14\n",
      "Traitement du département : 74\n",
      "Traitement du département : 41\n",
      "Traitement du département : 28\n",
      "Traitement du département : 10\n",
      "Traitement du département : 30\n",
      "Traitement du département : 58\n",
      "Traitement du département : 34\n",
      "Traitement du département : 12\n",
      "Traitement du département : 64\n",
      "Traitement du département : 55\n",
      "Traitement du département : 84\n",
      "Traitement du département : 24\n",
      "Traitement du département : 61\n",
      "Traitement du département : 27\n",
      "Traitement du département : 47\n",
      "Traitement du département : 89\n",
      "Traitement du département : 85\n",
      "Traitement du département : 87\n",
      "Traitement du département : 17\n",
      "Traitement du département : 06\n",
      "Traitement du département : 16\n",
      "Traitement du département : 07\n",
      "Traitement du département : 42\n",
      "Traitement du département : 72\n",
      "Traitement du département : 79\n",
      "Traitement du département : 2B\n",
      "Traitement du département : 15\n",
      "Traitement du département : 25\n",
      "Traitement du département : 04\n",
      "Traitement du département : 23\n",
      "Traitement du département : 01\n",
      "Traitement du département : 66\n",
      "Traitement du département : 68\n",
      "Traitement du département : 53\n",
      "Traitement du département : 26\n",
      "Traitement du département : 05\n",
      "Traitement du département : 08\n",
      "Traitement du département : 18\n",
      "Traitement du département : 22\n",
      "Traitement du département : 40\n",
      "Traitement du département : 32\n",
      "Traitement du département : 88\n",
      "Traitement du département : 52\n",
      "Traitement du département : 43\n",
      "Traitement du département : 19\n",
      "Traitement du département : 71\n",
      "Traitement du département : 90\n",
      "Traitement du département : 86\n",
      "Traitement du département : 39\n",
      "Traitement du département : 65\n",
      "Traitement du département : 82\n",
      "Traitement du département : 09\n",
      "Traitement du département : 46\n",
      "Traitement du département : 48\n",
      "Traitement du département : 70\n",
      "Traitement du département : 972\n",
      "Traitement du département : 974\n",
      "Traitement du département : 2A\n",
      "Traitement du département : 971\n",
      "Traitement du département : 976\n",
      "Traitement du département : 973\n",
      "Traitement du département : 988\n"
     ]
    }
   ],
   "source": [
    "testbati = test_matchbati(vf, df)"
   ]
  },
  {
   "cell_type": "code",
   "execution_count": 20,
   "metadata": {},
   "outputs": [
    {
     "name": "stdout",
     "output_type": "stream",
     "text": [
      "151101\n"
     ]
    }
   ],
   "source": [
    "print(len(testbati))"
   ]
  },
  {
   "cell_type": "code",
   "execution_count": 22,
   "metadata": {},
   "outputs": [],
   "source": [
    "resultsurfacebati5 = testbati.drop_duplicates(subset=['Date_réception_DPE', 'Adresse_Normalisee', 'Surface_habitable_logement', 'Valeur fonciere', 'N°_étage_appartement', 'Etiquette_DPE', \"Complément_d'adresse_logement\", \"Complément_d'adresse_bâtiment\", \"Date_établissement_DPE\"])"
   ]
  },
  {
   "cell_type": "code",
   "execution_count": 23,
   "metadata": {},
   "outputs": [
    {
     "name": "stdout",
     "output_type": "stream",
     "text": [
      "142926\n"
     ]
    }
   ],
   "source": [
    "print(len(resultsurfacebati5))"
   ]
  },
  {
   "cell_type": "markdown",
   "metadata": {},
   "source": [
    "# 2021"
   ]
  },
  {
   "cell_type": "code",
   "execution_count": 33,
   "metadata": {},
   "outputs": [],
   "source": [
    "vf2021 = pd.read_csv(\n",
    "    \"/Users/noelinecasteil/Documents/statapp/ValeursFoncieres/valeursfoncieres-2021.txt\",\n",
    "    sep=\"|\",  \n",
    "    encoding=\"utf-8\",\n",
    "    low_memory=False\n",
    ")"
   ]
  },
  {
   "cell_type": "code",
   "execution_count": 34,
   "metadata": {},
   "outputs": [],
   "source": [
    "df = pd.read_csv(\n",
    "    \"/Users/noelinecasteil/Documents/statapp/DPE/DPE_ADEME/dpe-v2-logements-existants.csv\",\n",
    "    sep=\",\",  # Séparateur CSV\n",
    "    encoding=\"utf-8\",\n",
    "    low_memory=False)"
   ]
  },
  {
   "cell_type": "code",
   "execution_count": 35,
   "metadata": {},
   "outputs": [],
   "source": [
    "# Convertir explicitement toutes les colonnes en chaînes\n",
    "vf2021['Adresse'] = vf2021['No voie'].apply(lambda x: str(int(x)) if pd.notna(x) else '').astype(str) + \" \" + \\\n",
    "                vf2021['Type de voie'].fillna('').astype(str) + \" \" + \\\n",
    "                vf2021['Voie'].fillna('').astype(str) + \", \" + \\\n",
    "                vf2021['Code postal'].apply(lambda x: str(int(x)) if pd.notna(x) else '').astype(str) + \" \" + \\\n",
    "                vf2021['Commune'].fillna('').astype(str)\n",
    "\n",
    "vf2021['Adresse'] = vf2021['Adresse'].str.strip().replace(r'^\\s*$', None, regex=True)  # Supprime les adresses vides"
   ]
  },
  {
   "cell_type": "code",
   "execution_count": 36,
   "metadata": {},
   "outputs": [],
   "source": [
    "df['Date_réception_DPE'] = pd.to_datetime(df['Date_réception_DPE'], errors='coerce')\n",
    "df2021 = df[df['Date_réception_DPE'].dt.year == 2021].copy()"
   ]
  },
  {
   "cell_type": "code",
   "execution_count": 37,
   "metadata": {},
   "outputs": [],
   "source": [
    "vf2021 = vf2021[vf2021['Code departement'].notna()]\n",
    "df2021 = df2021[df2021['N°_département_(BAN)'].notna()]"
   ]
  },
  {
   "cell_type": "code",
   "execution_count": 38,
   "metadata": {},
   "outputs": [],
   "source": [
    "vf2021['Code departement'] = vf2021['Code departement'].astype(str)\n",
    "df2021.loc[:, 'N°_département_(BAN)'] = df2021['N°_département_(BAN)'].astype(str)"
   ]
  },
  {
   "cell_type": "code",
   "execution_count": 39,
   "metadata": {},
   "outputs": [
    {
     "name": "stdout",
     "output_type": "stream",
     "text": [
      "Traitement du département : 25\n",
      "Traitement du département : 44\n",
      "Traitement du département : 36\n",
      "Traitement du département : 29\n",
      "Traitement du département : 43\n",
      "Traitement du département : 06\n",
      "Traitement du département : 88\n",
      "Traitement du département : 78\n",
      "Traitement du département : 14\n",
      "Traitement du département : 80\n",
      "Traitement du département : 54\n",
      "Traitement du département : 82\n",
      "Traitement du département : 49\n",
      "Traitement du département : 86\n",
      "Traitement du département : 52\n",
      "Traitement du département : 64\n",
      "Traitement du département : 59\n",
      "Traitement du département : 77\n",
      "Traitement du département : 72\n",
      "Traitement du département : 67\n",
      "Traitement du département : 60\n",
      "Traitement du département : 89\n",
      "Traitement du département : 41\n",
      "Traitement du département : 30\n",
      "Traitement du département : 69\n",
      "Traitement du département : 81\n",
      "Traitement du département : 85\n",
      "Traitement du département : 57\n",
      "Traitement du département : 2B\n",
      "Traitement du département : 76\n",
      "Traitement du département : 35\n",
      "Traitement du département : 56\n",
      "Traitement du département : 40\n",
      "Traitement du département : 27\n",
      "Traitement du département : 68\n",
      "Traitement du département : 47\n",
      "Traitement du département : 79\n",
      "Traitement du département : 73\n",
      "Traitement du département : 62\n",
      "Traitement du département : 58\n",
      "Traitement du département : 22\n",
      "Traitement du département : 08\n",
      "Traitement du département : 63\n",
      "Traitement du département : 42\n",
      "Traitement du département : 74\n",
      "Traitement du département : 38\n",
      "Traitement du département : 65\n",
      "Traitement du département : 84\n",
      "Traitement du département : 26\n",
      "Traitement du département : 31\n",
      "Traitement du département : 83\n",
      "Traitement du département : 46\n",
      "Traitement du département : 24\n",
      "Traitement du département : 28\n",
      "Traitement du département : 11\n",
      "Traitement du département : 92\n",
      "Traitement du département : 87\n",
      "Traitement du département : 13\n",
      "Traitement du département : 51\n",
      "Traitement du département : 50\n",
      "Traitement du département : 75\n",
      "Traitement du département : 04\n",
      "Traitement du département : 91\n",
      "Traitement du département : 01\n",
      "Traitement du département : 71\n",
      "Traitement du département : 05\n",
      "Traitement du département : 21\n",
      "Traitement du département : 45\n",
      "Traitement du département : 93\n",
      "Traitement du département : 32\n",
      "Traitement du département : 61\n",
      "Traitement du département : 17\n",
      "Traitement du département : 55\n",
      "Traitement du département : 95\n",
      "Traitement du département : 33\n",
      "Traitement du département : 39\n",
      "Traitement du département : 19\n",
      "Traitement du département : 37\n",
      "Traitement du département : 53\n",
      "Traitement du département : 70\n",
      "Traitement du département : 94\n",
      "Traitement du département : 90\n",
      "Traitement du département : 66\n",
      "Traitement du département : 34\n",
      "Traitement du département : 16\n",
      "Traitement du département : 03\n",
      "Traitement du département : 18\n",
      "Traitement du département : 02\n",
      "Traitement du département : 07\n",
      "Traitement du département : 15\n",
      "Traitement du département : 09\n",
      "Traitement du département : 12\n",
      "Traitement du département : 23\n",
      "Traitement du département : 10\n",
      "Traitement du département : 972\n",
      "Traitement du département : 48\n",
      "Traitement du département : 2A\n",
      "Traitement du département : 974\n",
      "Traitement du département : 973\n",
      "Traitement du département : 976\n",
      "Traitement du département : 971\n"
     ]
    }
   ],
   "source": [
    "testbati2021 = test_matchbati(vf2021, df2021)"
   ]
  },
  {
   "cell_type": "code",
   "execution_count": 40,
   "metadata": {},
   "outputs": [
    {
     "name": "stdout",
     "output_type": "stream",
     "text": [
      "39771\n"
     ]
    }
   ],
   "source": [
    "print(len(testbati2021))"
   ]
  },
  {
   "cell_type": "code",
   "execution_count": 41,
   "metadata": {},
   "outputs": [],
   "source": [
    "result2021surfacebati5 = testbati2021.drop_duplicates(subset=['Date_réception_DPE', 'Adresse_Normalisee', 'Surface_habitable_logement', 'Valeur fonciere', 'N°_étage_appartement', 'Etiquette_DPE', \"Complément_d'adresse_logement\", \"Complément_d'adresse_bâtiment\", \"Date_établissement_DPE\"])"
   ]
  },
  {
   "cell_type": "code",
   "execution_count": 42,
   "metadata": {},
   "outputs": [
    {
     "name": "stdout",
     "output_type": "stream",
     "text": [
      "37772\n"
     ]
    }
   ],
   "source": [
    "print(len(result2021surfacebati5))"
   ]
  },
  {
   "cell_type": "markdown",
   "metadata": {},
   "source": [
    "COMPILER LES DEUX "
   ]
  },
  {
   "cell_type": "code",
   "execution_count": 44,
   "metadata": {},
   "outputs": [],
   "source": [
    "resultsurfacereelle5 = compiler_dataframes(resultsurfacebati5, result2021surfacebati5)"
   ]
  },
  {
   "cell_type": "code",
   "execution_count": 45,
   "metadata": {},
   "outputs": [
    {
     "name": "stdout",
     "output_type": "stream",
     "text": [
      "180698\n"
     ]
    }
   ],
   "source": [
    "print(len(resultsurfacereelle5))"
   ]
  },
  {
   "cell_type": "code",
   "execution_count": 46,
   "metadata": {},
   "outputs": [],
   "source": [
    "result2021surfacebati5.to_csv(\"result5%_surfacereellebati.csv\", index=False)"
   ]
  },
  {
   "cell_type": "markdown",
   "metadata": {},
   "source": [
    "COMPIL FICHIERS 2021 2022 LOGEMENTS EXISTANTS AVEC SURFACE CARREZ"
   ]
  },
  {
   "cell_type": "code",
   "execution_count": 20,
   "metadata": {},
   "outputs": [
    {
     "name": "stderr",
     "output_type": "stream",
     "text": [
      "/var/folders/bf/ymcp1z4s7n77n5bhz3q_hgqc0000gn/T/ipykernel_6681/618417549.py:1: DtypeWarning: Columns (14,15,30,52,58,60,62,65,67,75) have mixed types. Specify dtype option on import or set low_memory=False.\n",
      "  existant5 = pd.read_csv(\"result5%.csv\")\n"
     ]
    }
   ],
   "source": [
    "existant5 = pd.read_csv(\"result5%.csv\")"
   ]
  },
  {
   "cell_type": "code",
   "execution_count": 21,
   "metadata": {},
   "outputs": [],
   "source": [
    "final = compiler_dataframes(existant5, dfexistant2021)"
   ]
  },
  {
   "cell_type": "code",
   "execution_count": 22,
   "metadata": {},
   "outputs": [
    {
     "name": "stdout",
     "output_type": "stream",
     "text": [
      "99084\n"
     ]
    }
   ],
   "source": [
    "print(len(final))"
   ]
  },
  {
   "cell_type": "code",
   "execution_count": 23,
   "metadata": {},
   "outputs": [],
   "source": [
    "final.to_csv(\"result5%_surfacecarrez.csv\", index=False)"
   ]
  }
 ],
 "metadata": {
  "kernelspec": {
   "display_name": "Python 3",
   "language": "python",
   "name": "python3"
  },
  "language_info": {
   "codemirror_mode": {
    "name": "ipython",
    "version": 3
   },
   "file_extension": ".py",
   "mimetype": "text/x-python",
   "name": "python",
   "nbconvert_exporter": "python",
   "pygments_lexer": "ipython3",
   "version": "3.12.1"
  }
 },
 "nbformat": 4,
 "nbformat_minor": 2
}

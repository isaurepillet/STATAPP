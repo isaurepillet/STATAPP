{
 "cells": [
  {
   "cell_type": "markdown",
   "metadata": {},
   "source": [
    "# 0. Initialisation"
   ]
  },
  {
   "cell_type": "code",
   "execution_count": 16,
   "metadata": {},
   "outputs": [],
   "source": [
    "import pandas as pd\n",
    "import numpy as np \n",
    "from helpers import s3_connection"
   ]
  },
  {
   "cell_type": "code",
   "execution_count": 17,
   "metadata": {},
   "outputs": [
    {
     "name": "stdout",
     "output_type": "stream",
     "text": [
      "Connection successful\n"
     ]
    }
   ],
   "source": [
    "s3 = s3_connection()"
   ]
  },
  {
   "cell_type": "markdown",
   "metadata": {},
   "source": [
    "# 1. Ouverture des fichiers"
   ]
  },
  {
   "cell_type": "markdown",
   "metadata": {},
   "source": [
    "## 1.1. DPE"
   ]
  },
  {
   "cell_type": "code",
   "execution_count": 3,
   "metadata": {},
   "outputs": [
    {
     "name": "stdout",
     "output_type": "stream",
     "text": [
      "        nom_methode_dpe   version_methode_dpe date_etablissement_dpe  \\\n",
      "0                   3CL  3CL-DPE, version 1.3             2013-04-12   \n",
      "1       Méthode Facture                   NaN             2013-04-15   \n",
      "2                   3CL           Version 1.3             2013-04-08   \n",
      "3                   3CL           Version 1.3             2013-04-05   \n",
      "4           Méthode 3CL  3CL-DPE, version 1.3             2013-04-16   \n",
      "...                 ...                   ...                    ...   \n",
      "116657        3CL - DPE                 V2012             2021-06-30   \n",
      "116658        3CL - DPE                 V2012             2021-06-30   \n",
      "116659  Méthode Facture                   NaN             2021-09-29   \n",
      "116660         Factures                  2012             2021-06-21   \n",
      "116661              3CL           Version 1.3             2021-02-01   \n",
      "\n",
      "       classe_consommation_energie classe_estimation_ges  annee_construction  \\\n",
      "0                                C                     D                5200   \n",
      "1                                E                     B                   1   \n",
      "2                                E                     C                1976   \n",
      "3                                C                     D                2004   \n",
      "4                                D                     C                2000   \n",
      "...                            ...                   ...                 ...   \n",
      "116657                           C                     D                2004   \n",
      "116658                           C                     D                2004   \n",
      "116659                           B                     C                1947   \n",
      "116660                           E                     B                1948   \n",
      "116661                           B                     A                2019   \n",
      "\n",
      "        surface_habitable                  commune arrondissement  \\\n",
      "0                  190.00    SAINT-MARTIN-DU-FRÊNE            NaN   \n",
      "1                  106.87                   PONCIN            NaN   \n",
      "2                  102.38            Saint-Bernard              -   \n",
      "3                  114.80                CHALAMONT              -   \n",
      "4                  120.62                    ÉTREZ            NaN   \n",
      "...                   ...                      ...            ...   \n",
      "116657              73.35  SAINT-DIDIER-DE-FORMANS             00   \n",
      "116658              72.60  SAINT-DIDIER-DE-FORMANS             00   \n",
      "116659              56.73          BOURG EN BRESSE            NaN   \n",
      "116660              28.23          BOURG EN BRESSE              0   \n",
      "116661              93.73                 CIVRIEUX              -   \n",
      "\n",
      "                                nom_rue  ...         date_reception_dpe  \\\n",
      "0                 3, Impasse du Tilleul  ...  2013-04-11T04:00:00+02:00   \n",
      "1                  11 Avenue du Château  ...  2013-04-15T04:00:00+02:00   \n",
      "2              212 Chemin de la Bruyère  ...  2013-04-15T04:00:00+02:00   \n",
      "3       6 Lotissement Le Parc des Ormes  ...  2013-04-15T04:00:00+02:00   \n",
      "4                     Village d'en Haut  ...  2013-04-16T04:00:00+02:00   \n",
      "...                                 ...  ...                        ...   \n",
      "116657                     de la Mairie  ...  2021-09-28T13:59:56+02:00   \n",
      "116658                     de la Mairie  ...  2021-09-28T14:00:34+02:00   \n",
      "116659         48 Rue Gabrielle Vicaire  ...  2021-09-29T11:59:02+02:00   \n",
      "116660            2 rue Général Debeney  ...  2021-10-03T17:32:34+02:00   \n",
      "116661   191 ET 193 ROUTE DU BOIS RAVAT  ...  2021-10-22T18:26:29+02:00   \n",
      "\n",
      "       longitude   latitude geo_score     geo_type  \\\n",
      "0       5.317098  46.040911      0.40  housenumber   \n",
      "1       5.230195  45.927488      0.58       street   \n",
      "2       6.925973  48.373139      0.76    poi.track   \n",
      "3            NaN        NaN      0.00          NaN   \n",
      "4            NaN        NaN      0.00          NaN   \n",
      "...          ...        ...       ...          ...   \n",
      "116657       NaN        NaN      0.00          NaN   \n",
      "116658       NaN        NaN      0.00          NaN   \n",
      "116659  5.221149  46.208009      0.82  housenumber   \n",
      "116660  5.224275  46.206048      0.96  housenumber   \n",
      "116661       NaN        NaN      0.00          NaN   \n",
      "\n",
      "                                         geo_adresse  \\\n",
      "0            3 Impasse du Foyer Rural 01160 Varambon   \n",
      "1          Rue du Chateau 01800 Villieu-Loyes-Mollon   \n",
      "2                  Chemin de la Bruyère Moyenmoutier   \n",
      "3                                                NaN   \n",
      "4                                                NaN   \n",
      "...                                              ...   \n",
      "116657                                           NaN   \n",
      "116658                                           NaN   \n",
      "116659  48 Rue Gabriel Vicaire 01000 Bourg-en-Bresse   \n",
      "116660   2 Rue General Debeney 01000 Bourg-en-Bresse   \n",
      "116661                                           NaN   \n",
      "\n",
      "                               geo_id                    geo_l4 geo_l5  \\\n",
      "0                    01430_0070_00003  3 IMPASSE DU FOYER RURAL    NaN   \n",
      "1                          01450_0280            RUE DU CHATEAU    NaN   \n",
      "2       https://osm.org/way/152320939                       NaN    NaN   \n",
      "3                                 NaN                       NaN    NaN   \n",
      "4                                 NaN                       NaN    NaN   \n",
      "...                               ...                       ...    ...   \n",
      "116657                            NaN                       NaN    NaN   \n",
      "116658                            NaN                       NaN    NaN   \n",
      "116659               01053_1610_00048    48 RUE GABRIEL VICAIRE    NaN   \n",
      "116660               01053_1640_00002     2 RUE GENERAL DEBENEY    NaN   \n",
      "116661                            NaN                       NaN    NaN   \n",
      "\n",
      "       code_insee_commune_actualise  \n",
      "0                             01430  \n",
      "1                             01450  \n",
      "2                             63000  \n",
      "3                             63000  \n",
      "4                             01340  \n",
      "...                             ...  \n",
      "116657                         1347  \n",
      "116658                         1347  \n",
      "116659                        01053  \n",
      "116660                        01053  \n",
      "116661                        63000  \n",
      "\n",
      "[116662 rows x 29 columns]\n"
     ]
    },
    {
     "name": "stderr",
     "output_type": "stream",
     "text": [
      "/home/onyxia/work/STATAPP/helpers.py:38: DtypeWarning: Columns (16) have mixed types. Specify dtype option on import or set low_memory=False.\n",
      "  df = pd.read_csv(file_in, usecols=columns_to_select, dtype=dtype_spec)\n"
     ]
    }
   ],
   "source": [
    "path_DPE1 = \"clichere/DPE/DPE_source/dpe-1.csv\"\n",
    "\n",
    "DPE1 = s3.read_csv_from_s3(path_DPE1)\n",
    "\n",
    "print(DPE1)"
   ]
  },
  {
   "cell_type": "code",
   "execution_count": 4,
   "metadata": {},
   "outputs": [
    {
     "name": "stdout",
     "output_type": "stream",
     "text": [
      "Index(['nom_methode_dpe', 'version_methode_dpe', 'date_etablissement_dpe',\n",
      "       'classe_consommation_energie', 'classe_estimation_ges',\n",
      "       'annee_construction', 'surface_habitable', 'commune', 'arrondissement',\n",
      "       'nom_rue', 'type_voie', 'numero_rue', 'batiment', 'escalier', 'etage',\n",
      "       'porte', 'code_postal', 'code_insee_commune', 'numero_lot',\n",
      "       'date_reception_dpe', 'longitude', 'latitude', 'geo_score', 'geo_type',\n",
      "       'geo_adresse', 'geo_id', 'geo_l4', 'geo_l5',\n",
      "       'code_insee_commune_actualise'],\n",
      "      dtype='object')\n"
     ]
    }
   ],
   "source": [
    "print(DPE1.columns)"
   ]
  },
  {
   "cell_type": "markdown",
   "metadata": {},
   "source": [
    "## 1.2. Valeurs foncières"
   ]
  },
  {
   "cell_type": "code",
   "execution_count": 18,
   "metadata": {},
   "outputs": [
    {
     "ename": "AttributeError",
     "evalue": "'s3_connection' object has no attribute 'read_text_file_from_s3'",
     "output_type": "error",
     "traceback": [
      "\u001b[0;31m---------------------------------------------------------------------------\u001b[0m",
      "\u001b[0;31mAttributeError\u001b[0m                            Traceback (most recent call last)",
      "Cell \u001b[0;32mIn[18], line 3\u001b[0m\n\u001b[1;32m      1\u001b[0m \u001b[38;5;66;03m# Problème lors de l'ouverture du fichier : à debug\u001b[39;00m\n\u001b[1;32m      2\u001b[0m path_valeursfoncieres_2021 \u001b[38;5;241m=\u001b[39m \u001b[38;5;124m\"\u001b[39m\u001b[38;5;124mValeursfoncieres/valeursfonciere-2021.txt\u001b[39m\u001b[38;5;124m\"\u001b[39m\n\u001b[0;32m----> 3\u001b[0m vf2021 \u001b[38;5;241m=\u001b[39m \u001b[43ms3\u001b[49m\u001b[38;5;241;43m.\u001b[39;49m\u001b[43mread_text_file_from_s3\u001b[49m(path_valeursfoncieres_2021)\n",
      "\u001b[0;31mAttributeError\u001b[0m: 's3_connection' object has no attribute 'read_text_file_from_s3'"
     ]
    }
   ],
   "source": [
    "# Problème lors de l'ouverture du fichier : à debug\n",
    "path_valeursfoncieres_2021 = \"Valeursfoncieres/valeursfonciere-2021.txt\"\n",
    "vf2021 = s3.read_text_file_from_s3(path_valeursfoncieres_2021)"
   ]
  }
 ],
 "metadata": {
  "kernelspec": {
   "display_name": "base",
   "language": "python",
   "name": "python3"
  },
  "language_info": {
   "codemirror_mode": {
    "name": "ipython",
    "version": 3
   },
   "file_extension": ".py",
   "mimetype": "text/x-python",
   "name": "python",
   "nbconvert_exporter": "python",
   "pygments_lexer": "ipython3",
   "version": "3.12.7"
  }
 },
 "nbformat": 4,
 "nbformat_minor": 2
}

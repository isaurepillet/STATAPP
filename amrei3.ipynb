{
 "cells": [
  {
   "cell_type": "markdown",
   "metadata": {},
   "source": [
    "## **Analyse des données avant merge des bases**"
   ]
  },
  {
   "cell_type": "code",
   "execution_count": 2,
   "metadata": {},
   "outputs": [],
   "source": [
    "import pandas as pd\n",
    "import numpy as np \n",
    "from helpers2 import S3Connection\n",
    "import helpers2 \n",
    "import matplotlib.pyplot as plt"
   ]
  },
  {
   "cell_type": "code",
   "execution_count": 3,
   "metadata": {},
   "outputs": [
    {
     "name": "stdout",
     "output_type": "stream",
     "text": [
      "Connection successful\n"
     ]
    }
   ],
   "source": [
    "s3 = S3Connection(bucket_name=\"clichere/diffusion\")"
   ]
  },
  {
   "cell_type": "code",
   "execution_count": 4,
   "metadata": {},
   "outputs": [],
   "source": [
    "path1 = \"DPE/DPE_après_2021.parquet\"\n",
    "DPE = s3.get_tables_from_s3(path1)"
   ]
  },
  {
   "cell_type": "code",
   "execution_count": 5,
   "metadata": {},
   "outputs": [],
   "source": [
    "path2 = \"Valeursfoncières/vf.parquet\"\n",
    "vf = s3.get_tables_from_s3(path2)"
   ]
  },
  {
   "cell_type": "markdown",
   "metadata": {},
   "source": [
    "### **premières statistiques descriptives**"
   ]
  },
  {
   "cell_type": "code",
   "execution_count": 6,
   "metadata": {},
   "outputs": [
    {
     "data": {
      "text/plain": [
       "Index(['Date_établissement_DPE', 'Modèle_DPE', 'Version_DPE', 'Etiquette_DPE',\n",
       "       'Etiquette_GES', 'Année_construction', 'Type_bâtiment',\n",
       "       'Période_construction', 'Surface_habitable_logement',\n",
       "       'Code_INSEE_(BAN)', 'Adresse_(BAN)', 'Score_BAN',\n",
       "       'Coordonnée_cartographique_X_(BAN)',\n",
       "       'Coordonnée_cartographique_Y_(BAN)', 'N°_étage_appartement',\n",
       "       'N°_région_(BAN)'],\n",
       "      dtype='object')"
      ]
     },
     "execution_count": 6,
     "metadata": {},
     "output_type": "execute_result"
    }
   ],
   "source": [
    "DPE.columns"
   ]
  },
  {
   "cell_type": "code",
   "execution_count": 7,
   "metadata": {},
   "outputs": [
    {
     "name": "stdout",
     "output_type": "stream",
     "text": [
      "Nombre de lignes par colonnes: 4074868\n",
      "Nombre total de NaN : 2570649\n",
      "Les 10 colonnes avec le plus de NaN :\n",
      "Année_construction                   1257443\n",
      "N°_étage_appartement                 1163134\n",
      "Surface_habitable_logement             44799\n",
      "Adresse_(BAN)                          22236\n",
      "N°_région_(BAN)                        18877\n",
      "Coordonnée_cartographique_Y_(BAN)      16040\n",
      "Code_INSEE_(BAN)                       16040\n",
      "Score_BAN                              16040\n",
      "Coordonnée_cartographique_X_(BAN)      16040\n",
      "Période_construction                       0\n",
      "dtype: int64\n"
     ]
    }
   ],
   "source": [
    "print(\"Nombre de lignes par colonnes:\", len(DPE))\n",
    "total_nan = DPE.isna().sum().sum()\n",
    "print(f\"Nombre total de NaN : {total_nan}\")\n",
    "nan_par_colonne = DPE.isna().sum()\n",
    "top_10_nan_colonnes = nan_par_colonne.sort_values(ascending=False).head(10)\n",
    "print(\"Les 10 colonnes avec le plus de NaN :\")\n",
    "print(top_10_nan_colonnes)"
   ]
  },
  {
   "cell_type": "code",
   "execution_count": null,
   "metadata": {},
   "outputs": [],
   "source": []
  }
 ],
 "metadata": {
  "kernelspec": {
   "display_name": "base",
   "language": "python",
   "name": "python3"
  },
  "language_info": {
   "codemirror_mode": {
    "name": "ipython",
    "version": 3
   },
   "file_extension": ".py",
   "mimetype": "text/x-python",
   "name": "python",
   "nbconvert_exporter": "python",
   "pygments_lexer": "ipython3",
   "version": "3.12.9"
  }
 },
 "nbformat": 4,
 "nbformat_minor": 2
}
